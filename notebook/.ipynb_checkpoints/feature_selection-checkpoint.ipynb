{
 "cells": [
  {
   "cell_type": "code",
   "execution_count": 53,
   "id": "976dd40b",
   "metadata": {
    "scrolled": true
   },
   "outputs": [],
   "source": [
    "import pandas as pd\n",
    "import numpy as np\n",
    "import matplotlib.pyplot as plt\n",
    "import lightgbm as lgb\n",
    "from sklearn.model_selection import StratifiedKFold,KFold\n",
    "from sklearn.preprocessing import LabelEncoder\n",
    "from sklearn.metrics import log_loss\n",
    "import plotly.graph_objects as go\n",
    "from plotly.subplots import make_subplots\n",
    "import itertools\n",
    "from utils import *\n",
    "import shap\n",
    "pd.set_option(\"display.max_rows\",100)"
   ]
  },
  {
   "cell_type": "code",
   "execution_count": 31,
   "id": "1342ec40",
   "metadata": {},
   "outputs": [],
   "source": [
    "dataset_df = pd.read_csv(r\"C:\\Users\\ghibl\\ICR\\data\\input\\all_features.csv\")\n",
    "dataset_df.drop(\"Id\",axis = 1, inplace = True)"
   ]
  },
  {
   "cell_type": "code",
   "execution_count": 32,
   "id": "7ddf7b06",
   "metadata": {},
   "outputs": [],
   "source": [
    "X_df = dataset_df.drop(\"Class\",axis =1)\n",
    "y_df = dataset_df[\"Class\"].copy()\n"
   ]
  },
  {
   "cell_type": "code",
   "execution_count": 33,
   "id": "f854abfe",
   "metadata": {
    "scrolled": true
   },
   "outputs": [
    {
     "data": {
      "text/plain": [
       "array([1, 0], dtype=int64)"
      ]
     },
     "execution_count": 33,
     "metadata": {},
     "output_type": "execute_result"
    }
   ],
   "source": [
    "y_df.unique()"
   ]
  },
  {
   "cell_type": "code",
   "execution_count": 34,
   "id": "8bfce26d",
   "metadata": {},
   "outputs": [
    {
     "data": {
      "text/plain": [
       "0.6931471805599452"
      ]
     },
     "execution_count": 34,
     "metadata": {},
     "output_type": "execute_result"
    }
   ],
   "source": [
    "dtrain = lgb.Dataset(X_df.values, label = y_df.values)\n",
    "y_true = dtrain.get_label()\n",
    "y_pred = np.array([0.5]*len(y_true))\n",
    "balanced_logloss(y_pred,y_true)\n"
   ]
  },
  {
   "cell_type": "code",
   "execution_count": 35,
   "id": "eed9a63c",
   "metadata": {},
   "outputs": [
    {
     "name": "stdout",
     "output_type": "stream",
     "text": [
      "[10]\ttrain's balanced_logloss: 0.596008\tvalid's balanced_logloss: 0.631429\n",
      "[20]\ttrain's balanced_logloss: 0.549676\tvalid's balanced_logloss: 0.603006\n",
      "[30]\ttrain's balanced_logloss: 0.527021\tvalid's balanced_logloss: 0.592331\n",
      "[40]\ttrain's balanced_logloss: 0.515497\tvalid's balanced_logloss: 0.584424\n",
      "[50]\ttrain's balanced_logloss: 0.509649\tvalid's balanced_logloss: 0.579143\n",
      "[60]\ttrain's balanced_logloss: 0.506547\tvalid's balanced_logloss: 0.576285\n",
      "[70]\ttrain's balanced_logloss: 0.504955\tvalid's balanced_logloss: 0.573492\n",
      "[80]\ttrain's balanced_logloss: 0.504097\tvalid's balanced_logloss: 0.57078\n",
      "[90]\ttrain's balanced_logloss: 0.503661\tvalid's balanced_logloss: 0.569106\n",
      "[100]\ttrain's balanced_logloss: 0.503436\tvalid's balanced_logloss: 0.569319\n",
      "balanced_logloss:0.5680\n",
      "[10]\ttrain's balanced_logloss: 0.597103\tvalid's balanced_logloss: 0.62296\n",
      "[20]\ttrain's balanced_logloss: 0.550506\tvalid's balanced_logloss: 0.599065\n",
      "[30]\ttrain's balanced_logloss: 0.527853\tvalid's balanced_logloss: 0.584692\n",
      "[40]\ttrain's balanced_logloss: 0.516124\tvalid's balanced_logloss: 0.575636\n",
      "[50]\ttrain's balanced_logloss: 0.510043\tvalid's balanced_logloss: 0.570364\n",
      "[60]\ttrain's balanced_logloss: 0.506768\tvalid's balanced_logloss: 0.566641\n",
      "[70]\ttrain's balanced_logloss: 0.505054\tvalid's balanced_logloss: 0.565396\n",
      "[80]\ttrain's balanced_logloss: 0.504195\tvalid's balanced_logloss: 0.563407\n",
      "[90]\ttrain's balanced_logloss: 0.503715\tvalid's balanced_logloss: 0.563859\n",
      "[100]\ttrain's balanced_logloss: 0.503474\tvalid's balanced_logloss: 0.562778\n",
      "[110]\ttrain's balanced_logloss: 0.503344\tvalid's balanced_logloss: 0.563399\n",
      "balanced_logloss:0.5627\n",
      "[10]\ttrain's balanced_logloss: 0.595436\tvalid's balanced_logloss: 0.641259\n",
      "[20]\ttrain's balanced_logloss: 0.550936\tvalid's balanced_logloss: 0.619196\n",
      "[30]\ttrain's balanced_logloss: 0.527794\tvalid's balanced_logloss: 0.607947\n",
      "[40]\ttrain's balanced_logloss: 0.515397\tvalid's balanced_logloss: 0.601531\n",
      "[50]\ttrain's balanced_logloss: 0.509011\tvalid's balanced_logloss: 0.596219\n",
      "[60]\ttrain's balanced_logloss: 0.506084\tvalid's balanced_logloss: 0.591865\n",
      "[70]\ttrain's balanced_logloss: 0.504614\tvalid's balanced_logloss: 0.592885\n",
      "[80]\ttrain's balanced_logloss: 0.503916\tvalid's balanced_logloss: 0.590737\n",
      "[90]\ttrain's balanced_logloss: 0.50357\tvalid's balanced_logloss: 0.58949\n",
      "[100]\ttrain's balanced_logloss: 0.503383\tvalid's balanced_logloss: 0.589902\n",
      "[110]\ttrain's balanced_logloss: 0.503295\tvalid's balanced_logloss: 0.589452\n",
      "[120]\ttrain's balanced_logloss: 0.50325\tvalid's balanced_logloss: 0.588989\n",
      "[130]\ttrain's balanced_logloss: 0.503228\tvalid's balanced_logloss: 0.587948\n",
      "[140]\ttrain's balanced_logloss: 0.503218\tvalid's balanced_logloss: 0.587212\n",
      "[150]\ttrain's balanced_logloss: 0.503213\tvalid's balanced_logloss: 0.585769\n",
      "[160]\ttrain's balanced_logloss: 0.50321\tvalid's balanced_logloss: 0.58553\n",
      "[170]\ttrain's balanced_logloss: 0.503209\tvalid's balanced_logloss: 0.585036\n",
      "[180]\ttrain's balanced_logloss: 0.503209\tvalid's balanced_logloss: 0.584833\n",
      "[190]\ttrain's balanced_logloss: 0.503208\tvalid's balanced_logloss: 0.584627\n",
      "[200]\ttrain's balanced_logloss: 0.503208\tvalid's balanced_logloss: 0.584991\n",
      "[210]\ttrain's balanced_logloss: 0.503208\tvalid's balanced_logloss: 0.58485\n",
      "balanced_logloss:0.5845\n",
      "[10]\ttrain's balanced_logloss: 0.596537\tvalid's balanced_logloss: 0.621496\n",
      "[20]\ttrain's balanced_logloss: 0.550792\tvalid's balanced_logloss: 0.594318\n",
      "[30]\ttrain's balanced_logloss: 0.52837\tvalid's balanced_logloss: 0.579837\n",
      "[40]\ttrain's balanced_logloss: 0.516159\tvalid's balanced_logloss: 0.573194\n",
      "[50]\ttrain's balanced_logloss: 0.509757\tvalid's balanced_logloss: 0.569106\n",
      "[60]\ttrain's balanced_logloss: 0.506673\tvalid's balanced_logloss: 0.56468\n",
      "[70]\ttrain's balanced_logloss: 0.50496\tvalid's balanced_logloss: 0.558636\n",
      "[80]\ttrain's balanced_logloss: 0.504129\tvalid's balanced_logloss: 0.557785\n",
      "[90]\ttrain's balanced_logloss: 0.503686\tvalid's balanced_logloss: 0.555378\n",
      "[100]\ttrain's balanced_logloss: 0.503449\tvalid's balanced_logloss: 0.553278\n",
      "[110]\ttrain's balanced_logloss: 0.50333\tvalid's balanced_logloss: 0.551779\n",
      "[120]\ttrain's balanced_logloss: 0.50327\tvalid's balanced_logloss: 0.550659\n",
      "[130]\ttrain's balanced_logloss: 0.503239\tvalid's balanced_logloss: 0.550882\n",
      "[140]\ttrain's balanced_logloss: 0.503223\tvalid's balanced_logloss: 0.550892\n",
      "[150]\ttrain's balanced_logloss: 0.503216\tvalid's balanced_logloss: 0.550315\n",
      "[160]\ttrain's balanced_logloss: 0.503212\tvalid's balanced_logloss: 0.548774\n",
      "[170]\ttrain's balanced_logloss: 0.50321\tvalid's balanced_logloss: 0.549079\n",
      "[180]\ttrain's balanced_logloss: 0.503209\tvalid's balanced_logloss: 0.547571\n",
      "[190]\ttrain's balanced_logloss: 0.503209\tvalid's balanced_logloss: 0.54717\n",
      "[200]\ttrain's balanced_logloss: 0.503208\tvalid's balanced_logloss: 0.546755\n",
      "[210]\ttrain's balanced_logloss: 0.503208\tvalid's balanced_logloss: 0.546285\n",
      "[220]\ttrain's balanced_logloss: 0.503208\tvalid's balanced_logloss: 0.546393\n",
      "[230]\ttrain's balanced_logloss: 0.503208\tvalid's balanced_logloss: 0.546308\n",
      "[240]\ttrain's balanced_logloss: 0.503207\tvalid's balanced_logloss: 0.546239\n",
      "[250]\ttrain's balanced_logloss: 0.503207\tvalid's balanced_logloss: 0.545825\n",
      "[260]\ttrain's balanced_logloss: 0.503207\tvalid's balanced_logloss: 0.545676\n",
      "[270]\ttrain's balanced_logloss: 0.503207\tvalid's balanced_logloss: 0.545395\n",
      "[280]\ttrain's balanced_logloss: 0.503207\tvalid's balanced_logloss: 0.545285\n",
      "[290]\ttrain's balanced_logloss: 0.503207\tvalid's balanced_logloss: 0.545051\n",
      "[300]\ttrain's balanced_logloss: 0.503207\tvalid's balanced_logloss: 0.545147\n",
      "[310]\ttrain's balanced_logloss: 0.503207\tvalid's balanced_logloss: 0.545223\n",
      "balanced_logloss:0.5450\n",
      "0.5650460215528431\n"
     ]
    }
   ],
   "source": [
    "fs = X_df.columns\n",
    "scores= []\n",
    "evals_result = {}\n",
    "skf = StratifiedKFold(n_splits = 4, shuffle = True, random_state = 42)\n",
    "\n",
    "for tr_idx, va_idx in skf.split(X_df, y_df):\n",
    "    X_train, X_valid = X_df.iloc[tr_idx], X_df.iloc[va_idx]\n",
    "    y_train, y_valid = y_df.iloc[tr_idx], y_df.iloc[va_idx]\n",
    "    \n",
    "    dtrain = lgb.Dataset(X_train.values, label = y_train.values)\n",
    "    dvalid = lgb.Dataset(X_valid.values, label = y_valid.values)\n",
    "\n",
    "    evals_result = {}\n",
    "    params = {'metric':'custom',\n",
    "              'objective':'binary',\n",
    "              'verbosity':-1,\n",
    "              'random_state' : 42, \n",
    "              'learning_rate': 0.1,\n",
    "              'early_stopping_round':20\n",
    "             }\n",
    "\n",
    "    callbacks = [lgb.early_stopping(20, verbose=0), lgb.log_evaluation(period=10)]\n",
    "    model = lgb.train(params,\n",
    "                      dtrain, \n",
    "                      num_boost_round = 500,\n",
    "                      valid_sets = [dtrain,dvalid],\n",
    "                      valid_names = ['train','valid'],\n",
    "                      feval = original_balanced_logloss_metric,\n",
    "                      callbacks = callbacks\n",
    "                     )\n",
    "    score = model.best_score['valid']['balanced_logloss']\n",
    "    scores.append(score)\n",
    "    print(f'balanced_logloss:{score:.4f}')\n",
    "score_cv = np.mean(scores)\n",
    "print(score_cv)"
   ]
  },
  {
   "cell_type": "code",
   "execution_count": 36,
   "id": "71024a07",
   "metadata": {
    "scrolled": true
   },
   "outputs": [
    {
     "name": "stdout",
     "output_type": "stream",
     "text": [
      "[10]\ttrain's balanced_logloss: 0.35393\tvalid's balanced_logloss: 0.494908\n",
      "[20]\ttrain's balanced_logloss: 0.192145\tvalid's balanced_logloss: 0.383373\n",
      "[30]\ttrain's balanced_logloss: 0.106155\tvalid's balanced_logloss: 0.349127\n",
      "[40]\ttrain's balanced_logloss: 0.0558039\tvalid's balanced_logloss: 0.360636\n",
      "[50]\ttrain's balanced_logloss: 0.0297802\tvalid's balanced_logloss: 0.35916\n",
      "balanced_logloss:0.3471\n",
      "[10]\ttrain's balanced_logloss: 0.340819\tvalid's balanced_logloss: 0.438081\n",
      "[20]\ttrain's balanced_logloss: 0.189033\tvalid's balanced_logloss: 0.383351\n",
      "[30]\ttrain's balanced_logloss: 0.106254\tvalid's balanced_logloss: 0.389613\n",
      "[40]\ttrain's balanced_logloss: 0.0586389\tvalid's balanced_logloss: 0.382897\n",
      "[50]\ttrain's balanced_logloss: 0.0312646\tvalid's balanced_logloss: 0.367835\n",
      "[60]\ttrain's balanced_logloss: 0.0165526\tvalid's balanced_logloss: 0.388008\n",
      "[70]\ttrain's balanced_logloss: 0.00875119\tvalid's balanced_logloss: 0.413369\n",
      "balanced_logloss:0.3678\n",
      "[10]\ttrain's balanced_logloss: 0.337247\tvalid's balanced_logloss: 0.551669\n",
      "[20]\ttrain's balanced_logloss: 0.195299\tvalid's balanced_logloss: 0.533657\n",
      "[30]\ttrain's balanced_logloss: 0.105731\tvalid's balanced_logloss: 0.547296\n",
      "balanced_logloss:0.5237\n",
      "[10]\ttrain's balanced_logloss: 0.350797\tvalid's balanced_logloss: 0.428541\n",
      "[20]\ttrain's balanced_logloss: 0.200023\tvalid's balanced_logloss: 0.352083\n",
      "[30]\ttrain's balanced_logloss: 0.112266\tvalid's balanced_logloss: 0.328612\n",
      "[40]\ttrain's balanced_logloss: 0.0601306\tvalid's balanced_logloss: 0.317994\n",
      "[50]\ttrain's balanced_logloss: 0.0327875\tvalid's balanced_logloss: 0.323382\n",
      "[60]\ttrain's balanced_logloss: 0.0172162\tvalid's balanced_logloss: 0.32034\n",
      "[70]\ttrain's balanced_logloss: 0.0089236\tvalid's balanced_logloss: 0.318972\n",
      "[80]\ttrain's balanced_logloss: 0.00477992\tvalid's balanced_logloss: 0.335596\n",
      "balanced_logloss:0.3113\n",
      "0.38747571516830626\n"
     ]
    }
   ],
   "source": [
    "fs = X_df.columns\n",
    "scores= []\n",
    "evals_results = []\n",
    "models = []\n",
    "skf = StratifiedKFold(n_splits = 4, shuffle = True, random_state = 42)\n",
    "\n",
    "for tr_idx, va_idx in skf.split(X_df, y_df):\n",
    "    X_train, X_valid = X_df.iloc[tr_idx], X_df.iloc[va_idx]\n",
    "    y_train, y_valid = y_df.iloc[tr_idx], y_df.iloc[va_idx]\n",
    "    \n",
    "    dtrain = lgb.Dataset(X_train, label = y_train)\n",
    "    dvalid = lgb.Dataset(X_valid, label = y_valid)\n",
    "\n",
    "    evals_result = {}\n",
    "    params = {'metric':'custom',\n",
    "              'objective':'custom',\n",
    "              'verbosity':-1,\n",
    "              'random_state' : 42, \n",
    "              'learning_rate': 0.1,\n",
    "              'early_stopping_round':20\n",
    "             }\n",
    "\n",
    "    callbacks = [lgb.early_stopping(20, verbose=0), lgb.log_evaluation(period=10),lgb.record_evaluation(evals_result)]\n",
    "    model = lgb.train(params,\n",
    "                      dtrain, \n",
    "                      num_boost_round = 500,\n",
    "                      valid_sets = [dtrain,dvalid],\n",
    "                      valid_names = ['train','valid'],\n",
    "                      feval = original_balanced_logloss_metric,\n",
    "                      fobj = original_binary_logloss_objective,\n",
    "                      callbacks = callbacks\n",
    "                     )\n",
    "    models.append(model)\n",
    "    evals_results.append(evals_result)\n",
    "    score = model.best_score['valid']['balanced_logloss']\n",
    "    scores.append(score)\n",
    "    print(f'balanced_logloss:{score:.4f}')\n",
    "score_cv = np.mean(scores)\n",
    "print(score_cv)"
   ]
  },
  {
   "cell_type": "markdown",
   "id": "28fd9018",
   "metadata": {},
   "source": [
    "# 0.38349947449517713"
   ]
  },
  {
   "cell_type": "code",
   "execution_count": 37,
   "id": "17536fe0",
   "metadata": {},
   "outputs": [
    {
     "data": {
      "application/vnd.plotly.v1+json": {
       "config": {
        "plotlyServerURL": "https://plot.ly"
       },
       "data": [
        {
         "mode": "lines",
         "name": "train",
         "type": "scatter",
         "x": [
          1,
          2,
          3,
          4,
          5,
          6,
          7,
          8,
          9,
          10,
          11,
          12,
          13,
          14,
          15,
          16,
          17,
          18,
          19,
          20,
          21,
          22,
          23,
          24,
          25,
          26,
          27,
          28,
          29,
          30,
          31,
          32,
          33,
          34,
          35,
          36,
          37,
          38,
          39,
          40,
          41,
          42,
          43,
          44,
          45,
          46,
          47,
          48,
          49,
          50,
          51,
          52,
          53,
          54,
          55
         ],
         "xaxis": "x",
         "y": [
          0.6299149442997429,
          0.5829444308837282,
          0.5379171596136704,
          0.5033518294592576,
          0.4733046340294833,
          0.44718505443782175,
          0.42142556837689704,
          0.3971333136245193,
          0.3775676251919055,
          0.3539295646194342,
          0.3289256032384801,
          0.30656088637003714,
          0.2905199700331724,
          0.2732226127875532,
          0.25669254204345543,
          0.24187340846515692,
          0.22864929720696328,
          0.21590764701150433,
          0.2024169042353001,
          0.19214493154945406,
          0.1794015893556779,
          0.16971807523680438,
          0.16011543728902256,
          0.15147810578714482,
          0.14214476292104958,
          0.13552789991410014,
          0.1271685360933401,
          0.11970947152698524,
          0.11257670828336178,
          0.10615475578174247,
          0.09899763105401546,
          0.09265981555275472,
          0.08663066589922942,
          0.08180904351303776,
          0.07754927956806994,
          0.07219132821616575,
          0.06739080329944741,
          0.06326352132427818,
          0.05955848156283937,
          0.05580390431442433,
          0.05223198908724781,
          0.04919397781152138,
          0.04604240100565534,
          0.043706308186617415,
          0.04115995553287784,
          0.03828462253333144,
          0.03594731497004838,
          0.033975272359362436,
          0.03193682985229143,
          0.02978021590743862,
          0.028154959396226337,
          0.026487548114100517,
          0.025082388555904837,
          0.023452737054473025,
          0.02201414096503588
         ],
         "yaxis": "y"
        },
        {
         "mode": "lines",
         "name": "eval",
         "type": "scatter",
         "x": [
          1,
          2,
          3,
          4,
          5,
          6,
          7,
          8,
          9,
          10,
          11,
          12,
          13,
          14,
          15,
          16,
          17,
          18,
          19,
          20,
          21,
          22,
          23,
          24,
          25,
          26,
          27,
          28,
          29,
          30,
          31,
          32,
          33,
          34,
          35,
          36,
          37,
          38,
          39,
          40,
          41,
          42,
          43,
          44,
          45,
          46,
          47,
          48,
          49,
          50,
          51,
          52,
          53,
          54,
          55
         ],
         "xaxis": "x",
         "y": [
          0.6544146736932714,
          0.6203657015708054,
          0.5976319961353067,
          0.5758855289492548,
          0.5495357931754626,
          0.5341452227544574,
          0.5215613583925545,
          0.5115869000112546,
          0.5058049846809243,
          0.4949079229171864,
          0.48510276756489107,
          0.4624256076167601,
          0.4520107137287462,
          0.44146050798993547,
          0.4366451275843811,
          0.4200999471213425,
          0.40417721180200006,
          0.3949160914085943,
          0.38577297158244006,
          0.38337266048897123,
          0.3820069444407046,
          0.3771492086813586,
          0.36953941823042136,
          0.36664167958916705,
          0.3639440607271184,
          0.3582743423870126,
          0.3550456123671677,
          0.35470387419069227,
          0.34953628466660147,
          0.34912716644474906,
          0.3564068409553579,
          0.35467093199391353,
          0.35450333765558883,
          0.3505256502038011,
          0.3470747539779488,
          0.34911838431044084,
          0.3528340502980415,
          0.35559504915125717,
          0.35999171768368987,
          0.3606363126462141,
          0.35952138233768466,
          0.36789589681453516,
          0.36905802784146263,
          0.36817424794744064,
          0.3662853863792823,
          0.3689428122125362,
          0.3687032204121336,
          0.36219241957712356,
          0.35878725655371646,
          0.35915973000953266,
          0.35390830901793224,
          0.35409689168206787,
          0.3537544460047293,
          0.35410889640665477,
          0.3528949298874506
         ],
         "yaxis": "y"
        },
        {
         "mode": "lines",
         "name": "train",
         "type": "scatter",
         "x": [
          1,
          2,
          3,
          4,
          5,
          6,
          7,
          8,
          9,
          10,
          11,
          12,
          13,
          14,
          15,
          16,
          17,
          18,
          19,
          20,
          21,
          22,
          23,
          24,
          25,
          26,
          27,
          28,
          29,
          30,
          31,
          32,
          33,
          34,
          35,
          36,
          37,
          38,
          39,
          40,
          41,
          42,
          43,
          44,
          45,
          46,
          47,
          48,
          49,
          50,
          51,
          52,
          53,
          54,
          55,
          56,
          57,
          58,
          59,
          60,
          61,
          62,
          63,
          64,
          65,
          66,
          67,
          68,
          69,
          70
         ],
         "xaxis": "x2",
         "y": [
          0.6386638056510876,
          0.5861193326691376,
          0.5417910665230619,
          0.5001710954202647,
          0.470523757064968,
          0.4349463259481364,
          0.412749758901336,
          0.3890735361266478,
          0.36283323878645957,
          0.34081858991595637,
          0.319342853128516,
          0.3021174197983656,
          0.2879956428843423,
          0.2686318663343785,
          0.25333524017541215,
          0.24204280339272383,
          0.22664108120510798,
          0.21245723779569922,
          0.20025622906262985,
          0.18903276114914733,
          0.18052040842767414,
          0.16979984286671254,
          0.1600240902949485,
          0.15152849346366168,
          0.1433865436781557,
          0.1353641898398635,
          0.12755848388837002,
          0.12044626463987512,
          0.11343865060043991,
          0.10625372729751373,
          0.10057401291764037,
          0.09514067538093549,
          0.08884603212096262,
          0.0838998000988928,
          0.0784834979253733,
          0.07441283123774842,
          0.07085899909237392,
          0.06675139397249986,
          0.06266156746212767,
          0.05863894230452733,
          0.0548785912007797,
          0.05083147945025539,
          0.04781093649978181,
          0.04483806779045612,
          0.042012964999716546,
          0.0396662244516935,
          0.03712366719391158,
          0.03508707155050421,
          0.03322119240606546,
          0.03126459493199132,
          0.02927473110537899,
          0.027210426320314392,
          0.025426320164478856,
          0.024110239156504162,
          0.02258112110518401,
          0.02108171729190937,
          0.019843330980101867,
          0.018771237178842673,
          0.0177193264306178,
          0.016552625596631555,
          0.015547071893662114,
          0.014565167156621027,
          0.013621681961225734,
          0.012648954366327968,
          0.01200237310348571,
          0.011339762753039894,
          0.010587383693663712,
          0.010053961333983907,
          0.00941585639743695,
          0.008751186049560327
         ],
         "yaxis": "y2"
        },
        {
         "mode": "lines",
         "name": "eval",
         "type": "scatter",
         "x": [
          1,
          2,
          3,
          4,
          5,
          6,
          7,
          8,
          9,
          10,
          11,
          12,
          13,
          14,
          15,
          16,
          17,
          18,
          19,
          20,
          21,
          22,
          23,
          24,
          25,
          26,
          27,
          28,
          29,
          30,
          31,
          32,
          33,
          34,
          35,
          36,
          37,
          38,
          39,
          40,
          41,
          42,
          43,
          44,
          45,
          46,
          47,
          48,
          49,
          50,
          51,
          52,
          53,
          54,
          55,
          56,
          57,
          58,
          59,
          60,
          61,
          62,
          63,
          64,
          65,
          66,
          67,
          68,
          69,
          70
         ],
         "xaxis": "x2",
         "y": [
          0.6417982649634344,
          0.5947634577099878,
          0.5631475963293007,
          0.5408699020076367,
          0.5183382863038626,
          0.4992994785834287,
          0.4784357914798427,
          0.46480494099110453,
          0.44783876153027574,
          0.43808132395062227,
          0.4284703228777892,
          0.41943425744406065,
          0.41708050409959013,
          0.4078927534702036,
          0.3944520691175398,
          0.3978158426663732,
          0.395620272143992,
          0.3924649564205972,
          0.38679513543019584,
          0.38335131564228475,
          0.3797612983589099,
          0.3841931371597689,
          0.38407760136583824,
          0.37626692444181564,
          0.3761636158664953,
          0.377786390163832,
          0.3832510945441828,
          0.38239600311821864,
          0.3827382963902032,
          0.3896128874160292,
          0.38972302561308947,
          0.38888278311129076,
          0.38713358232710904,
          0.3898311786104345,
          0.37970802713106044,
          0.3844945453457611,
          0.3822723734505581,
          0.38148407588489663,
          0.3832951109437297,
          0.382896718463243,
          0.3763846859098203,
          0.3745932053379766,
          0.37303142109891463,
          0.37631345212617934,
          0.38009103369902636,
          0.3744049326217296,
          0.37179429701732625,
          0.3733846417269193,
          0.37074115096401167,
          0.36783477324427305,
          0.3680229498568248,
          0.375275313211767,
          0.3795542384061966,
          0.38122355225627,
          0.37848477020411686,
          0.37517142413870525,
          0.378176042257914,
          0.3787683637292898,
          0.38151221575837274,
          0.3880076363002974,
          0.3944882497782237,
          0.3960943184774719,
          0.4013173257504712,
          0.40759054627192315,
          0.4095360163434445,
          0.407899917054259,
          0.4124416642801201,
          0.41133037518551746,
          0.41131049462195557,
          0.41336863246229905
         ],
         "yaxis": "y2"
        },
        {
         "mode": "lines",
         "name": "train",
         "type": "scatter",
         "x": [
          1,
          2,
          3,
          4,
          5,
          6,
          7,
          8,
          9,
          10,
          11,
          12,
          13,
          14,
          15,
          16,
          17,
          18,
          19,
          20,
          21,
          22,
          23,
          24,
          25,
          26,
          27,
          28,
          29,
          30,
          31,
          32,
          33,
          34,
          35,
          36
         ],
         "xaxis": "x3",
         "y": [
          0.6310146892900852,
          0.5800678444287697,
          0.5361603146758629,
          0.4953212230388706,
          0.4625363025968535,
          0.4334355799965481,
          0.4064231166819937,
          0.38229769167855127,
          0.35671887596271157,
          0.33724711760809456,
          0.32047942368497423,
          0.3052058235836509,
          0.2906683758804083,
          0.27243284465600826,
          0.25834311407881205,
          0.24357699056019436,
          0.23004030692352484,
          0.21852929179385447,
          0.20639536586629093,
          0.1952985489270449,
          0.18336641950727117,
          0.17429096914906736,
          0.16295592164777215,
          0.15440332909017812,
          0.1445391318580862,
          0.13541180661568208,
          0.12741189124906682,
          0.12066215242539335,
          0.11303535391102991,
          0.10573131782073325,
          0.09929449723442757,
          0.09301720410337215,
          0.08715817909732408,
          0.08181986896241875,
          0.0756799584582003,
          0.0712795634263354
         ],
         "yaxis": "y3"
        },
        {
         "mode": "lines",
         "name": "eval",
         "type": "scatter",
         "x": [
          1,
          2,
          3,
          4,
          5,
          6,
          7,
          8,
          9,
          10,
          11,
          12,
          13,
          14,
          15,
          16,
          17,
          18,
          19,
          20,
          21,
          22,
          23,
          24,
          25,
          26,
          27,
          28,
          29,
          30,
          31,
          32,
          33,
          34,
          35,
          36
         ],
         "xaxis": "x3",
         "y": [
          0.6642259453080475,
          0.6372087845513315,
          0.6182494146299067,
          0.597852045823027,
          0.5836943262129722,
          0.5744522553652316,
          0.5666550647504913,
          0.5614176780362018,
          0.5575044568590801,
          0.55166899659242,
          0.5488367616318041,
          0.543383607565662,
          0.538513226097497,
          0.5364399860217166,
          0.530956348631092,
          0.5236724069493266,
          0.5282118066927054,
          0.5321023388541376,
          0.530179933109762,
          0.533656621928003,
          0.5312289837728794,
          0.5329720013423609,
          0.5318508514934046,
          0.527277149538943,
          0.5298587726137611,
          0.5330609383539349,
          0.541750775071082,
          0.5473544019058838,
          0.5493317861715087,
          0.5472963255576994,
          0.5511521523525209,
          0.5605109073560626,
          0.5641466668502259,
          0.5694549680807748,
          0.5738364392798017,
          0.5843888683130445
         ],
         "yaxis": "y3"
        },
        {
         "mode": "lines",
         "name": "train",
         "type": "scatter",
         "x": [
          1,
          2,
          3,
          4,
          5,
          6,
          7,
          8,
          9,
          10,
          11,
          12,
          13,
          14,
          15,
          16,
          17,
          18,
          19,
          20,
          21,
          22,
          23,
          24,
          25,
          26,
          27,
          28,
          29,
          30,
          31,
          32,
          33,
          34,
          35,
          36,
          37,
          38,
          39,
          40,
          41,
          42,
          43,
          44,
          45,
          46,
          47,
          48,
          49,
          50,
          51,
          52,
          53,
          54,
          55,
          56,
          57,
          58,
          59,
          60,
          61,
          62,
          63,
          64,
          65,
          66,
          67,
          68,
          69,
          70,
          71,
          72,
          73,
          74,
          75,
          76,
          77,
          78,
          79,
          80,
          81,
          82,
          83,
          84,
          85,
          86,
          87
         ],
         "xaxis": "x4",
         "y": [
          0.6344084219433285,
          0.5864814446071906,
          0.5461547036802701,
          0.5015578530389008,
          0.46921766265351705,
          0.4439750654558292,
          0.41889323458313676,
          0.3954883569101618,
          0.36805492564546816,
          0.35079662925946675,
          0.3303266934172011,
          0.3082167843592698,
          0.2953853933432158,
          0.2778356274597922,
          0.26210151543069654,
          0.2502678604717249,
          0.23804960724760155,
          0.226035387822464,
          0.21213486396670767,
          0.2000226959462299,
          0.18907091400913267,
          0.18176546462045368,
          0.17283457288550214,
          0.16200268111552799,
          0.15083399934030367,
          0.14338126501301102,
          0.1347768752247374,
          0.12611674339964662,
          0.11914642718486193,
          0.11226613644516908,
          0.10596943286115024,
          0.09928782567314223,
          0.0936403189690513,
          0.08714035070551104,
          0.0822207742858184,
          0.07719676276938842,
          0.07245597013893543,
          0.06801970489494988,
          0.06437257651138945,
          0.06013059857271165,
          0.056640525898621924,
          0.053586542910815174,
          0.05045041461205374,
          0.047519089346178926,
          0.044740505042446053,
          0.042410278261698235,
          0.03954273551310955,
          0.037294462105069315,
          0.034855323748936004,
          0.03278752653574868,
          0.031034035239748174,
          0.029115968113849165,
          0.02696734172840606,
          0.02544055219127521,
          0.023944626148866416,
          0.022324633828544032,
          0.02091911007081594,
          0.019530799333461177,
          0.018315216297435308,
          0.01721620087690831,
          0.01597326753952818,
          0.01497871382971812,
          0.014060616825942762,
          0.013058789994168379,
          0.012338709731000076,
          0.011585495493869561,
          0.010775114656827817,
          0.01007201757059872,
          0.009436359900952752,
          0.008923601168743706,
          0.008395093980768622,
          0.008005419043527567,
          0.007490891316110243,
          0.006964090018878303,
          0.006564335501700691,
          0.006160002304045354,
          0.005736901554182727,
          0.005390180677840972,
          0.005052341304472042,
          0.004779919010653618,
          0.004467464898044567,
          0.004141614606767333,
          0.003865770945537444,
          0.003610954305496259,
          0.003385119868350001,
          0.003171370526981857,
          0.002971895829145476
         ],
         "yaxis": "y4"
        },
        {
         "mode": "lines",
         "name": "eval",
         "type": "scatter",
         "x": [
          1,
          2,
          3,
          4,
          5,
          6,
          7,
          8,
          9,
          10,
          11,
          12,
          13,
          14,
          15,
          16,
          17,
          18,
          19,
          20,
          21,
          22,
          23,
          24,
          25,
          26,
          27,
          28,
          29,
          30,
          31,
          32,
          33,
          34,
          35,
          36,
          37,
          38,
          39,
          40,
          41,
          42,
          43,
          44,
          45,
          46,
          47,
          48,
          49,
          50,
          51,
          52,
          53,
          54,
          55,
          56,
          57,
          58,
          59,
          60,
          61,
          62,
          63,
          64,
          65,
          66,
          67,
          68,
          69,
          70,
          71,
          72,
          73,
          74,
          75,
          76,
          77,
          78,
          79,
          80,
          81,
          82,
          83,
          84,
          85,
          86,
          87
         ],
         "xaxis": "x4",
         "y": [
          0.6476108337217301,
          0.6087864345646428,
          0.5794913748940809,
          0.537562894710476,
          0.5132220618645441,
          0.48994542063106306,
          0.47079637288549125,
          0.457084511220776,
          0.439790724847406,
          0.42854107313617873,
          0.4207589844402442,
          0.4051924968135129,
          0.40088271917933305,
          0.39532076705862407,
          0.3901918194827495,
          0.38331039007511264,
          0.37791709709775945,
          0.37043244728400904,
          0.35700341777145245,
          0.35208327812233475,
          0.34695804734457947,
          0.3430138529529382,
          0.3378388691883075,
          0.3366174116835694,
          0.33859199934362555,
          0.33783086266711027,
          0.3317803830512758,
          0.33046578326748444,
          0.330243259788742,
          0.32861204482204176,
          0.33009948920617815,
          0.3246909536244464,
          0.32375900813312986,
          0.3233249947735549,
          0.319864317035957,
          0.32286038154558433,
          0.31795397307532186,
          0.32178205559082784,
          0.31832976661970325,
          0.3179941270067793,
          0.3156465715332598,
          0.31866966881808056,
          0.31857979801517294,
          0.32261036198041826,
          0.31932768029756164,
          0.32357035458702343,
          0.31998703874663437,
          0.31980753804903084,
          0.3268383907409391,
          0.3233819989468407,
          0.3241757091097735,
          0.3220622663089593,
          0.3200951614556996,
          0.32283130141951777,
          0.32369056584711353,
          0.31766532379129975,
          0.32101517605936114,
          0.3214480225121687,
          0.3204147885258012,
          0.32034033740516354,
          0.3127082239504144,
          0.31594515152073405,
          0.3139624549871279,
          0.31312948205708424,
          0.31389662160461973,
          0.3143193746344879,
          0.3113209265016765,
          0.318619495563987,
          0.3146800637287587,
          0.31897175422106616,
          0.3209028451943177,
          0.32131226569133786,
          0.31956131216068695,
          0.31834083041877304,
          0.3252528791530891,
          0.32467625239019315,
          0.3273106096775982,
          0.3328013314338011,
          0.333853635924724,
          0.3355963426871811,
          0.3353678269343535,
          0.3328929091200109,
          0.3288362285472062,
          0.3263966883973414,
          0.32570889750019294,
          0.32532963815835303,
          0.3222673681728039
         ],
         "yaxis": "y4"
        }
       ],
       "layout": {
        "annotations": [
         {
          "font": {
           "size": 16
          },
          "showarrow": false,
          "text": "fold1",
          "x": 0.225,
          "xanchor": "center",
          "xref": "paper",
          "y": 1,
          "yanchor": "bottom",
          "yref": "paper"
         },
         {
          "font": {
           "size": 16
          },
          "showarrow": false,
          "text": "fold2",
          "x": 0.775,
          "xanchor": "center",
          "xref": "paper",
          "y": 1,
          "yanchor": "bottom",
          "yref": "paper"
         },
         {
          "font": {
           "size": 16
          },
          "showarrow": false,
          "text": "fold3",
          "x": 0.225,
          "xanchor": "center",
          "xref": "paper",
          "y": 0.375,
          "yanchor": "bottom",
          "yref": "paper"
         },
         {
          "font": {
           "size": 16
          },
          "showarrow": false,
          "text": "fold4",
          "x": 0.775,
          "xanchor": "center",
          "xref": "paper",
          "y": 0.375,
          "yanchor": "bottom",
          "yref": "paper"
         }
        ],
        "template": {
         "data": {
          "bar": [
           {
            "error_x": {
             "color": "#2a3f5f"
            },
            "error_y": {
             "color": "#2a3f5f"
            },
            "marker": {
             "line": {
              "color": "#E5ECF6",
              "width": 0.5
             },
             "pattern": {
              "fillmode": "overlay",
              "size": 10,
              "solidity": 0.2
             }
            },
            "type": "bar"
           }
          ],
          "barpolar": [
           {
            "marker": {
             "line": {
              "color": "#E5ECF6",
              "width": 0.5
             },
             "pattern": {
              "fillmode": "overlay",
              "size": 10,
              "solidity": 0.2
             }
            },
            "type": "barpolar"
           }
          ],
          "carpet": [
           {
            "aaxis": {
             "endlinecolor": "#2a3f5f",
             "gridcolor": "white",
             "linecolor": "white",
             "minorgridcolor": "white",
             "startlinecolor": "#2a3f5f"
            },
            "baxis": {
             "endlinecolor": "#2a3f5f",
             "gridcolor": "white",
             "linecolor": "white",
             "minorgridcolor": "white",
             "startlinecolor": "#2a3f5f"
            },
            "type": "carpet"
           }
          ],
          "choropleth": [
           {
            "colorbar": {
             "outlinewidth": 0,
             "ticks": ""
            },
            "type": "choropleth"
           }
          ],
          "contour": [
           {
            "colorbar": {
             "outlinewidth": 0,
             "ticks": ""
            },
            "colorscale": [
             [
              0,
              "#0d0887"
             ],
             [
              0.1111111111111111,
              "#46039f"
             ],
             [
              0.2222222222222222,
              "#7201a8"
             ],
             [
              0.3333333333333333,
              "#9c179e"
             ],
             [
              0.4444444444444444,
              "#bd3786"
             ],
             [
              0.5555555555555556,
              "#d8576b"
             ],
             [
              0.6666666666666666,
              "#ed7953"
             ],
             [
              0.7777777777777778,
              "#fb9f3a"
             ],
             [
              0.8888888888888888,
              "#fdca26"
             ],
             [
              1,
              "#f0f921"
             ]
            ],
            "type": "contour"
           }
          ],
          "contourcarpet": [
           {
            "colorbar": {
             "outlinewidth": 0,
             "ticks": ""
            },
            "type": "contourcarpet"
           }
          ],
          "heatmap": [
           {
            "colorbar": {
             "outlinewidth": 0,
             "ticks": ""
            },
            "colorscale": [
             [
              0,
              "#0d0887"
             ],
             [
              0.1111111111111111,
              "#46039f"
             ],
             [
              0.2222222222222222,
              "#7201a8"
             ],
             [
              0.3333333333333333,
              "#9c179e"
             ],
             [
              0.4444444444444444,
              "#bd3786"
             ],
             [
              0.5555555555555556,
              "#d8576b"
             ],
             [
              0.6666666666666666,
              "#ed7953"
             ],
             [
              0.7777777777777778,
              "#fb9f3a"
             ],
             [
              0.8888888888888888,
              "#fdca26"
             ],
             [
              1,
              "#f0f921"
             ]
            ],
            "type": "heatmap"
           }
          ],
          "heatmapgl": [
           {
            "colorbar": {
             "outlinewidth": 0,
             "ticks": ""
            },
            "colorscale": [
             [
              0,
              "#0d0887"
             ],
             [
              0.1111111111111111,
              "#46039f"
             ],
             [
              0.2222222222222222,
              "#7201a8"
             ],
             [
              0.3333333333333333,
              "#9c179e"
             ],
             [
              0.4444444444444444,
              "#bd3786"
             ],
             [
              0.5555555555555556,
              "#d8576b"
             ],
             [
              0.6666666666666666,
              "#ed7953"
             ],
             [
              0.7777777777777778,
              "#fb9f3a"
             ],
             [
              0.8888888888888888,
              "#fdca26"
             ],
             [
              1,
              "#f0f921"
             ]
            ],
            "type": "heatmapgl"
           }
          ],
          "histogram": [
           {
            "marker": {
             "pattern": {
              "fillmode": "overlay",
              "size": 10,
              "solidity": 0.2
             }
            },
            "type": "histogram"
           }
          ],
          "histogram2d": [
           {
            "colorbar": {
             "outlinewidth": 0,
             "ticks": ""
            },
            "colorscale": [
             [
              0,
              "#0d0887"
             ],
             [
              0.1111111111111111,
              "#46039f"
             ],
             [
              0.2222222222222222,
              "#7201a8"
             ],
             [
              0.3333333333333333,
              "#9c179e"
             ],
             [
              0.4444444444444444,
              "#bd3786"
             ],
             [
              0.5555555555555556,
              "#d8576b"
             ],
             [
              0.6666666666666666,
              "#ed7953"
             ],
             [
              0.7777777777777778,
              "#fb9f3a"
             ],
             [
              0.8888888888888888,
              "#fdca26"
             ],
             [
              1,
              "#f0f921"
             ]
            ],
            "type": "histogram2d"
           }
          ],
          "histogram2dcontour": [
           {
            "colorbar": {
             "outlinewidth": 0,
             "ticks": ""
            },
            "colorscale": [
             [
              0,
              "#0d0887"
             ],
             [
              0.1111111111111111,
              "#46039f"
             ],
             [
              0.2222222222222222,
              "#7201a8"
             ],
             [
              0.3333333333333333,
              "#9c179e"
             ],
             [
              0.4444444444444444,
              "#bd3786"
             ],
             [
              0.5555555555555556,
              "#d8576b"
             ],
             [
              0.6666666666666666,
              "#ed7953"
             ],
             [
              0.7777777777777778,
              "#fb9f3a"
             ],
             [
              0.8888888888888888,
              "#fdca26"
             ],
             [
              1,
              "#f0f921"
             ]
            ],
            "type": "histogram2dcontour"
           }
          ],
          "mesh3d": [
           {
            "colorbar": {
             "outlinewidth": 0,
             "ticks": ""
            },
            "type": "mesh3d"
           }
          ],
          "parcoords": [
           {
            "line": {
             "colorbar": {
              "outlinewidth": 0,
              "ticks": ""
             }
            },
            "type": "parcoords"
           }
          ],
          "pie": [
           {
            "automargin": true,
            "type": "pie"
           }
          ],
          "scatter": [
           {
            "fillpattern": {
             "fillmode": "overlay",
             "size": 10,
             "solidity": 0.2
            },
            "type": "scatter"
           }
          ],
          "scatter3d": [
           {
            "line": {
             "colorbar": {
              "outlinewidth": 0,
              "ticks": ""
             }
            },
            "marker": {
             "colorbar": {
              "outlinewidth": 0,
              "ticks": ""
             }
            },
            "type": "scatter3d"
           }
          ],
          "scattercarpet": [
           {
            "marker": {
             "colorbar": {
              "outlinewidth": 0,
              "ticks": ""
             }
            },
            "type": "scattercarpet"
           }
          ],
          "scattergeo": [
           {
            "marker": {
             "colorbar": {
              "outlinewidth": 0,
              "ticks": ""
             }
            },
            "type": "scattergeo"
           }
          ],
          "scattergl": [
           {
            "marker": {
             "colorbar": {
              "outlinewidth": 0,
              "ticks": ""
             }
            },
            "type": "scattergl"
           }
          ],
          "scattermapbox": [
           {
            "marker": {
             "colorbar": {
              "outlinewidth": 0,
              "ticks": ""
             }
            },
            "type": "scattermapbox"
           }
          ],
          "scatterpolar": [
           {
            "marker": {
             "colorbar": {
              "outlinewidth": 0,
              "ticks": ""
             }
            },
            "type": "scatterpolar"
           }
          ],
          "scatterpolargl": [
           {
            "marker": {
             "colorbar": {
              "outlinewidth": 0,
              "ticks": ""
             }
            },
            "type": "scatterpolargl"
           }
          ],
          "scatterternary": [
           {
            "marker": {
             "colorbar": {
              "outlinewidth": 0,
              "ticks": ""
             }
            },
            "type": "scatterternary"
           }
          ],
          "surface": [
           {
            "colorbar": {
             "outlinewidth": 0,
             "ticks": ""
            },
            "colorscale": [
             [
              0,
              "#0d0887"
             ],
             [
              0.1111111111111111,
              "#46039f"
             ],
             [
              0.2222222222222222,
              "#7201a8"
             ],
             [
              0.3333333333333333,
              "#9c179e"
             ],
             [
              0.4444444444444444,
              "#bd3786"
             ],
             [
              0.5555555555555556,
              "#d8576b"
             ],
             [
              0.6666666666666666,
              "#ed7953"
             ],
             [
              0.7777777777777778,
              "#fb9f3a"
             ],
             [
              0.8888888888888888,
              "#fdca26"
             ],
             [
              1,
              "#f0f921"
             ]
            ],
            "type": "surface"
           }
          ],
          "table": [
           {
            "cells": {
             "fill": {
              "color": "#EBF0F8"
             },
             "line": {
              "color": "white"
             }
            },
            "header": {
             "fill": {
              "color": "#C8D4E3"
             },
             "line": {
              "color": "white"
             }
            },
            "type": "table"
           }
          ]
         },
         "layout": {
          "annotationdefaults": {
           "arrowcolor": "#2a3f5f",
           "arrowhead": 0,
           "arrowwidth": 1
          },
          "autotypenumbers": "strict",
          "coloraxis": {
           "colorbar": {
            "outlinewidth": 0,
            "ticks": ""
           }
          },
          "colorscale": {
           "diverging": [
            [
             0,
             "#8e0152"
            ],
            [
             0.1,
             "#c51b7d"
            ],
            [
             0.2,
             "#de77ae"
            ],
            [
             0.3,
             "#f1b6da"
            ],
            [
             0.4,
             "#fde0ef"
            ],
            [
             0.5,
             "#f7f7f7"
            ],
            [
             0.6,
             "#e6f5d0"
            ],
            [
             0.7,
             "#b8e186"
            ],
            [
             0.8,
             "#7fbc41"
            ],
            [
             0.9,
             "#4d9221"
            ],
            [
             1,
             "#276419"
            ]
           ],
           "sequential": [
            [
             0,
             "#0d0887"
            ],
            [
             0.1111111111111111,
             "#46039f"
            ],
            [
             0.2222222222222222,
             "#7201a8"
            ],
            [
             0.3333333333333333,
             "#9c179e"
            ],
            [
             0.4444444444444444,
             "#bd3786"
            ],
            [
             0.5555555555555556,
             "#d8576b"
            ],
            [
             0.6666666666666666,
             "#ed7953"
            ],
            [
             0.7777777777777778,
             "#fb9f3a"
            ],
            [
             0.8888888888888888,
             "#fdca26"
            ],
            [
             1,
             "#f0f921"
            ]
           ],
           "sequentialminus": [
            [
             0,
             "#0d0887"
            ],
            [
             0.1111111111111111,
             "#46039f"
            ],
            [
             0.2222222222222222,
             "#7201a8"
            ],
            [
             0.3333333333333333,
             "#9c179e"
            ],
            [
             0.4444444444444444,
             "#bd3786"
            ],
            [
             0.5555555555555556,
             "#d8576b"
            ],
            [
             0.6666666666666666,
             "#ed7953"
            ],
            [
             0.7777777777777778,
             "#fb9f3a"
            ],
            [
             0.8888888888888888,
             "#fdca26"
            ],
            [
             1,
             "#f0f921"
            ]
           ]
          },
          "colorway": [
           "#636efa",
           "#EF553B",
           "#00cc96",
           "#ab63fa",
           "#FFA15A",
           "#19d3f3",
           "#FF6692",
           "#B6E880",
           "#FF97FF",
           "#FECB52"
          ],
          "font": {
           "color": "#2a3f5f"
          },
          "geo": {
           "bgcolor": "white",
           "lakecolor": "white",
           "landcolor": "#E5ECF6",
           "showlakes": true,
           "showland": true,
           "subunitcolor": "white"
          },
          "hoverlabel": {
           "align": "left"
          },
          "hovermode": "closest",
          "mapbox": {
           "style": "light"
          },
          "paper_bgcolor": "white",
          "plot_bgcolor": "#E5ECF6",
          "polar": {
           "angularaxis": {
            "gridcolor": "white",
            "linecolor": "white",
            "ticks": ""
           },
           "bgcolor": "#E5ECF6",
           "radialaxis": {
            "gridcolor": "white",
            "linecolor": "white",
            "ticks": ""
           }
          },
          "scene": {
           "xaxis": {
            "backgroundcolor": "#E5ECF6",
            "gridcolor": "white",
            "gridwidth": 2,
            "linecolor": "white",
            "showbackground": true,
            "ticks": "",
            "zerolinecolor": "white"
           },
           "yaxis": {
            "backgroundcolor": "#E5ECF6",
            "gridcolor": "white",
            "gridwidth": 2,
            "linecolor": "white",
            "showbackground": true,
            "ticks": "",
            "zerolinecolor": "white"
           },
           "zaxis": {
            "backgroundcolor": "#E5ECF6",
            "gridcolor": "white",
            "gridwidth": 2,
            "linecolor": "white",
            "showbackground": true,
            "ticks": "",
            "zerolinecolor": "white"
           }
          },
          "shapedefaults": {
           "line": {
            "color": "#2a3f5f"
           }
          },
          "ternary": {
           "aaxis": {
            "gridcolor": "white",
            "linecolor": "white",
            "ticks": ""
           },
           "baxis": {
            "gridcolor": "white",
            "linecolor": "white",
            "ticks": ""
           },
           "bgcolor": "#E5ECF6",
           "caxis": {
            "gridcolor": "white",
            "linecolor": "white",
            "ticks": ""
           }
          },
          "title": {
           "x": 0.05
          },
          "xaxis": {
           "automargin": true,
           "gridcolor": "white",
           "linecolor": "white",
           "ticks": "",
           "title": {
            "standoff": 15
           },
           "zerolinecolor": "white",
           "zerolinewidth": 2
          },
          "yaxis": {
           "automargin": true,
           "gridcolor": "white",
           "linecolor": "white",
           "ticks": "",
           "title": {
            "standoff": 15
           },
           "zerolinecolor": "white",
           "zerolinewidth": 2
          }
         }
        },
        "title": {
         "text": "fold1, fold2, fold3, fold4"
        },
        "xaxis": {
         "anchor": "y",
         "domain": [
          0,
          0.45
         ]
        },
        "xaxis2": {
         "anchor": "y2",
         "domain": [
          0.55,
          1
         ]
        },
        "xaxis3": {
         "anchor": "y3",
         "domain": [
          0,
          0.45
         ]
        },
        "xaxis4": {
         "anchor": "y4",
         "domain": [
          0.55,
          1
         ]
        },
        "yaxis": {
         "anchor": "x",
         "domain": [
          0.625,
          1
         ]
        },
        "yaxis2": {
         "anchor": "x2",
         "domain": [
          0.625,
          1
         ]
        },
        "yaxis3": {
         "anchor": "x3",
         "domain": [
          0,
          0.375
         ]
        },
        "yaxis4": {
         "anchor": "x4",
         "domain": [
          0,
          0.375
         ]
        }
       }
      },
      "text/html": [
       "<div>                            <div id=\"f0df12f6-cfd9-4eaa-8bb4-6675ed11bf44\" class=\"plotly-graph-div\" style=\"height:525px; width:100%;\"></div>            <script type=\"text/javascript\">                require([\"plotly\"], function(Plotly) {                    window.PLOTLYENV=window.PLOTLYENV || {};                                    if (document.getElementById(\"f0df12f6-cfd9-4eaa-8bb4-6675ed11bf44\")) {                    Plotly.newPlot(                        \"f0df12f6-cfd9-4eaa-8bb4-6675ed11bf44\",                        [{\"mode\":\"lines\",\"name\":\"train\",\"x\":[1,2,3,4,5,6,7,8,9,10,11,12,13,14,15,16,17,18,19,20,21,22,23,24,25,26,27,28,29,30,31,32,33,34,35,36,37,38,39,40,41,42,43,44,45,46,47,48,49,50,51,52,53,54,55],\"y\":[0.6299149442997429,0.5829444308837282,0.5379171596136704,0.5033518294592576,0.4733046340294833,0.44718505443782175,0.42142556837689704,0.3971333136245193,0.3775676251919055,0.3539295646194342,0.3289256032384801,0.30656088637003714,0.2905199700331724,0.2732226127875532,0.25669254204345543,0.24187340846515692,0.22864929720696328,0.21590764701150433,0.2024169042353001,0.19214493154945406,0.1794015893556779,0.16971807523680438,0.16011543728902256,0.15147810578714482,0.14214476292104958,0.13552789991410014,0.1271685360933401,0.11970947152698524,0.11257670828336178,0.10615475578174247,0.09899763105401546,0.09265981555275472,0.08663066589922942,0.08180904351303776,0.07754927956806994,0.07219132821616575,0.06739080329944741,0.06326352132427818,0.05955848156283937,0.05580390431442433,0.05223198908724781,0.04919397781152138,0.04604240100565534,0.043706308186617415,0.04115995553287784,0.03828462253333144,0.03594731497004838,0.033975272359362436,0.03193682985229143,0.02978021590743862,0.028154959396226337,0.026487548114100517,0.025082388555904837,0.023452737054473025,0.02201414096503588],\"type\":\"scatter\",\"xaxis\":\"x\",\"yaxis\":\"y\"},{\"mode\":\"lines\",\"name\":\"eval\",\"x\":[1,2,3,4,5,6,7,8,9,10,11,12,13,14,15,16,17,18,19,20,21,22,23,24,25,26,27,28,29,30,31,32,33,34,35,36,37,38,39,40,41,42,43,44,45,46,47,48,49,50,51,52,53,54,55],\"y\":[0.6544146736932714,0.6203657015708054,0.5976319961353067,0.5758855289492548,0.5495357931754626,0.5341452227544574,0.5215613583925545,0.5115869000112546,0.5058049846809243,0.4949079229171864,0.48510276756489107,0.4624256076167601,0.4520107137287462,0.44146050798993547,0.4366451275843811,0.4200999471213425,0.40417721180200006,0.3949160914085943,0.38577297158244006,0.38337266048897123,0.3820069444407046,0.3771492086813586,0.36953941823042136,0.36664167958916705,0.3639440607271184,0.3582743423870126,0.3550456123671677,0.35470387419069227,0.34953628466660147,0.34912716644474906,0.3564068409553579,0.35467093199391353,0.35450333765558883,0.3505256502038011,0.3470747539779488,0.34911838431044084,0.3528340502980415,0.35559504915125717,0.35999171768368987,0.3606363126462141,0.35952138233768466,0.36789589681453516,0.36905802784146263,0.36817424794744064,0.3662853863792823,0.3689428122125362,0.3687032204121336,0.36219241957712356,0.35878725655371646,0.35915973000953266,0.35390830901793224,0.35409689168206787,0.3537544460047293,0.35410889640665477,0.3528949298874506],\"type\":\"scatter\",\"xaxis\":\"x\",\"yaxis\":\"y\"},{\"mode\":\"lines\",\"name\":\"train\",\"x\":[1,2,3,4,5,6,7,8,9,10,11,12,13,14,15,16,17,18,19,20,21,22,23,24,25,26,27,28,29,30,31,32,33,34,35,36,37,38,39,40,41,42,43,44,45,46,47,48,49,50,51,52,53,54,55,56,57,58,59,60,61,62,63,64,65,66,67,68,69,70],\"y\":[0.6386638056510876,0.5861193326691376,0.5417910665230619,0.5001710954202647,0.470523757064968,0.4349463259481364,0.412749758901336,0.3890735361266478,0.36283323878645957,0.34081858991595637,0.319342853128516,0.3021174197983656,0.2879956428843423,0.2686318663343785,0.25333524017541215,0.24204280339272383,0.22664108120510798,0.21245723779569922,0.20025622906262985,0.18903276114914733,0.18052040842767414,0.16979984286671254,0.1600240902949485,0.15152849346366168,0.1433865436781557,0.1353641898398635,0.12755848388837002,0.12044626463987512,0.11343865060043991,0.10625372729751373,0.10057401291764037,0.09514067538093549,0.08884603212096262,0.0838998000988928,0.0784834979253733,0.07441283123774842,0.07085899909237392,0.06675139397249986,0.06266156746212767,0.05863894230452733,0.0548785912007797,0.05083147945025539,0.04781093649978181,0.04483806779045612,0.042012964999716546,0.0396662244516935,0.03712366719391158,0.03508707155050421,0.03322119240606546,0.03126459493199132,0.02927473110537899,0.027210426320314392,0.025426320164478856,0.024110239156504162,0.02258112110518401,0.02108171729190937,0.019843330980101867,0.018771237178842673,0.0177193264306178,0.016552625596631555,0.015547071893662114,0.014565167156621027,0.013621681961225734,0.012648954366327968,0.01200237310348571,0.011339762753039894,0.010587383693663712,0.010053961333983907,0.00941585639743695,0.008751186049560327],\"type\":\"scatter\",\"xaxis\":\"x2\",\"yaxis\":\"y2\"},{\"mode\":\"lines\",\"name\":\"eval\",\"x\":[1,2,3,4,5,6,7,8,9,10,11,12,13,14,15,16,17,18,19,20,21,22,23,24,25,26,27,28,29,30,31,32,33,34,35,36,37,38,39,40,41,42,43,44,45,46,47,48,49,50,51,52,53,54,55,56,57,58,59,60,61,62,63,64,65,66,67,68,69,70],\"y\":[0.6417982649634344,0.5947634577099878,0.5631475963293007,0.5408699020076367,0.5183382863038626,0.4992994785834287,0.4784357914798427,0.46480494099110453,0.44783876153027574,0.43808132395062227,0.4284703228777892,0.41943425744406065,0.41708050409959013,0.4078927534702036,0.3944520691175398,0.3978158426663732,0.395620272143992,0.3924649564205972,0.38679513543019584,0.38335131564228475,0.3797612983589099,0.3841931371597689,0.38407760136583824,0.37626692444181564,0.3761636158664953,0.377786390163832,0.3832510945441828,0.38239600311821864,0.3827382963902032,0.3896128874160292,0.38972302561308947,0.38888278311129076,0.38713358232710904,0.3898311786104345,0.37970802713106044,0.3844945453457611,0.3822723734505581,0.38148407588489663,0.3832951109437297,0.382896718463243,0.3763846859098203,0.3745932053379766,0.37303142109891463,0.37631345212617934,0.38009103369902636,0.3744049326217296,0.37179429701732625,0.3733846417269193,0.37074115096401167,0.36783477324427305,0.3680229498568248,0.375275313211767,0.3795542384061966,0.38122355225627,0.37848477020411686,0.37517142413870525,0.378176042257914,0.3787683637292898,0.38151221575837274,0.3880076363002974,0.3944882497782237,0.3960943184774719,0.4013173257504712,0.40759054627192315,0.4095360163434445,0.407899917054259,0.4124416642801201,0.41133037518551746,0.41131049462195557,0.41336863246229905],\"type\":\"scatter\",\"xaxis\":\"x2\",\"yaxis\":\"y2\"},{\"mode\":\"lines\",\"name\":\"train\",\"x\":[1,2,3,4,5,6,7,8,9,10,11,12,13,14,15,16,17,18,19,20,21,22,23,24,25,26,27,28,29,30,31,32,33,34,35,36],\"y\":[0.6310146892900852,0.5800678444287697,0.5361603146758629,0.4953212230388706,0.4625363025968535,0.4334355799965481,0.4064231166819937,0.38229769167855127,0.35671887596271157,0.33724711760809456,0.32047942368497423,0.3052058235836509,0.2906683758804083,0.27243284465600826,0.25834311407881205,0.24357699056019436,0.23004030692352484,0.21852929179385447,0.20639536586629093,0.1952985489270449,0.18336641950727117,0.17429096914906736,0.16295592164777215,0.15440332909017812,0.1445391318580862,0.13541180661568208,0.12741189124906682,0.12066215242539335,0.11303535391102991,0.10573131782073325,0.09929449723442757,0.09301720410337215,0.08715817909732408,0.08181986896241875,0.0756799584582003,0.0712795634263354],\"type\":\"scatter\",\"xaxis\":\"x3\",\"yaxis\":\"y3\"},{\"mode\":\"lines\",\"name\":\"eval\",\"x\":[1,2,3,4,5,6,7,8,9,10,11,12,13,14,15,16,17,18,19,20,21,22,23,24,25,26,27,28,29,30,31,32,33,34,35,36],\"y\":[0.6642259453080475,0.6372087845513315,0.6182494146299067,0.597852045823027,0.5836943262129722,0.5744522553652316,0.5666550647504913,0.5614176780362018,0.5575044568590801,0.55166899659242,0.5488367616318041,0.543383607565662,0.538513226097497,0.5364399860217166,0.530956348631092,0.5236724069493266,0.5282118066927054,0.5321023388541376,0.530179933109762,0.533656621928003,0.5312289837728794,0.5329720013423609,0.5318508514934046,0.527277149538943,0.5298587726137611,0.5330609383539349,0.541750775071082,0.5473544019058838,0.5493317861715087,0.5472963255576994,0.5511521523525209,0.5605109073560626,0.5641466668502259,0.5694549680807748,0.5738364392798017,0.5843888683130445],\"type\":\"scatter\",\"xaxis\":\"x3\",\"yaxis\":\"y3\"},{\"mode\":\"lines\",\"name\":\"train\",\"x\":[1,2,3,4,5,6,7,8,9,10,11,12,13,14,15,16,17,18,19,20,21,22,23,24,25,26,27,28,29,30,31,32,33,34,35,36,37,38,39,40,41,42,43,44,45,46,47,48,49,50,51,52,53,54,55,56,57,58,59,60,61,62,63,64,65,66,67,68,69,70,71,72,73,74,75,76,77,78,79,80,81,82,83,84,85,86,87],\"y\":[0.6344084219433285,0.5864814446071906,0.5461547036802701,0.5015578530389008,0.46921766265351705,0.4439750654558292,0.41889323458313676,0.3954883569101618,0.36805492564546816,0.35079662925946675,0.3303266934172011,0.3082167843592698,0.2953853933432158,0.2778356274597922,0.26210151543069654,0.2502678604717249,0.23804960724760155,0.226035387822464,0.21213486396670767,0.2000226959462299,0.18907091400913267,0.18176546462045368,0.17283457288550214,0.16200268111552799,0.15083399934030367,0.14338126501301102,0.1347768752247374,0.12611674339964662,0.11914642718486193,0.11226613644516908,0.10596943286115024,0.09928782567314223,0.0936403189690513,0.08714035070551104,0.0822207742858184,0.07719676276938842,0.07245597013893543,0.06801970489494988,0.06437257651138945,0.06013059857271165,0.056640525898621924,0.053586542910815174,0.05045041461205374,0.047519089346178926,0.044740505042446053,0.042410278261698235,0.03954273551310955,0.037294462105069315,0.034855323748936004,0.03278752653574868,0.031034035239748174,0.029115968113849165,0.02696734172840606,0.02544055219127521,0.023944626148866416,0.022324633828544032,0.02091911007081594,0.019530799333461177,0.018315216297435308,0.01721620087690831,0.01597326753952818,0.01497871382971812,0.014060616825942762,0.013058789994168379,0.012338709731000076,0.011585495493869561,0.010775114656827817,0.01007201757059872,0.009436359900952752,0.008923601168743706,0.008395093980768622,0.008005419043527567,0.007490891316110243,0.006964090018878303,0.006564335501700691,0.006160002304045354,0.005736901554182727,0.005390180677840972,0.005052341304472042,0.004779919010653618,0.004467464898044567,0.004141614606767333,0.003865770945537444,0.003610954305496259,0.003385119868350001,0.003171370526981857,0.002971895829145476],\"type\":\"scatter\",\"xaxis\":\"x4\",\"yaxis\":\"y4\"},{\"mode\":\"lines\",\"name\":\"eval\",\"x\":[1,2,3,4,5,6,7,8,9,10,11,12,13,14,15,16,17,18,19,20,21,22,23,24,25,26,27,28,29,30,31,32,33,34,35,36,37,38,39,40,41,42,43,44,45,46,47,48,49,50,51,52,53,54,55,56,57,58,59,60,61,62,63,64,65,66,67,68,69,70,71,72,73,74,75,76,77,78,79,80,81,82,83,84,85,86,87],\"y\":[0.6476108337217301,0.6087864345646428,0.5794913748940809,0.537562894710476,0.5132220618645441,0.48994542063106306,0.47079637288549125,0.457084511220776,0.439790724847406,0.42854107313617873,0.4207589844402442,0.4051924968135129,0.40088271917933305,0.39532076705862407,0.3901918194827495,0.38331039007511264,0.37791709709775945,0.37043244728400904,0.35700341777145245,0.35208327812233475,0.34695804734457947,0.3430138529529382,0.3378388691883075,0.3366174116835694,0.33859199934362555,0.33783086266711027,0.3317803830512758,0.33046578326748444,0.330243259788742,0.32861204482204176,0.33009948920617815,0.3246909536244464,0.32375900813312986,0.3233249947735549,0.319864317035957,0.32286038154558433,0.31795397307532186,0.32178205559082784,0.31832976661970325,0.3179941270067793,0.3156465715332598,0.31866966881808056,0.31857979801517294,0.32261036198041826,0.31932768029756164,0.32357035458702343,0.31998703874663437,0.31980753804903084,0.3268383907409391,0.3233819989468407,0.3241757091097735,0.3220622663089593,0.3200951614556996,0.32283130141951777,0.32369056584711353,0.31766532379129975,0.32101517605936114,0.3214480225121687,0.3204147885258012,0.32034033740516354,0.3127082239504144,0.31594515152073405,0.3139624549871279,0.31312948205708424,0.31389662160461973,0.3143193746344879,0.3113209265016765,0.318619495563987,0.3146800637287587,0.31897175422106616,0.3209028451943177,0.32131226569133786,0.31956131216068695,0.31834083041877304,0.3252528791530891,0.32467625239019315,0.3273106096775982,0.3328013314338011,0.333853635924724,0.3355963426871811,0.3353678269343535,0.3328929091200109,0.3288362285472062,0.3263966883973414,0.32570889750019294,0.32532963815835303,0.3222673681728039],\"type\":\"scatter\",\"xaxis\":\"x4\",\"yaxis\":\"y4\"}],                        {\"template\":{\"data\":{\"histogram2dcontour\":[{\"type\":\"histogram2dcontour\",\"colorbar\":{\"outlinewidth\":0,\"ticks\":\"\"},\"colorscale\":[[0.0,\"#0d0887\"],[0.1111111111111111,\"#46039f\"],[0.2222222222222222,\"#7201a8\"],[0.3333333333333333,\"#9c179e\"],[0.4444444444444444,\"#bd3786\"],[0.5555555555555556,\"#d8576b\"],[0.6666666666666666,\"#ed7953\"],[0.7777777777777778,\"#fb9f3a\"],[0.8888888888888888,\"#fdca26\"],[1.0,\"#f0f921\"]]}],\"choropleth\":[{\"type\":\"choropleth\",\"colorbar\":{\"outlinewidth\":0,\"ticks\":\"\"}}],\"histogram2d\":[{\"type\":\"histogram2d\",\"colorbar\":{\"outlinewidth\":0,\"ticks\":\"\"},\"colorscale\":[[0.0,\"#0d0887\"],[0.1111111111111111,\"#46039f\"],[0.2222222222222222,\"#7201a8\"],[0.3333333333333333,\"#9c179e\"],[0.4444444444444444,\"#bd3786\"],[0.5555555555555556,\"#d8576b\"],[0.6666666666666666,\"#ed7953\"],[0.7777777777777778,\"#fb9f3a\"],[0.8888888888888888,\"#fdca26\"],[1.0,\"#f0f921\"]]}],\"heatmap\":[{\"type\":\"heatmap\",\"colorbar\":{\"outlinewidth\":0,\"ticks\":\"\"},\"colorscale\":[[0.0,\"#0d0887\"],[0.1111111111111111,\"#46039f\"],[0.2222222222222222,\"#7201a8\"],[0.3333333333333333,\"#9c179e\"],[0.4444444444444444,\"#bd3786\"],[0.5555555555555556,\"#d8576b\"],[0.6666666666666666,\"#ed7953\"],[0.7777777777777778,\"#fb9f3a\"],[0.8888888888888888,\"#fdca26\"],[1.0,\"#f0f921\"]]}],\"heatmapgl\":[{\"type\":\"heatmapgl\",\"colorbar\":{\"outlinewidth\":0,\"ticks\":\"\"},\"colorscale\":[[0.0,\"#0d0887\"],[0.1111111111111111,\"#46039f\"],[0.2222222222222222,\"#7201a8\"],[0.3333333333333333,\"#9c179e\"],[0.4444444444444444,\"#bd3786\"],[0.5555555555555556,\"#d8576b\"],[0.6666666666666666,\"#ed7953\"],[0.7777777777777778,\"#fb9f3a\"],[0.8888888888888888,\"#fdca26\"],[1.0,\"#f0f921\"]]}],\"contourcarpet\":[{\"type\":\"contourcarpet\",\"colorbar\":{\"outlinewidth\":0,\"ticks\":\"\"}}],\"contour\":[{\"type\":\"contour\",\"colorbar\":{\"outlinewidth\":0,\"ticks\":\"\"},\"colorscale\":[[0.0,\"#0d0887\"],[0.1111111111111111,\"#46039f\"],[0.2222222222222222,\"#7201a8\"],[0.3333333333333333,\"#9c179e\"],[0.4444444444444444,\"#bd3786\"],[0.5555555555555556,\"#d8576b\"],[0.6666666666666666,\"#ed7953\"],[0.7777777777777778,\"#fb9f3a\"],[0.8888888888888888,\"#fdca26\"],[1.0,\"#f0f921\"]]}],\"surface\":[{\"type\":\"surface\",\"colorbar\":{\"outlinewidth\":0,\"ticks\":\"\"},\"colorscale\":[[0.0,\"#0d0887\"],[0.1111111111111111,\"#46039f\"],[0.2222222222222222,\"#7201a8\"],[0.3333333333333333,\"#9c179e\"],[0.4444444444444444,\"#bd3786\"],[0.5555555555555556,\"#d8576b\"],[0.6666666666666666,\"#ed7953\"],[0.7777777777777778,\"#fb9f3a\"],[0.8888888888888888,\"#fdca26\"],[1.0,\"#f0f921\"]]}],\"mesh3d\":[{\"type\":\"mesh3d\",\"colorbar\":{\"outlinewidth\":0,\"ticks\":\"\"}}],\"scatter\":[{\"fillpattern\":{\"fillmode\":\"overlay\",\"size\":10,\"solidity\":0.2},\"type\":\"scatter\"}],\"parcoords\":[{\"type\":\"parcoords\",\"line\":{\"colorbar\":{\"outlinewidth\":0,\"ticks\":\"\"}}}],\"scatterpolargl\":[{\"type\":\"scatterpolargl\",\"marker\":{\"colorbar\":{\"outlinewidth\":0,\"ticks\":\"\"}}}],\"bar\":[{\"error_x\":{\"color\":\"#2a3f5f\"},\"error_y\":{\"color\":\"#2a3f5f\"},\"marker\":{\"line\":{\"color\":\"#E5ECF6\",\"width\":0.5},\"pattern\":{\"fillmode\":\"overlay\",\"size\":10,\"solidity\":0.2}},\"type\":\"bar\"}],\"scattergeo\":[{\"type\":\"scattergeo\",\"marker\":{\"colorbar\":{\"outlinewidth\":0,\"ticks\":\"\"}}}],\"scatterpolar\":[{\"type\":\"scatterpolar\",\"marker\":{\"colorbar\":{\"outlinewidth\":0,\"ticks\":\"\"}}}],\"histogram\":[{\"marker\":{\"pattern\":{\"fillmode\":\"overlay\",\"size\":10,\"solidity\":0.2}},\"type\":\"histogram\"}],\"scattergl\":[{\"type\":\"scattergl\",\"marker\":{\"colorbar\":{\"outlinewidth\":0,\"ticks\":\"\"}}}],\"scatter3d\":[{\"type\":\"scatter3d\",\"line\":{\"colorbar\":{\"outlinewidth\":0,\"ticks\":\"\"}},\"marker\":{\"colorbar\":{\"outlinewidth\":0,\"ticks\":\"\"}}}],\"scattermapbox\":[{\"type\":\"scattermapbox\",\"marker\":{\"colorbar\":{\"outlinewidth\":0,\"ticks\":\"\"}}}],\"scatterternary\":[{\"type\":\"scatterternary\",\"marker\":{\"colorbar\":{\"outlinewidth\":0,\"ticks\":\"\"}}}],\"scattercarpet\":[{\"type\":\"scattercarpet\",\"marker\":{\"colorbar\":{\"outlinewidth\":0,\"ticks\":\"\"}}}],\"carpet\":[{\"aaxis\":{\"endlinecolor\":\"#2a3f5f\",\"gridcolor\":\"white\",\"linecolor\":\"white\",\"minorgridcolor\":\"white\",\"startlinecolor\":\"#2a3f5f\"},\"baxis\":{\"endlinecolor\":\"#2a3f5f\",\"gridcolor\":\"white\",\"linecolor\":\"white\",\"minorgridcolor\":\"white\",\"startlinecolor\":\"#2a3f5f\"},\"type\":\"carpet\"}],\"table\":[{\"cells\":{\"fill\":{\"color\":\"#EBF0F8\"},\"line\":{\"color\":\"white\"}},\"header\":{\"fill\":{\"color\":\"#C8D4E3\"},\"line\":{\"color\":\"white\"}},\"type\":\"table\"}],\"barpolar\":[{\"marker\":{\"line\":{\"color\":\"#E5ECF6\",\"width\":0.5},\"pattern\":{\"fillmode\":\"overlay\",\"size\":10,\"solidity\":0.2}},\"type\":\"barpolar\"}],\"pie\":[{\"automargin\":true,\"type\":\"pie\"}]},\"layout\":{\"autotypenumbers\":\"strict\",\"colorway\":[\"#636efa\",\"#EF553B\",\"#00cc96\",\"#ab63fa\",\"#FFA15A\",\"#19d3f3\",\"#FF6692\",\"#B6E880\",\"#FF97FF\",\"#FECB52\"],\"font\":{\"color\":\"#2a3f5f\"},\"hovermode\":\"closest\",\"hoverlabel\":{\"align\":\"left\"},\"paper_bgcolor\":\"white\",\"plot_bgcolor\":\"#E5ECF6\",\"polar\":{\"bgcolor\":\"#E5ECF6\",\"angularaxis\":{\"gridcolor\":\"white\",\"linecolor\":\"white\",\"ticks\":\"\"},\"radialaxis\":{\"gridcolor\":\"white\",\"linecolor\":\"white\",\"ticks\":\"\"}},\"ternary\":{\"bgcolor\":\"#E5ECF6\",\"aaxis\":{\"gridcolor\":\"white\",\"linecolor\":\"white\",\"ticks\":\"\"},\"baxis\":{\"gridcolor\":\"white\",\"linecolor\":\"white\",\"ticks\":\"\"},\"caxis\":{\"gridcolor\":\"white\",\"linecolor\":\"white\",\"ticks\":\"\"}},\"coloraxis\":{\"colorbar\":{\"outlinewidth\":0,\"ticks\":\"\"}},\"colorscale\":{\"sequential\":[[0.0,\"#0d0887\"],[0.1111111111111111,\"#46039f\"],[0.2222222222222222,\"#7201a8\"],[0.3333333333333333,\"#9c179e\"],[0.4444444444444444,\"#bd3786\"],[0.5555555555555556,\"#d8576b\"],[0.6666666666666666,\"#ed7953\"],[0.7777777777777778,\"#fb9f3a\"],[0.8888888888888888,\"#fdca26\"],[1.0,\"#f0f921\"]],\"sequentialminus\":[[0.0,\"#0d0887\"],[0.1111111111111111,\"#46039f\"],[0.2222222222222222,\"#7201a8\"],[0.3333333333333333,\"#9c179e\"],[0.4444444444444444,\"#bd3786\"],[0.5555555555555556,\"#d8576b\"],[0.6666666666666666,\"#ed7953\"],[0.7777777777777778,\"#fb9f3a\"],[0.8888888888888888,\"#fdca26\"],[1.0,\"#f0f921\"]],\"diverging\":[[0,\"#8e0152\"],[0.1,\"#c51b7d\"],[0.2,\"#de77ae\"],[0.3,\"#f1b6da\"],[0.4,\"#fde0ef\"],[0.5,\"#f7f7f7\"],[0.6,\"#e6f5d0\"],[0.7,\"#b8e186\"],[0.8,\"#7fbc41\"],[0.9,\"#4d9221\"],[1,\"#276419\"]]},\"xaxis\":{\"gridcolor\":\"white\",\"linecolor\":\"white\",\"ticks\":\"\",\"title\":{\"standoff\":15},\"zerolinecolor\":\"white\",\"automargin\":true,\"zerolinewidth\":2},\"yaxis\":{\"gridcolor\":\"white\",\"linecolor\":\"white\",\"ticks\":\"\",\"title\":{\"standoff\":15},\"zerolinecolor\":\"white\",\"automargin\":true,\"zerolinewidth\":2},\"scene\":{\"xaxis\":{\"backgroundcolor\":\"#E5ECF6\",\"gridcolor\":\"white\",\"linecolor\":\"white\",\"showbackground\":true,\"ticks\":\"\",\"zerolinecolor\":\"white\",\"gridwidth\":2},\"yaxis\":{\"backgroundcolor\":\"#E5ECF6\",\"gridcolor\":\"white\",\"linecolor\":\"white\",\"showbackground\":true,\"ticks\":\"\",\"zerolinecolor\":\"white\",\"gridwidth\":2},\"zaxis\":{\"backgroundcolor\":\"#E5ECF6\",\"gridcolor\":\"white\",\"linecolor\":\"white\",\"showbackground\":true,\"ticks\":\"\",\"zerolinecolor\":\"white\",\"gridwidth\":2}},\"shapedefaults\":{\"line\":{\"color\":\"#2a3f5f\"}},\"annotationdefaults\":{\"arrowcolor\":\"#2a3f5f\",\"arrowhead\":0,\"arrowwidth\":1},\"geo\":{\"bgcolor\":\"white\",\"landcolor\":\"#E5ECF6\",\"subunitcolor\":\"white\",\"showland\":true,\"showlakes\":true,\"lakecolor\":\"white\"},\"title\":{\"x\":0.05},\"mapbox\":{\"style\":\"light\"}}},\"xaxis\":{\"anchor\":\"y\",\"domain\":[0.0,0.45]},\"yaxis\":{\"anchor\":\"x\",\"domain\":[0.625,1.0]},\"xaxis2\":{\"anchor\":\"y2\",\"domain\":[0.55,1.0]},\"yaxis2\":{\"anchor\":\"x2\",\"domain\":[0.625,1.0]},\"xaxis3\":{\"anchor\":\"y3\",\"domain\":[0.0,0.45]},\"yaxis3\":{\"anchor\":\"x3\",\"domain\":[0.0,0.375]},\"xaxis4\":{\"anchor\":\"y4\",\"domain\":[0.55,1.0]},\"yaxis4\":{\"anchor\":\"x4\",\"domain\":[0.0,0.375]},\"annotations\":[{\"font\":{\"size\":16},\"showarrow\":false,\"text\":\"fold1\",\"x\":0.225,\"xanchor\":\"center\",\"xref\":\"paper\",\"y\":1.0,\"yanchor\":\"bottom\",\"yref\":\"paper\"},{\"font\":{\"size\":16},\"showarrow\":false,\"text\":\"fold2\",\"x\":0.775,\"xanchor\":\"center\",\"xref\":\"paper\",\"y\":1.0,\"yanchor\":\"bottom\",\"yref\":\"paper\"},{\"font\":{\"size\":16},\"showarrow\":false,\"text\":\"fold3\",\"x\":0.225,\"xanchor\":\"center\",\"xref\":\"paper\",\"y\":0.375,\"yanchor\":\"bottom\",\"yref\":\"paper\"},{\"font\":{\"size\":16},\"showarrow\":false,\"text\":\"fold4\",\"x\":0.775,\"xanchor\":\"center\",\"xref\":\"paper\",\"y\":0.375,\"yanchor\":\"bottom\",\"yref\":\"paper\"}],\"title\":{\"text\":\"fold1, fold2, fold3, fold4\"}},                        {\"responsive\": true}                    ).then(function(){\n",
       "                            \n",
       "var gd = document.getElementById('f0df12f6-cfd9-4eaa-8bb4-6675ed11bf44');\n",
       "var x = new MutationObserver(function (mutations, observer) {{\n",
       "        var display = window.getComputedStyle(gd).display;\n",
       "        if (!display || display === 'none') {{\n",
       "            console.log([gd, 'removed!']);\n",
       "            Plotly.purge(gd);\n",
       "            observer.disconnect();\n",
       "        }}\n",
       "}});\n",
       "\n",
       "// Listen for the removal of the full notebook cells\n",
       "var notebookContainer = gd.closest('#notebook-container');\n",
       "if (notebookContainer) {{\n",
       "    x.observe(notebookContainer, {childList: true});\n",
       "}}\n",
       "\n",
       "// Listen for the clearing of the current output cell\n",
       "var outputEl = gd.closest('.output');\n",
       "if (outputEl) {{\n",
       "    x.observe(outputEl, {childList: true});\n",
       "}}\n",
       "\n",
       "                        })                };                });            </script>        </div>"
      ]
     },
     "metadata": {},
     "output_type": "display_data"
    }
   ],
   "source": [
    "fig = make_subplots(rows = 2,cols = 2,\n",
    "                    subplot_titles=(\"fold1\", \"fold2\", \"fold3\", \"fold4\"))\n",
    "tuples = [(1,1),(1,2),(2,1),(2,2)]\n",
    "for i in range(len(evals_results)):\n",
    "    train_log = evals_results[i]['train']['balanced_logloss'] \n",
    "    eval_log = evals_results[i]['valid']['balanced_logloss'] \n",
    "    x = np.arange(1,1+len(train_log))\n",
    "    fig.add_trace(go.Scatter(x = x, y = train_log,mode = 'lines',name = 'train'),\n",
    "                 row = tuples[i][0],col = tuples[i][1])\n",
    "    fig.add_trace(go.Scatter(x = x, y = eval_log,mode = 'lines',name = 'eval'),\n",
    "                 row = tuples[i][0],col = tuples[i][1])\n",
    "fig.update_layout(\n",
    "    title = \"fold1, fold2, fold3, fold4\"\n",
    ")"
   ]
  },
  {
   "cell_type": "code",
   "execution_count": 38,
   "id": "012c653e",
   "metadata": {},
   "outputs": [
    {
     "data": {
      "image/png": "[encoded data removed]",
      "text/plain": [
       "<Figure size 1200x800 with 4 Axes>"
      ]
     },
     "metadata": {},
     "output_type": "display_data"
    }
   ],
   "source": [
    "fig, axes = plt.subplots(nrows=2, ncols=2, figsize=(12, 8))\n",
    "\n",
    "\n",
    "# 各モデルに対して特徴量の重要度をプロット\n",
    "for i, model in enumerate(models):\n",
    "    # 重要度の取得\n",
    "    importance = model.feature_importance(importance_type='gain')\n",
    "    # 特徴量の名前の取得\n",
    "    feature_names = model.feature_name()\n",
    "\n",
    "    # 重要度を降順にソートして上位20個を選択\n",
    "    top_features = sorted(zip(feature_names, importance), key=lambda x: x[1], reverse=True)[:20]\n",
    "    # 上位20個の特徴量とその重要度を取得\n",
    "    top_feature_names = [feat[0] for feat in top_features]\n",
    "    top_feature_importance = [feat[1] for feat in top_features]\n",
    "\n",
    "    # サブプロットにプロット\n",
    "    ax = axes[i // 2, i % 2]  # サブプロットの位置を指定\n",
    "    ax.barh(range(len(top_feature_names)), top_feature_importance, align='center')\n",
    "    ax.set_yticks(range(len(top_feature_names)))\n",
    "    ax.set_yticklabels(top_feature_names)\n",
    "    ax.set_xlabel('Feature Importance')\n",
    "    ax.set_ylabel('Feature')\n",
    "    ax.set_title(f'Model {i+1} - Top 20 Important Features')\n",
    "\n",
    "# サブプロット間のスペースを調整\n",
    "plt.tight_layout()\n",
    "\n",
    "# プロットの表示\n",
    "plt.show()"
   ]
  },
  {
   "cell_type": "code",
   "execution_count": 49,
   "id": "31980885",
   "metadata": {},
   "outputs": [
    {
     "data": {
      "text/plain": [
       "0.38747571516830626"
      ]
     },
     "execution_count": 49,
     "metadata": {},
     "output_type": "execute_result"
    }
   ],
   "source": [
    "evaluate(X_df.columns,X_df,y_df)"
   ]
  },
  {
   "cell_type": "code",
   "execution_count": 40,
   "id": "f4266dd2",
   "metadata": {},
   "outputs": [
    {
     "data": {
      "text/plain": [
       "3151"
      ]
     },
     "execution_count": 40,
     "metadata": {},
     "output_type": "execute_result"
    }
   ],
   "source": [
    "len(model.feature_importance())"
   ]
  },
  {
   "cell_type": "code",
   "execution_count": 58,
   "id": "85b1325a",
   "metadata": {},
   "outputs": [
    {
     "name": "stderr",
     "output_type": "stream",
     "text": [
      "C:\\Users\\ghibl\\AppData\\Local\\Temp\\ipykernel_5256\\3122687559.py:12: RuntimeWarning:\n",
      "\n",
      "invalid value encountered in divide\n",
      "\n",
      "C:\\Users\\ghibl\\AppData\\Local\\Temp\\ipykernel_5256\\3122687559.py:17: FutureWarning:\n",
      "\n",
      "DataFrame.set_axis 'inplace' keyword is deprecated and will be removed in a future version. Use `obj = obj.set_axis(..., copy=False)` instead\n",
      "\n"
     ]
    }
   ],
   "source": [
    "feature_importances = []\n",
    "feature_names = []\n",
    "features_df = pd.DataFrame()\n",
    "for i,model in enumerate(models):\n",
    "    feature_importance = model.feature_importance(importance_type='gain')\n",
    "    feature_importances.append(feature_importance)\n",
    "    features_df[f\"Fold{i+1}\"] = feature_importance\n",
    "feature_name = model.feature_name()\n",
    "feature_importances_array = np.array(feature_importances)\n",
    "mean_importances = np.mean(feature_importances,axis = 0)\n",
    "std_importances = np.std(feature_importances,axis = 0)\n",
    "coefficient_of_variation = std_importances / mean_importances\n",
    "\n",
    "features_df[\"Mean\"] = mean_importances\n",
    "features_df[\"Std\"] = std_importances\n",
    "features_df[\"CV\"] = coefficient_of_variation\n",
    "features_df.set_axis(feature_name,axis = 0, inplace = True)\n"
   ]
  },
  {
   "cell_type": "code",
   "execution_count": 59,
   "id": "11273409",
   "metadata": {},
   "outputs": [
    {
     "data": {
      "text/plain": [
       "1258"
      ]
     },
     "execution_count": 59,
     "metadata": {},
     "output_type": "execute_result"
    }
   ],
   "source": [
    "features_df[\"CV\"].notnull().sum()"
   ]
  },
  {
   "cell_type": "code",
   "execution_count": 60,
   "id": "83f34784",
   "metadata": {},
   "outputs": [],
   "source": [
    "features_df_nonull = features_df.dropna(how = \"any\")"
   ]
  },
  {
   "cell_type": "code",
   "execution_count": 61,
   "id": "95989033",
   "metadata": {
    "scrolled": false
   },
   "outputs": [
    {
     "data": {
      "text/html": [
       "<div>\n",
       "<style scoped>\n",
       "    .dataframe tbody tr th:only-of-type {\n",
       "        vertical-align: middle;\n",
       "    }\n",
       "\n",
       "    .dataframe tbody tr th {\n",
       "        vertical-align: top;\n",
       "    }\n",
       "\n",
       "    .dataframe thead th {\n",
       "        text-align: right;\n",
       "    }\n",
       "</style>\n",
       "<table border=\"1\" class=\"dataframe\">\n",
       "  <thead>\n",
       "    <tr style=\"text-align: right;\">\n",
       "      <th></th>\n",
       "      <th>Fold1</th>\n",
       "      <th>Fold2</th>\n",
       "      <th>Fold3</th>\n",
       "      <th>Fold4</th>\n",
       "      <th>Mean</th>\n",
       "      <th>Std</th>\n",
       "      <th>CV</th>\n",
       "    </tr>\n",
       "  </thead>\n",
       "  <tbody>\n",
       "    <tr>\n",
       "      <th>DU_FR_sum</th>\n",
       "      <td>319.412841</td>\n",
       "      <td>424.188562</td>\n",
       "      <td>475.663838</td>\n",
       "      <td>374.608086</td>\n",
       "      <td>398.468332</td>\n",
       "      <td>57.964986</td>\n",
       "      <td>0.145469</td>\n",
       "    </tr>\n",
       "    <tr>\n",
       "      <th>BQ_DY_mul</th>\n",
       "      <td>32.499933</td>\n",
       "      <td>26.327416</td>\n",
       "      <td>27.277645</td>\n",
       "      <td>9.524480</td>\n",
       "      <td>23.907368</td>\n",
       "      <td>8.630108</td>\n",
       "      <td>0.360981</td>\n",
       "    </tr>\n",
       "    <tr>\n",
       "      <th>AB_AF_mul</th>\n",
       "      <td>18.800375</td>\n",
       "      <td>5.737046</td>\n",
       "      <td>22.489401</td>\n",
       "      <td>15.898708</td>\n",
       "      <td>15.731383</td>\n",
       "      <td>6.225036</td>\n",
       "      <td>0.395708</td>\n",
       "    </tr>\n",
       "    <tr>\n",
       "      <th>CR_DL_mul</th>\n",
       "      <td>27.487558</td>\n",
       "      <td>70.449392</td>\n",
       "      <td>36.422439</td>\n",
       "      <td>19.782883</td>\n",
       "      <td>38.535568</td>\n",
       "      <td>19.343469</td>\n",
       "      <td>0.501964</td>\n",
       "    </tr>\n",
       "    <tr>\n",
       "      <th>BC_FL_sum</th>\n",
       "      <td>17.887690</td>\n",
       "      <td>79.782726</td>\n",
       "      <td>108.735059</td>\n",
       "      <td>164.297642</td>\n",
       "      <td>92.675779</td>\n",
       "      <td>52.789868</td>\n",
       "      <td>0.569619</td>\n",
       "    </tr>\n",
       "    <tr>\n",
       "      <th>BQ_GH_mul</th>\n",
       "      <td>23.119096</td>\n",
       "      <td>17.166317</td>\n",
       "      <td>0.037055</td>\n",
       "      <td>17.458830</td>\n",
       "      <td>14.445324</td>\n",
       "      <td>8.650398</td>\n",
       "      <td>0.598837</td>\n",
       "    </tr>\n",
       "    <tr>\n",
       "      <th>AB_EH_sum</th>\n",
       "      <td>20.614034</td>\n",
       "      <td>32.100254</td>\n",
       "      <td>0.000000</td>\n",
       "      <td>30.964391</td>\n",
       "      <td>20.919670</td>\n",
       "      <td>12.880488</td>\n",
       "      <td>0.615712</td>\n",
       "    </tr>\n",
       "    <tr>\n",
       "      <th>AY_DL_mul</th>\n",
       "      <td>7.505700</td>\n",
       "      <td>10.794710</td>\n",
       "      <td>5.913060</td>\n",
       "      <td>25.338216</td>\n",
       "      <td>12.387921</td>\n",
       "      <td>7.681282</td>\n",
       "      <td>0.620062</td>\n",
       "    </tr>\n",
       "    <tr>\n",
       "      <th>CR_DA_mul</th>\n",
       "      <td>65.499368</td>\n",
       "      <td>39.821721</td>\n",
       "      <td>0.000000</td>\n",
       "      <td>63.617491</td>\n",
       "      <td>42.234645</td>\n",
       "      <td>26.401046</td>\n",
       "      <td>0.625104</td>\n",
       "    </tr>\n",
       "    <tr>\n",
       "      <th>CD_GL_mul</th>\n",
       "      <td>10.165900</td>\n",
       "      <td>17.339835</td>\n",
       "      <td>0.000000</td>\n",
       "      <td>15.273488</td>\n",
       "      <td>10.694806</td>\n",
       "      <td>6.704091</td>\n",
       "      <td>0.626855</td>\n",
       "    </tr>\n",
       "    <tr>\n",
       "      <th>CC_CR_mul</th>\n",
       "      <td>6.593468</td>\n",
       "      <td>3.391514</td>\n",
       "      <td>7.327980</td>\n",
       "      <td>0.000043</td>\n",
       "      <td>4.328251</td>\n",
       "      <td>2.904326</td>\n",
       "      <td>0.671016</td>\n",
       "    </tr>\n",
       "    <tr>\n",
       "      <th>EG_EP_mul</th>\n",
       "      <td>11.649700</td>\n",
       "      <td>17.642940</td>\n",
       "      <td>38.287750</td>\n",
       "      <td>5.353280</td>\n",
       "      <td>18.233417</td>\n",
       "      <td>12.366974</td>\n",
       "      <td>0.678259</td>\n",
       "    </tr>\n",
       "    <tr>\n",
       "      <th>DA_DE_mul</th>\n",
       "      <td>89.292000</td>\n",
       "      <td>0.646086</td>\n",
       "      <td>53.466046</td>\n",
       "      <td>126.982246</td>\n",
       "      <td>67.596594</td>\n",
       "      <td>46.581620</td>\n",
       "      <td>0.689112</td>\n",
       "    </tr>\n",
       "    <tr>\n",
       "      <th>DE_EE_mul</th>\n",
       "      <td>55.758251</td>\n",
       "      <td>2.016140</td>\n",
       "      <td>26.685512</td>\n",
       "      <td>24.349849</td>\n",
       "      <td>27.202438</td>\n",
       "      <td>19.093118</td>\n",
       "      <td>0.701890</td>\n",
       "    </tr>\n",
       "    <tr>\n",
       "      <th>EE_FE_mul</th>\n",
       "      <td>0.000094</td>\n",
       "      <td>0.000000</td>\n",
       "      <td>0.000235</td>\n",
       "      <td>0.000222</td>\n",
       "      <td>0.000138</td>\n",
       "      <td>0.000097</td>\n",
       "      <td>0.701995</td>\n",
       "    </tr>\n",
       "    <tr>\n",
       "      <th>CC_DU_sum</th>\n",
       "      <td>3.331760</td>\n",
       "      <td>8.683531</td>\n",
       "      <td>0.000000</td>\n",
       "      <td>6.799851</td>\n",
       "      <td>4.703785</td>\n",
       "      <td>3.325655</td>\n",
       "      <td>0.707017</td>\n",
       "    </tr>\n",
       "    <tr>\n",
       "      <th>AX_EG_mul</th>\n",
       "      <td>14.381430</td>\n",
       "      <td>25.787900</td>\n",
       "      <td>44.025219</td>\n",
       "      <td>0.000000</td>\n",
       "      <td>21.048637</td>\n",
       "      <td>16.108078</td>\n",
       "      <td>0.765279</td>\n",
       "    </tr>\n",
       "    <tr>\n",
       "      <th>AB_FI_mul</th>\n",
       "      <td>4.566940</td>\n",
       "      <td>1.203760</td>\n",
       "      <td>0.000000</td>\n",
       "      <td>5.298330</td>\n",
       "      <td>2.767257</td>\n",
       "      <td>2.221904</td>\n",
       "      <td>0.802926</td>\n",
       "    </tr>\n",
       "    <tr>\n",
       "      <th>AB_FE_mul</th>\n",
       "      <td>21.897467</td>\n",
       "      <td>20.063209</td>\n",
       "      <td>88.320927</td>\n",
       "      <td>15.348011</td>\n",
       "      <td>36.407404</td>\n",
       "      <td>30.067353</td>\n",
       "      <td>0.825858</td>\n",
       "    </tr>\n",
       "    <tr>\n",
       "      <th>BQ_EL_mul</th>\n",
       "      <td>8.898190</td>\n",
       "      <td>20.717217</td>\n",
       "      <td>1.931080</td>\n",
       "      <td>3.389135</td>\n",
       "      <td>8.733906</td>\n",
       "      <td>7.390395</td>\n",
       "      <td>0.846173</td>\n",
       "    </tr>\n",
       "    <tr>\n",
       "      <th>BQ_DI_sum</th>\n",
       "      <td>5.673667</td>\n",
       "      <td>21.839600</td>\n",
       "      <td>0.000000</td>\n",
       "      <td>9.860679</td>\n",
       "      <td>9.343486</td>\n",
       "      <td>8.018551</td>\n",
       "      <td>0.858197</td>\n",
       "    </tr>\n",
       "    <tr>\n",
       "      <th>AB_GL_mul</th>\n",
       "      <td>15.024259</td>\n",
       "      <td>52.789639</td>\n",
       "      <td>0.000000</td>\n",
       "      <td>19.334967</td>\n",
       "      <td>21.787216</td>\n",
       "      <td>19.284606</td>\n",
       "      <td>0.885134</td>\n",
       "    </tr>\n",
       "    <tr>\n",
       "      <th>AB_EL_mul</th>\n",
       "      <td>62.954986</td>\n",
       "      <td>6.015553</td>\n",
       "      <td>12.357000</td>\n",
       "      <td>122.624280</td>\n",
       "      <td>50.987955</td>\n",
       "      <td>46.877074</td>\n",
       "      <td>0.919375</td>\n",
       "    </tr>\n",
       "    <tr>\n",
       "      <th>AX_GL_mul</th>\n",
       "      <td>0.000000</td>\n",
       "      <td>6.001816</td>\n",
       "      <td>5.634474</td>\n",
       "      <td>0.374360</td>\n",
       "      <td>3.002662</td>\n",
       "      <td>2.821582</td>\n",
       "      <td>0.939694</td>\n",
       "    </tr>\n",
       "    <tr>\n",
       "      <th>CC_CH_mul</th>\n",
       "      <td>0.000027</td>\n",
       "      <td>9.703561</td>\n",
       "      <td>1.628882</td>\n",
       "      <td>3.524549</td>\n",
       "      <td>3.714255</td>\n",
       "      <td>3.676005</td>\n",
       "      <td>0.989702</td>\n",
       "    </tr>\n",
       "    <tr>\n",
       "      <th>AB_GH_mul</th>\n",
       "      <td>0.000086</td>\n",
       "      <td>2.350467</td>\n",
       "      <td>0.000000</td>\n",
       "      <td>2.368530</td>\n",
       "      <td>1.179771</td>\n",
       "      <td>1.179745</td>\n",
       "      <td>0.999978</td>\n",
       "    </tr>\n",
       "    <tr>\n",
       "      <th>CS_DL_mul</th>\n",
       "      <td>0.000000</td>\n",
       "      <td>4.160404</td>\n",
       "      <td>0.000000</td>\n",
       "      <td>4.055371</td>\n",
       "      <td>2.053944</td>\n",
       "      <td>2.054279</td>\n",
       "      <td>1.000163</td>\n",
       "    </tr>\n",
       "    <tr>\n",
       "      <th>CC_FR_mul</th>\n",
       "      <td>0.000000</td>\n",
       "      <td>1.536410</td>\n",
       "      <td>0.000000</td>\n",
       "      <td>1.602160</td>\n",
       "      <td>0.784643</td>\n",
       "      <td>0.784987</td>\n",
       "      <td>1.000439</td>\n",
       "    </tr>\n",
       "    <tr>\n",
       "      <th>CH_GE_mul</th>\n",
       "      <td>0.000000</td>\n",
       "      <td>2.041290</td>\n",
       "      <td>0.000000</td>\n",
       "      <td>1.956837</td>\n",
       "      <td>0.999532</td>\n",
       "      <td>0.999978</td>\n",
       "      <td>1.000446</td>\n",
       "    </tr>\n",
       "    <tr>\n",
       "      <th>DN_FE_mul</th>\n",
       "      <td>0.000171</td>\n",
       "      <td>0.000181</td>\n",
       "      <td>0.000000</td>\n",
       "      <td>0.000000</td>\n",
       "      <td>0.000088</td>\n",
       "      <td>0.000088</td>\n",
       "      <td>1.000849</td>\n",
       "    </tr>\n",
       "  </tbody>\n",
       "</table>\n",
       "</div>"
      ],
      "text/plain": [
       "                Fold1       Fold2       Fold3       Fold4        Mean  \\\n",
       "DU_FR_sum  319.412841  424.188562  475.663838  374.608086  398.468332   \n",
       "BQ_DY_mul   32.499933   26.327416   27.277645    9.524480   23.907368   \n",
       "AB_AF_mul   18.800375    5.737046   22.489401   15.898708   15.731383   \n",
       "CR_DL_mul   27.487558   70.449392   36.422439   19.782883   38.535568   \n",
       "BC_FL_sum   17.887690   79.782726  108.735059  164.297642   92.675779   \n",
       "BQ_GH_mul   23.119096   17.166317    0.037055   17.458830   14.445324   \n",
       "AB_EH_sum   20.614034   32.100254    0.000000   30.964391   20.919670   \n",
       "AY_DL_mul    7.505700   10.794710    5.913060   25.338216   12.387921   \n",
       "CR_DA_mul   65.499368   39.821721    0.000000   63.617491   42.234645   \n",
       "CD_GL_mul   10.165900   17.339835    0.000000   15.273488   10.694806   \n",
       "CC_CR_mul    6.593468    3.391514    7.327980    0.000043    4.328251   \n",
       "EG_EP_mul   11.649700   17.642940   38.287750    5.353280   18.233417   \n",
       "DA_DE_mul   89.292000    0.646086   53.466046  126.982246   67.596594   \n",
       "DE_EE_mul   55.758251    2.016140   26.685512   24.349849   27.202438   \n",
       "EE_FE_mul    0.000094    0.000000    0.000235    0.000222    0.000138   \n",
       "CC_DU_sum    3.331760    8.683531    0.000000    6.799851    4.703785   \n",
       "AX_EG_mul   14.381430   25.787900   44.025219    0.000000   21.048637   \n",
       "AB_FI_mul    4.566940    1.203760    0.000000    5.298330    2.767257   \n",
       "AB_FE_mul   21.897467   20.063209   88.320927   15.348011   36.407404   \n",
       "BQ_EL_mul    8.898190   20.717217    1.931080    3.389135    8.733906   \n",
       "BQ_DI_sum    5.673667   21.839600    0.000000    9.860679    9.343486   \n",
       "AB_GL_mul   15.024259   52.789639    0.000000   19.334967   21.787216   \n",
       "AB_EL_mul   62.954986    6.015553   12.357000  122.624280   50.987955   \n",
       "AX_GL_mul    0.000000    6.001816    5.634474    0.374360    3.002662   \n",
       "CC_CH_mul    0.000027    9.703561    1.628882    3.524549    3.714255   \n",
       "AB_GH_mul    0.000086    2.350467    0.000000    2.368530    1.179771   \n",
       "CS_DL_mul    0.000000    4.160404    0.000000    4.055371    2.053944   \n",
       "CC_FR_mul    0.000000    1.536410    0.000000    1.602160    0.784643   \n",
       "CH_GE_mul    0.000000    2.041290    0.000000    1.956837    0.999532   \n",
       "DN_FE_mul    0.000171    0.000181    0.000000    0.000000    0.000088   \n",
       "\n",
       "                 Std        CV  \n",
       "DU_FR_sum  57.964986  0.145469  \n",
       "BQ_DY_mul   8.630108  0.360981  \n",
       "AB_AF_mul   6.225036  0.395708  \n",
       "CR_DL_mul  19.343469  0.501964  \n",
       "BC_FL_sum  52.789868  0.569619  \n",
       "BQ_GH_mul   8.650398  0.598837  \n",
       "AB_EH_sum  12.880488  0.615712  \n",
       "AY_DL_mul   7.681282  0.620062  \n",
       "CR_DA_mul  26.401046  0.625104  \n",
       "CD_GL_mul   6.704091  0.626855  \n",
       "CC_CR_mul   2.904326  0.671016  \n",
       "EG_EP_mul  12.366974  0.678259  \n",
       "DA_DE_mul  46.581620  0.689112  \n",
       "DE_EE_mul  19.093118  0.701890  \n",
       "EE_FE_mul   0.000097  0.701995  \n",
       "CC_DU_sum   3.325655  0.707017  \n",
       "AX_EG_mul  16.108078  0.765279  \n",
       "AB_FI_mul   2.221904  0.802926  \n",
       "AB_FE_mul  30.067353  0.825858  \n",
       "BQ_EL_mul   7.390395  0.846173  \n",
       "BQ_DI_sum   8.018551  0.858197  \n",
       "AB_GL_mul  19.284606  0.885134  \n",
       "AB_EL_mul  46.877074  0.919375  \n",
       "AX_GL_mul   2.821582  0.939694  \n",
       "CC_CH_mul   3.676005  0.989702  \n",
       "AB_GH_mul   1.179745  0.999978  \n",
       "CS_DL_mul   2.054279  1.000163  \n",
       "CC_FR_mul   0.784987  1.000439  \n",
       "CH_GE_mul   0.999978  1.000446  \n",
       "DN_FE_mul   0.000088  1.000849  "
      ]
     },
     "execution_count": 61,
     "metadata": {},
     "output_type": "execute_result"
    }
   ],
   "source": [
    "features_df_nonull.sort_values(by =\"CV\", ascending = True).head(30)"
   ]
  },
  {
   "cell_type": "code",
   "execution_count": 45,
   "id": "3de0f22f",
   "metadata": {
    "scrolled": true
   },
   "outputs": [
    {
     "data": {
      "text/plain": [
       "1258"
      ]
     },
     "execution_count": 45,
     "metadata": {},
     "output_type": "execute_result"
    }
   ],
   "source": [
    "selected = list(features_df_nonull.index)\n",
    "len(selected)"
   ]
  },
  {
   "cell_type": "code",
   "execution_count": 50,
   "id": "ab8c29c1",
   "metadata": {},
   "outputs": [
    {
     "data": {
      "text/plain": [
       "0.38612527880939673"
      ]
     },
     "execution_count": 50,
     "metadata": {},
     "output_type": "execute_result"
    }
   ],
   "source": [
    "evaluate(selected,X_df,y_df)"
   ]
  },
  {
   "cell_type": "code",
   "execution_count": null,
   "id": "70dacf70",
   "metadata": {},
   "outputs": [],
   "source": []
  }
 ],
 "metadata": {
  "kernelspec": {
   "display_name": "Python 3 (ipykernel)",
   "language": "python",
   "name": "python3"
  },
  "language_info": {
   "codemirror_mode": {
    "name": "ipython",
    "version": 3
   },
   "file_extension": ".py",
   "mimetype": "text/x-python",
   "name": "python",
   "nbconvert_exporter": "python",
   "pygments_lexer": "ipython3",
   "version": "3.11.3"
  }
 },
 "nbformat": 4,
 "nbformat_minor": 5
}
