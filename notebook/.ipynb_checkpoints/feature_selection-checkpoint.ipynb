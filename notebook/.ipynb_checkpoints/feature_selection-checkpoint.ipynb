{
 "cells": [
  {
   "cell_type": "code",
   "execution_count": 1,
   "id": "976dd40b",
   "metadata": {
    "scrolled": true
   },
   "outputs": [],
   "source": [
    "import pandas as pd\n",
    "import numpy as np\n",
    "import matplotlib.pyplot as plt\n",
    "import lightgbm as lgb\n",
    "from sklearn.model_selection import StratifiedKFold,KFold\n",
    "from sklearn.preprocessing import LabelEncoder\n",
    "from sklearn.metrics import log_loss\n",
    "import plotly.graph_objects as go\n",
    "from plotly.subplots import make_subplots\n",
    "import itertools\n",
    "from utils import *\n"
   ]
  },
  {
   "cell_type": "code",
   "execution_count": 2,
   "id": "1342ec40",
   "metadata": {},
   "outputs": [],
   "source": [
    "dataset_df = pd.read_csv(r\"C:\\Users\\ghibl\\ICR\\data\\input\\all_features.csv\")\n",
    "dataset_df.drop(\"Id\",axis = 1, inplace = True)"
   ]
  },
  {
   "cell_type": "code",
   "execution_count": 3,
   "id": "7ddf7b06",
   "metadata": {},
   "outputs": [],
   "source": [
    "X_df = dataset_df.drop(\"Class\",axis =1)\n",
    "y_df = dataset_df[\"Class\"].copy()\n"
   ]
  },
  {
   "cell_type": "code",
   "execution_count": 4,
   "id": "f854abfe",
   "metadata": {
    "scrolled": true
   },
   "outputs": [
    {
     "data": {
      "text/plain": [
       "array([1, 0], dtype=int64)"
      ]
     },
     "execution_count": 4,
     "metadata": {},
     "output_type": "execute_result"
    }
   ],
   "source": [
    "y_df.unique()"
   ]
  },
  {
   "cell_type": "code",
   "execution_count": 5,
   "id": "8bfce26d",
   "metadata": {},
   "outputs": [
    {
     "data": {
      "text/plain": [
       "0.6931471805599452"
      ]
     },
     "execution_count": 5,
     "metadata": {},
     "output_type": "execute_result"
    }
   ],
   "source": [
    "dtrain = lgb.Dataset(X_df.values, label = y_df.values)\n",
    "y_true = dtrain.get_label()\n",
    "y_pred = np.array([0.5]*len(y_true))\n",
    "balanced_logloss(y_pred,y_true)\n"
   ]
  },
  {
   "cell_type": "code",
   "execution_count": 17,
   "id": "392a3695",
   "metadata": {},
   "outputs": [
    {
     "name": "stdout",
     "output_type": "stream",
     "text": [
      "[10]\ttrain's balanced_logloss: 0.595606\tvalid's balanced_logloss: 0.633591\n",
      "[20]\ttrain's balanced_logloss: 0.550565\tvalid's balanced_logloss: 0.605593\n",
      "[30]\ttrain's balanced_logloss: 0.526917\tvalid's balanced_logloss: 0.594\n",
      "[40]\ttrain's balanced_logloss: 0.515557\tvalid's balanced_logloss: 0.586914\n",
      "[50]\ttrain's balanced_logloss: 0.509549\tvalid's balanced_logloss: 0.583369\n",
      "[60]\ttrain's balanced_logloss: 0.506392\tvalid's balanced_logloss: 0.57604\n",
      "[70]\ttrain's balanced_logloss: 0.504781\tvalid's balanced_logloss: 0.574572\n",
      "[80]\ttrain's balanced_logloss: 0.504002\tvalid's balanced_logloss: 0.5771\n",
      "balanced_logloss:0.5744\n",
      "[10]\ttrain's balanced_logloss: 0.596816\tvalid's balanced_logloss: 0.62299\n",
      "[20]\ttrain's balanced_logloss: 0.549859\tvalid's balanced_logloss: 0.599894\n",
      "[30]\ttrain's balanced_logloss: 0.527858\tvalid's balanced_logloss: 0.584723\n",
      "[40]\ttrain's balanced_logloss: 0.515998\tvalid's balanced_logloss: 0.578939\n",
      "[50]\ttrain's balanced_logloss: 0.510135\tvalid's balanced_logloss: 0.575248\n",
      "[60]\ttrain's balanced_logloss: 0.506749\tvalid's balanced_logloss: 0.573497\n",
      "[70]\ttrain's balanced_logloss: 0.50509\tvalid's balanced_logloss: 0.569728\n",
      "[80]\ttrain's balanced_logloss: 0.504179\tvalid's balanced_logloss: 0.569863\n",
      "[90]\ttrain's balanced_logloss: 0.503726\tvalid's balanced_logloss: 0.568813\n",
      "[100]\ttrain's balanced_logloss: 0.503476\tvalid's balanced_logloss: 0.568824\n",
      "[110]\ttrain's balanced_logloss: 0.503346\tvalid's balanced_logloss: 0.568393\n",
      "balanced_logloss:0.5681\n",
      "[10]\ttrain's balanced_logloss: 0.595946\tvalid's balanced_logloss: 0.6414\n",
      "[20]\ttrain's balanced_logloss: 0.550586\tvalid's balanced_logloss: 0.61985\n",
      "[30]\ttrain's balanced_logloss: 0.526578\tvalid's balanced_logloss: 0.608219\n",
      "[40]\ttrain's balanced_logloss: 0.515161\tvalid's balanced_logloss: 0.599748\n",
      "[50]\ttrain's balanced_logloss: 0.509013\tvalid's balanced_logloss: 0.595613\n",
      "[60]\ttrain's balanced_logloss: 0.506138\tvalid's balanced_logloss: 0.592663\n",
      "[70]\ttrain's balanced_logloss: 0.504656\tvalid's balanced_logloss: 0.592572\n",
      "[80]\ttrain's balanced_logloss: 0.503918\tvalid's balanced_logloss: 0.591457\n",
      "balanced_logloss:0.5912\n",
      "[10]\ttrain's balanced_logloss: 0.596537\tvalid's balanced_logloss: 0.621496\n",
      "[20]\ttrain's balanced_logloss: 0.550792\tvalid's balanced_logloss: 0.594318\n",
      "[30]\ttrain's balanced_logloss: 0.52837\tvalid's balanced_logloss: 0.579838\n",
      "[40]\ttrain's balanced_logloss: 0.516411\tvalid's balanced_logloss: 0.571538\n",
      "[50]\ttrain's balanced_logloss: 0.509799\tvalid's balanced_logloss: 0.565638\n",
      "[60]\ttrain's balanced_logloss: 0.506661\tvalid's balanced_logloss: 0.560787\n",
      "[70]\ttrain's balanced_logloss: 0.504988\tvalid's balanced_logloss: 0.559262\n",
      "[80]\ttrain's balanced_logloss: 0.504105\tvalid's balanced_logloss: 0.555822\n",
      "[90]\ttrain's balanced_logloss: 0.503666\tvalid's balanced_logloss: 0.553795\n",
      "[100]\ttrain's balanced_logloss: 0.50344\tvalid's balanced_logloss: 0.553788\n",
      "[110]\ttrain's balanced_logloss: 0.503325\tvalid's balanced_logloss: 0.554094\n",
      "[120]\ttrain's balanced_logloss: 0.503264\tvalid's balanced_logloss: 0.552585\n",
      "[130]\ttrain's balanced_logloss: 0.503236\tvalid's balanced_logloss: 0.551791\n",
      "[140]\ttrain's balanced_logloss: 0.503222\tvalid's balanced_logloss: 0.550988\n",
      "[150]\ttrain's balanced_logloss: 0.503215\tvalid's balanced_logloss: 0.550346\n",
      "[160]\ttrain's balanced_logloss: 0.503212\tvalid's balanced_logloss: 0.548911\n",
      "[170]\ttrain's balanced_logloss: 0.50321\tvalid's balanced_logloss: 0.548395\n",
      "[180]\ttrain's balanced_logloss: 0.503209\tvalid's balanced_logloss: 0.549112\n",
      "[190]\ttrain's balanced_logloss: 0.503209\tvalid's balanced_logloss: 0.548629\n",
      "balanced_logloss:0.5484\n",
      "0.5705154697365399\n"
     ]
    }
   ],
   "source": [
    "fs = X_df.columns\n",
    "scores= []\n",
    "evals_result = {}\n",
    "skf = StratifiedKFold(n_splits = 4, shuffle = True, random_state = 42)\n",
    "\n",
    "for tr_idx, va_idx in skf.split(X_df, y_df):\n",
    "    X_train, X_valid = X_df.iloc[tr_idx], X_df.iloc[va_idx]\n",
    "    y_train, y_valid = y_df.iloc[tr_idx], y_df.iloc[va_idx]\n",
    "    \n",
    "    dtrain = lgb.Dataset(X_train.values, label = y_train.values)\n",
    "    dvalid = lgb.Dataset(X_valid.values, label = y_valid.values)\n",
    "\n",
    "    evals_result = {}\n",
    "    params = {'metric':'custom',\n",
    "              'objective':'binary',\n",
    "              'verbosity':-1,\n",
    "              'random_state' : 42, \n",
    "              'learning_rate': 0.1,\n",
    "              'early_stopping_round':20\n",
    "             }\n",
    "\n",
    "    callbacks = [lgb.early_stopping(20, verbose=0), lgb.log_evaluation(period=10)]\n",
    "    model = lgb.train(params,\n",
    "                      dtrain, \n",
    "                      num_boost_round = 500,\n",
    "                      valid_sets = [dtrain,dvalid],\n",
    "                      valid_names = ['train','valid'],\n",
    "                      feval = original_balanced_logloss_metric,\n",
    "                      callbacks = callbacks\n",
    "                     )\n",
    "    score = model.best_score['valid']['balanced_logloss']\n",
    "    scores.append(score)\n",
    "    print(f'balanced_logloss:{score:.4f}')\n",
    "score_cv = np.mean(scores)\n",
    "print(score_cv)"
   ]
  },
  {
   "cell_type": "code",
   "execution_count": 20,
   "id": "71024a07",
   "metadata": {
    "scrolled": true
   },
   "outputs": [
    {
     "ename": "NameError",
     "evalue": "name 'eval_result' is not defined",
     "output_type": "error",
     "traceback": [
      "\u001b[1;31m---------------------------------------------------------------------------\u001b[0m",
      "\u001b[1;31mNameError\u001b[0m                                 Traceback (most recent call last)",
      "Cell \u001b[1;32mIn[20], line 22\u001b[0m\n\u001b[0;32m     13\u001b[0m evals_result \u001b[38;5;241m=\u001b[39m {}\n\u001b[0;32m     14\u001b[0m params \u001b[38;5;241m=\u001b[39m {\u001b[38;5;124m'\u001b[39m\u001b[38;5;124mmetric\u001b[39m\u001b[38;5;124m'\u001b[39m:\u001b[38;5;124m'\u001b[39m\u001b[38;5;124mcustom\u001b[39m\u001b[38;5;124m'\u001b[39m,\n\u001b[0;32m     15\u001b[0m           \u001b[38;5;124m'\u001b[39m\u001b[38;5;124mobjective\u001b[39m\u001b[38;5;124m'\u001b[39m:\u001b[38;5;124m'\u001b[39m\u001b[38;5;124mcustom\u001b[39m\u001b[38;5;124m'\u001b[39m,\n\u001b[0;32m     16\u001b[0m           \u001b[38;5;124m'\u001b[39m\u001b[38;5;124mverbosity\u001b[39m\u001b[38;5;124m'\u001b[39m:\u001b[38;5;241m-\u001b[39m\u001b[38;5;241m1\u001b[39m,\n\u001b[1;32m   (...)\u001b[0m\n\u001b[0;32m     19\u001b[0m           \u001b[38;5;124m'\u001b[39m\u001b[38;5;124mearly_stopping_round\u001b[39m\u001b[38;5;124m'\u001b[39m:\u001b[38;5;241m20\u001b[39m\n\u001b[0;32m     20\u001b[0m          }\n\u001b[1;32m---> 22\u001b[0m callbacks \u001b[38;5;241m=\u001b[39m [lgb\u001b[38;5;241m.\u001b[39mearly_stopping(\u001b[38;5;241m20\u001b[39m, verbose\u001b[38;5;241m=\u001b[39m\u001b[38;5;241m0\u001b[39m), lgb\u001b[38;5;241m.\u001b[39mlog_evaluation(period\u001b[38;5;241m=\u001b[39m\u001b[38;5;241m10\u001b[39m),lgb\u001b[38;5;241m.\u001b[39mrecord_evaluation(eval_result)]\n\u001b[0;32m     23\u001b[0m model \u001b[38;5;241m=\u001b[39m lgb\u001b[38;5;241m.\u001b[39mtrain(params,\n\u001b[0;32m     24\u001b[0m                   dtrain, \n\u001b[0;32m     25\u001b[0m                   num_boost_round \u001b[38;5;241m=\u001b[39m \u001b[38;5;241m500\u001b[39m,\n\u001b[1;32m   (...)\u001b[0m\n\u001b[0;32m     30\u001b[0m                   callbacks \u001b[38;5;241m=\u001b[39m callbacks\n\u001b[0;32m     31\u001b[0m                  )\n\u001b[0;32m     32\u001b[0m score \u001b[38;5;241m=\u001b[39m model\u001b[38;5;241m.\u001b[39mbest_score[\u001b[38;5;124m'\u001b[39m\u001b[38;5;124mvalid\u001b[39m\u001b[38;5;124m'\u001b[39m][\u001b[38;5;124m'\u001b[39m\u001b[38;5;124mbalanced_logloss\u001b[39m\u001b[38;5;124m'\u001b[39m]\n",
      "\u001b[1;31mNameError\u001b[0m: name 'eval_result' is not defined"
     ]
    }
   ],
   "source": [
    "fs = X_df.columns\n",
    "scores= []\n",
    "evals_result = {}\n",
    "skf = StratifiedKFold(n_splits = 4, shuffle = True, random_state = 42)\n",
    "\n",
    "for tr_idx, va_idx in skf.split(X_df, y_df):\n",
    "    X_train, X_valid = X_df.iloc[tr_idx], X_df.iloc[va_idx]\n",
    "    y_train, y_valid = y_df.iloc[tr_idx], y_df.iloc[va_idx]\n",
    "    \n",
    "    dtrain = lgb.Dataset(X_train.values, label = y_train.values)\n",
    "    dvalid = lgb.Dataset(X_valid.values, label = y_valid.values)\n",
    "\n",
    "    evals_result = {}\n",
    "    params = {'metric':'custom',\n",
    "              'objective':'custom',\n",
    "              'verbosity':-1,\n",
    "              'random_state' : 42, \n",
    "              'learning_rate': 0.1,\n",
    "              'early_stopping_round':20\n",
    "             }\n",
    "\n",
    "    callbacks = [lgb.early_stopping(20, verbose=0), lgb.log_evaluation(period=10),lgb.record_evaluation(eval_result)]\n",
    "    model = lgb.train(params,\n",
    "                      dtrain, \n",
    "                      num_boost_round = 500,\n",
    "                      valid_sets = [dtrain,dvalid],\n",
    "                      valid_names = ['train','valid'],\n",
    "                      feval = original_balanced_logloss_metric,\n",
    "                      fobj = original_binary_logloss_objective,\n",
    "                      callbacks = callbacks\n",
    "                     )\n",
    "    score = model.best_score['valid']['balanced_logloss']\n",
    "    scores.append(score)\n",
    "    print(f'balanced_logloss:{score:.4f}')\n",
    "score_cv = np.mean(scores)\n",
    "print(score_cv)"
   ]
  },
  {
   "cell_type": "markdown",
   "id": "c6df807b",
   "metadata": {},
   "source": [
    "# 0.38349947449517713"
   ]
  },
  {
   "cell_type": "code",
   "execution_count": null,
   "id": "17536fe0",
   "metadata": {},
   "outputs": [],
   "source": [
    "fig = make_subplots(rows = 2,cols = 2,\n",
    "                    subplot_titles=(\"fold1\", \"fold2\", \"fold3\", \"fold4\"))\n",
    "tuples = [(1,1),(1,2),(2,1),(2,2)]\n",
    "for i in range(len(evals_results)):\n",
    "    train_log = evals_results[i]['train']['logloss'] \n",
    "    eval_log = evals_results[i]['eval']['logloss'] \n",
    "    x = np.arange(1,1+len(train_log))\n",
    "    fig.add_trace(go.Scatter(x = x, y = train_log,mode = 'lines',name = 'train'),\n",
    "                 row = tuples[i][0],col = tuples[i][1])\n",
    "    fig.add_trace(go.Scatter(x = x, y = eval_log,mode = 'lines',name = 'eval'),\n",
    "                 row = tuples[i][0],col = tuples[i][1])\n",
    "fig.update_layout(\n",
    "    title = \"fold1, fold2, fold3, fold4\"\n",
    ")"
   ]
  },
  {
   "cell_type": "code",
   "execution_count": null,
   "id": "956f7e4a",
   "metadata": {},
   "outputs": [],
   "source": [
    "best_score = 9999.0\n",
    "candidates = np.random.RandomState(71).permutation(X_df.columns)\n",
    "selected = set([])\n",
    "\n",
    "print('start simple selection')\n",
    "for feature in candidates:\n",
    "    fs = list(selected) + [feature]\n",
    "    score = evaluate(fs,X_df,y_df)\n",
    "    \n",
    "    if score < best_score:\n",
    "        selected.add(feature)\n",
    "        best_score = score\n",
    "        print(f'selected:{feature}')\n",
    "        print(f'score:{score}')\n",
    "\n",
    "print(f'selected features:{selected}')"
   ]
  },
  {
   "cell_type": "code",
   "execution_count": null,
   "id": "b242e01a",
   "metadata": {},
   "outputs": [],
   "source": [
    "import numpy as np\n",
    "\n",
    "x = np.array([0, 1, 1, 3, 2, 1, 7])\n",
    "counts = np.bincount(x)\n",
    "np.sum(counts)"
   ]
  },
  {
   "cell_type": "code",
   "execution_count": null,
   "id": "76593a7a",
   "metadata": {},
   "outputs": [],
   "source": []
  },
  {
   "cell_type": "code",
   "execution_count": null,
   "id": "31980885",
   "metadata": {},
   "outputs": [],
   "source": []
  }
 ],
 "metadata": {
  "kernelspec": {
   "display_name": "Python 3 (ipykernel)",
   "language": "python",
   "name": "python3"
  },
  "language_info": {
   "codemirror_mode": {
    "name": "ipython",
    "version": 3
   },
   "file_extension": ".py",
   "mimetype": "text/x-python",
   "name": "python",
   "nbconvert_exporter": "python",
   "pygments_lexer": "ipython3",
   "version": "3.11.3"
  }
 },
 "nbformat": 4,
 "nbformat_minor": 5
}
