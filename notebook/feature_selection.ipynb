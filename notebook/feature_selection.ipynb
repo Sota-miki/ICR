{
 "cells": [
  {
   "cell_type": "code",
   "execution_count": 2,
   "id": "976dd40b",
   "metadata": {
    "scrolled": true
   },
   "outputs": [
    {
     "name": "stderr",
     "output_type": "stream",
     "text": [
      "C:\\Users\\ghibl\\anaconda3\\Lib\\site-packages\\shap\\utils\\_clustering.py:34: NumbaDeprecationWarning: \u001b[1mThe 'nopython' keyword argument was not supplied to the 'numba.jit' decorator. The implicit default value for this argument is currently False, but it will be changed to True in Numba 0.59.0. See https://numba.readthedocs.io/en/stable/reference/deprecation.html#deprecation-of-object-mode-fall-back-behaviour-when-using-jit for details.\u001b[0m\n",
      "  @jit\n",
      "C:\\Users\\ghibl\\anaconda3\\Lib\\site-packages\\shap\\utils\\_clustering.py:53: NumbaDeprecationWarning: \u001b[1mThe 'nopython' keyword argument was not supplied to the 'numba.jit' decorator. The implicit default value for this argument is currently False, but it will be changed to True in Numba 0.59.0. See https://numba.readthedocs.io/en/stable/reference/deprecation.html#deprecation-of-object-mode-fall-back-behaviour-when-using-jit for details.\u001b[0m\n",
      "  @jit\n",
      "C:\\Users\\ghibl\\anaconda3\\Lib\\site-packages\\shap\\utils\\_clustering.py:62: NumbaDeprecationWarning: \u001b[1mThe 'nopython' keyword argument was not supplied to the 'numba.jit' decorator. The implicit default value for this argument is currently False, but it will be changed to True in Numba 0.59.0. See https://numba.readthedocs.io/en/stable/reference/deprecation.html#deprecation-of-object-mode-fall-back-behaviour-when-using-jit for details.\u001b[0m\n",
      "  @jit\n",
      "C:\\Users\\ghibl\\anaconda3\\Lib\\site-packages\\shap\\utils\\_clustering.py:68: NumbaDeprecationWarning: \u001b[1mThe 'nopython' keyword argument was not supplied to the 'numba.jit' decorator. The implicit default value for this argument is currently False, but it will be changed to True in Numba 0.59.0. See https://numba.readthedocs.io/en/stable/reference/deprecation.html#deprecation-of-object-mode-fall-back-behaviour-when-using-jit for details.\u001b[0m\n",
      "  @jit\n",
      "C:\\Users\\ghibl\\anaconda3\\Lib\\site-packages\\shap\\utils\\_clustering.py:76: NumbaDeprecationWarning: \u001b[1mThe 'nopython' keyword argument was not supplied to the 'numba.jit' decorator. The implicit default value for this argument is currently False, but it will be changed to True in Numba 0.59.0. See https://numba.readthedocs.io/en/stable/reference/deprecation.html#deprecation-of-object-mode-fall-back-behaviour-when-using-jit for details.\u001b[0m\n",
      "  @jit\n",
      "C:\\Users\\ghibl\\anaconda3\\Lib\\site-packages\\shap\\links.py:4: NumbaDeprecationWarning: \u001b[1mThe 'nopython' keyword argument was not supplied to the 'numba.jit' decorator. The implicit default value for this argument is currently False, but it will be changed to True in Numba 0.59.0. See https://numba.readthedocs.io/en/stable/reference/deprecation.html#deprecation-of-object-mode-fall-back-behaviour-when-using-jit for details.\u001b[0m\n",
      "  @numba.jit\n",
      "C:\\Users\\ghibl\\anaconda3\\Lib\\site-packages\\shap\\links.py:9: NumbaDeprecationWarning: \u001b[1mThe 'nopython' keyword argument was not supplied to the 'numba.jit' decorator. The implicit default value for this argument is currently False, but it will be changed to True in Numba 0.59.0. See https://numba.readthedocs.io/en/stable/reference/deprecation.html#deprecation-of-object-mode-fall-back-behaviour-when-using-jit for details.\u001b[0m\n",
      "  @numba.jit\n",
      "C:\\Users\\ghibl\\anaconda3\\Lib\\site-packages\\shap\\links.py:14: NumbaDeprecationWarning: \u001b[1mThe 'nopython' keyword argument was not supplied to the 'numba.jit' decorator. The implicit default value for this argument is currently False, but it will be changed to True in Numba 0.59.0. See https://numba.readthedocs.io/en/stable/reference/deprecation.html#deprecation-of-object-mode-fall-back-behaviour-when-using-jit for details.\u001b[0m\n",
      "  @numba.jit\n",
      "C:\\Users\\ghibl\\anaconda3\\Lib\\site-packages\\shap\\links.py:19: NumbaDeprecationWarning: \u001b[1mThe 'nopython' keyword argument was not supplied to the 'numba.jit' decorator. The implicit default value for this argument is currently False, but it will be changed to True in Numba 0.59.0. See https://numba.readthedocs.io/en/stable/reference/deprecation.html#deprecation-of-object-mode-fall-back-behaviour-when-using-jit for details.\u001b[0m\n",
      "  @numba.jit\n",
      "C:\\Users\\ghibl\\anaconda3\\Lib\\site-packages\\shap\\utils\\_masked_model.py:362: NumbaDeprecationWarning: \u001b[1mThe 'nopython' keyword argument was not supplied to the 'numba.jit' decorator. The implicit default value for this argument is currently False, but it will be changed to True in Numba 0.59.0. See https://numba.readthedocs.io/en/stable/reference/deprecation.html#deprecation-of-object-mode-fall-back-behaviour-when-using-jit for details.\u001b[0m\n",
      "  @jit # we can't use this when using a custom link function...\n",
      "C:\\Users\\ghibl\\anaconda3\\Lib\\site-packages\\shap\\utils\\_masked_model.py:384: NumbaDeprecationWarning: \u001b[1mThe 'nopython' keyword argument was not supplied to the 'numba.jit' decorator. The implicit default value for this argument is currently False, but it will be changed to True in Numba 0.59.0. See https://numba.readthedocs.io/en/stable/reference/deprecation.html#deprecation-of-object-mode-fall-back-behaviour-when-using-jit for details.\u001b[0m\n",
      "  @jit\n",
      "C:\\Users\\ghibl\\anaconda3\\Lib\\site-packages\\shap\\utils\\_masked_model.py:427: NumbaDeprecationWarning: \u001b[1mThe 'nopython' keyword argument was not supplied to the 'numba.jit' decorator. The implicit default value for this argument is currently False, but it will be changed to True in Numba 0.59.0. See https://numba.readthedocs.io/en/stable/reference/deprecation.html#deprecation-of-object-mode-fall-back-behaviour-when-using-jit for details.\u001b[0m\n",
      "  @jit\n",
      "C:\\Users\\ghibl\\anaconda3\\Lib\\site-packages\\shap\\utils\\_masked_model.py:438: NumbaDeprecationWarning: \u001b[1mThe 'nopython' keyword argument was not supplied to the 'numba.jit' decorator. The implicit default value for this argument is currently False, but it will be changed to True in Numba 0.59.0. See https://numba.readthedocs.io/en/stable/reference/deprecation.html#deprecation-of-object-mode-fall-back-behaviour-when-using-jit for details.\u001b[0m\n",
      "  @jit\n",
      "C:\\Users\\ghibl\\anaconda3\\Lib\\site-packages\\shap\\maskers\\_tabular.py:185: NumbaDeprecationWarning: \u001b[1mThe 'nopython' keyword argument was not supplied to the 'numba.jit' decorator. The implicit default value for this argument is currently False, but it will be changed to True in Numba 0.59.0. See https://numba.readthedocs.io/en/stable/reference/deprecation.html#deprecation-of-object-mode-fall-back-behaviour-when-using-jit for details.\u001b[0m\n",
      "  @jit\n",
      "C:\\Users\\ghibl\\anaconda3\\Lib\\site-packages\\shap\\maskers\\_tabular.py:196: NumbaDeprecationWarning: \u001b[1mThe 'nopython' keyword argument was not supplied to the 'numba.jit' decorator. The implicit default value for this argument is currently False, but it will be changed to True in Numba 0.59.0. See https://numba.readthedocs.io/en/stable/reference/deprecation.html#deprecation-of-object-mode-fall-back-behaviour-when-using-jit for details.\u001b[0m\n",
      "  @jit\n",
      "C:\\Users\\ghibl\\anaconda3\\Lib\\site-packages\\shap\\maskers\\_image.py:174: NumbaDeprecationWarning: \u001b[1mThe 'nopython' keyword argument was not supplied to the 'numba.jit' decorator. The implicit default value for this argument is currently False, but it will be changed to True in Numba 0.59.0. See https://numba.readthedocs.io/en/stable/reference/deprecation.html#deprecation-of-object-mode-fall-back-behaviour-when-using-jit for details.\u001b[0m\n",
      "  @jit\n",
      "C:\\Users\\ghibl\\anaconda3\\Lib\\site-packages\\shap\\explainers\\_partition.py:675: NumbaDeprecationWarning: \u001b[1mThe 'nopython' keyword argument was not supplied to the 'numba.jit' decorator. The implicit default value for this argument is currently False, but it will be changed to True in Numba 0.59.0. See https://numba.readthedocs.io/en/stable/reference/deprecation.html#deprecation-of-object-mode-fall-back-behaviour-when-using-jit for details.\u001b[0m\n",
      "  @jit\n",
      "\u001b[1mThe 'nopython' keyword argument was not supplied to the 'numba.jit' decorator. The implicit default value for this argument is currently False, but it will be changed to True in Numba 0.59.0. See https://numba.readthedocs.io/en/stable/reference/deprecation.html#deprecation-of-object-mode-fall-back-behaviour-when-using-jit for details.\u001b[0m\n",
      "\u001b[1mThe 'nopython' keyword argument was not supplied to the 'numba.jit' decorator. The implicit default value for this argument is currently False, but it will be changed to True in Numba 0.59.0. See https://numba.readthedocs.io/en/stable/reference/deprecation.html#deprecation-of-object-mode-fall-back-behaviour-when-using-jit for details.\u001b[0m\n"
     ]
    }
   ],
   "source": [
    "import pandas as pd\n",
    "import numpy as np\n",
    "import matplotlib.pyplot as plt\n",
    "import lightgbm as lgb\n",
    "from sklearn.model_selection import StratifiedKFold,KFold\n",
    "from sklearn.preprocessing import LabelEncoder\n",
    "from sklearn.metrics import log_loss\n",
    "import plotly.graph_objects as go\n",
    "from plotly.subplots import make_subplots\n",
    "import itertools\n",
    "from utils import *\n",
    "import shap\n",
    "pd.set_option(\"display.max_rows\",100)"
   ]
  },
  {
   "cell_type": "code",
   "execution_count": 3,
   "id": "1342ec40",
   "metadata": {},
   "outputs": [],
   "source": [
    "dataset_df = pd.read_csv(r\"C:\\Users\\ghibl\\ICR\\data\\input\\all_features.csv\")\n",
    "dataset_df.drop(\"Id\",axis = 1, inplace = True)"
   ]
  },
  {
   "cell_type": "code",
   "execution_count": 4,
   "id": "7ddf7b06",
   "metadata": {},
   "outputs": [],
   "source": [
    "X_df = dataset_df.drop(\"Class\",axis =1)\n",
    "y_df = dataset_df[\"Class\"].copy()\n"
   ]
  },
  {
   "cell_type": "code",
   "execution_count": 5,
   "id": "f854abfe",
   "metadata": {
    "scrolled": true
   },
   "outputs": [
    {
     "data": {
      "text/plain": [
       "array([1, 0], dtype=int64)"
      ]
     },
     "execution_count": 5,
     "metadata": {},
     "output_type": "execute_result"
    }
   ],
   "source": [
    "y_df.unique()"
   ]
  },
  {
   "cell_type": "code",
   "execution_count": 6,
   "id": "8bfce26d",
   "metadata": {},
   "outputs": [
    {
     "data": {
      "text/plain": [
       "0.6931471805599452"
      ]
     },
     "execution_count": 6,
     "metadata": {},
     "output_type": "execute_result"
    }
   ],
   "source": [
    "dtrain = lgb.Dataset(X_df.values, label = y_df.values)\n",
    "y_true = dtrain.get_label()\n",
    "y_pred = np.array([0.5]*len(y_true))\n",
    "balanced_logloss(y_pred,y_true)\n"
   ]
  },
  {
   "cell_type": "code",
   "execution_count": 7,
   "id": "eed9a63c",
   "metadata": {},
   "outputs": [
    {
     "name": "stdout",
     "output_type": "stream",
     "text": [
      "[10]\ttrain's balanced_logloss: 0.596008\tvalid's balanced_logloss: 0.631429\n",
      "[20]\ttrain's balanced_logloss: 0.549676\tvalid's balanced_logloss: 0.603006\n",
      "[30]\ttrain's balanced_logloss: 0.527021\tvalid's balanced_logloss: 0.592331\n",
      "[40]\ttrain's balanced_logloss: 0.515497\tvalid's balanced_logloss: 0.584424\n",
      "[50]\ttrain's balanced_logloss: 0.509649\tvalid's balanced_logloss: 0.579143\n",
      "[60]\ttrain's balanced_logloss: 0.506547\tvalid's balanced_logloss: 0.576285\n",
      "[70]\ttrain's balanced_logloss: 0.504938\tvalid's balanced_logloss: 0.574352\n",
      "[80]\ttrain's balanced_logloss: 0.504071\tvalid's balanced_logloss: 0.571081\n",
      "[90]\ttrain's balanced_logloss: 0.50366\tvalid's balanced_logloss: 0.568758\n",
      "[100]\ttrain's balanced_logloss: 0.50344\tvalid's balanced_logloss: 0.566465\n",
      "[110]\ttrain's balanced_logloss: 0.503325\tvalid's balanced_logloss: 0.563622\n",
      "[120]\ttrain's balanced_logloss: 0.503266\tvalid's balanced_logloss: 0.562319\n",
      "[130]\ttrain's balanced_logloss: 0.503237\tvalid's balanced_logloss: 0.559995\n",
      "[140]\ttrain's balanced_logloss: 0.503222\tvalid's balanced_logloss: 0.559497\n",
      "[150]\ttrain's balanced_logloss: 0.503215\tvalid's balanced_logloss: 0.559168\n",
      "balanced_logloss:0.5588\n",
      "[10]\ttrain's balanced_logloss: 0.597103\tvalid's balanced_logloss: 0.62296\n",
      "[20]\ttrain's balanced_logloss: 0.550506\tvalid's balanced_logloss: 0.599065\n",
      "[30]\ttrain's balanced_logloss: 0.527853\tvalid's balanced_logloss: 0.584692\n",
      "[40]\ttrain's balanced_logloss: 0.516125\tvalid's balanced_logloss: 0.575636\n",
      "[50]\ttrain's balanced_logloss: 0.510043\tvalid's balanced_logloss: 0.570363\n",
      "[60]\ttrain's balanced_logloss: 0.506689\tvalid's balanced_logloss: 0.567597\n",
      "[70]\ttrain's balanced_logloss: 0.50506\tvalid's balanced_logloss: 0.566037\n",
      "[80]\ttrain's balanced_logloss: 0.50416\tvalid's balanced_logloss: 0.566928\n",
      "[90]\ttrain's balanced_logloss: 0.50371\tvalid's balanced_logloss: 0.565286\n",
      "[100]\ttrain's balanced_logloss: 0.503471\tvalid's balanced_logloss: 0.564101\n",
      "[110]\ttrain's balanced_logloss: 0.503341\tvalid's balanced_logloss: 0.563043\n",
      "[120]\ttrain's balanced_logloss: 0.503276\tvalid's balanced_logloss: 0.56214\n",
      "[130]\ttrain's balanced_logloss: 0.503242\tvalid's balanced_logloss: 0.562442\n",
      "balanced_logloss:0.5613\n",
      "[10]\ttrain's balanced_logloss: 0.595436\tvalid's balanced_logloss: 0.641259\n",
      "[20]\ttrain's balanced_logloss: 0.550936\tvalid's balanced_logloss: 0.619196\n",
      "[30]\ttrain's balanced_logloss: 0.527794\tvalid's balanced_logloss: 0.607947\n",
      "[40]\ttrain's balanced_logloss: 0.515397\tvalid's balanced_logloss: 0.601323\n",
      "[50]\ttrain's balanced_logloss: 0.509011\tvalid's balanced_logloss: 0.595985\n",
      "[60]\ttrain's balanced_logloss: 0.506084\tvalid's balanced_logloss: 0.591648\n",
      "[70]\ttrain's balanced_logloss: 0.504613\tvalid's balanced_logloss: 0.593131\n",
      "[80]\ttrain's balanced_logloss: 0.503916\tvalid's balanced_logloss: 0.590964\n",
      "[90]\ttrain's balanced_logloss: 0.50357\tvalid's balanced_logloss: 0.589486\n",
      "[100]\ttrain's balanced_logloss: 0.503381\tvalid's balanced_logloss: 0.589783\n",
      "[110]\ttrain's balanced_logloss: 0.503295\tvalid's balanced_logloss: 0.589714\n",
      "[120]\ttrain's balanced_logloss: 0.503249\tvalid's balanced_logloss: 0.589029\n",
      "[130]\ttrain's balanced_logloss: 0.503227\tvalid's balanced_logloss: 0.588937\n",
      "balanced_logloss:0.5886\n",
      "[10]\ttrain's balanced_logloss: 0.596537\tvalid's balanced_logloss: 0.621496\n",
      "[20]\ttrain's balanced_logloss: 0.550792\tvalid's balanced_logloss: 0.594318\n",
      "[30]\ttrain's balanced_logloss: 0.52837\tvalid's balanced_logloss: 0.579837\n",
      "[40]\ttrain's balanced_logloss: 0.516159\tvalid's balanced_logloss: 0.573194\n",
      "[50]\ttrain's balanced_logloss: 0.509751\tvalid's balanced_logloss: 0.568996\n",
      "[60]\ttrain's balanced_logloss: 0.506667\tvalid's balanced_logloss: 0.565939\n",
      "[70]\ttrain's balanced_logloss: 0.504983\tvalid's balanced_logloss: 0.565031\n",
      "[80]\ttrain's balanced_logloss: 0.504116\tvalid's balanced_logloss: 0.560822\n",
      "[90]\ttrain's balanced_logloss: 0.503659\tvalid's balanced_logloss: 0.5585\n",
      "[100]\ttrain's balanced_logloss: 0.503448\tvalid's balanced_logloss: 0.555582\n",
      "[110]\ttrain's balanced_logloss: 0.503328\tvalid's balanced_logloss: 0.552767\n",
      "[120]\ttrain's balanced_logloss: 0.503269\tvalid's balanced_logloss: 0.549328\n",
      "[130]\ttrain's balanced_logloss: 0.503237\tvalid's balanced_logloss: 0.547374\n",
      "[140]\ttrain's balanced_logloss: 0.503222\tvalid's balanced_logloss: 0.548536\n",
      "[150]\ttrain's balanced_logloss: 0.503215\tvalid's balanced_logloss: 0.547872\n",
      "balanced_logloss:0.5474\n",
      "0.5640344609872597\n"
     ]
    }
   ],
   "source": [
    "fs = X_df.columns\n",
    "scores= []\n",
    "evals_result = {}\n",
    "skf = StratifiedKFold(n_splits = 4, shuffle = True, random_state = 42)\n",
    "\n",
    "for tr_idx, va_idx in skf.split(X_df, y_df):\n",
    "    X_train, X_valid = X_df.iloc[tr_idx], X_df.iloc[va_idx]\n",
    "    y_train, y_valid = y_df.iloc[tr_idx], y_df.iloc[va_idx]\n",
    "    \n",
    "    dtrain = lgb.Dataset(X_train.values, label = y_train.values)\n",
    "    dvalid = lgb.Dataset(X_valid.values, label = y_valid.values)\n",
    "\n",
    "    evals_result = {}\n",
    "    params = {'metric':'custom',\n",
    "              'objective':'binary',\n",
    "              'verbosity':-1,\n",
    "              'random_state' : 42, \n",
    "              'learning_rate': 0.1,\n",
    "              'early_stopping_round':20\n",
    "             }\n",
    "\n",
    "    callbacks = [lgb.early_stopping(20, verbose=0), lgb.log_evaluation(period=10)]\n",
    "    model = lgb.train(params,\n",
    "                      dtrain, \n",
    "                      num_boost_round = 500,\n",
    "                      valid_sets = [dtrain,dvalid],\n",
    "                      valid_names = ['train','valid'],\n",
    "                      feval = original_balanced_logloss_metric,\n",
    "                      callbacks = callbacks\n",
    "                     )\n",
    "    score = model.best_score['valid']['balanced_logloss']\n",
    "    scores.append(score)\n",
    "    print(f'balanced_logloss:{score:.4f}')\n",
    "score_cv = np.mean(scores)\n",
    "print(score_cv)"
   ]
  },
  {
   "cell_type": "code",
   "execution_count": 40,
   "id": "71024a07",
   "metadata": {
    "scrolled": true
   },
   "outputs": [
    {
     "name": "stdout",
     "output_type": "stream",
     "text": [
      "[10]\ttrain's balanced_logloss: 0.35393\tvalid's balanced_logloss: 0.494908\n",
      "[20]\ttrain's balanced_logloss: 0.192145\tvalid's balanced_logloss: 0.383373\n",
      "[30]\ttrain's balanced_logloss: 0.106155\tvalid's balanced_logloss: 0.349127\n",
      "[40]\ttrain's balanced_logloss: 0.0558039\tvalid's balanced_logloss: 0.360636\n",
      "[50]\ttrain's balanced_logloss: 0.0297802\tvalid's balanced_logloss: 0.35916\n",
      "balanced_logloss:0.3471\n",
      "[10]\ttrain's balanced_logloss: 0.340819\tvalid's balanced_logloss: 0.438081\n",
      "[20]\ttrain's balanced_logloss: 0.189033\tvalid's balanced_logloss: 0.383351\n",
      "[30]\ttrain's balanced_logloss: 0.106254\tvalid's balanced_logloss: 0.389613\n",
      "[40]\ttrain's balanced_logloss: 0.0586389\tvalid's balanced_logloss: 0.382897\n",
      "[50]\ttrain's balanced_logloss: 0.0312646\tvalid's balanced_logloss: 0.367835\n",
      "[60]\ttrain's balanced_logloss: 0.0165526\tvalid's balanced_logloss: 0.388008\n",
      "[70]\ttrain's balanced_logloss: 0.00875119\tvalid's balanced_logloss: 0.413369\n",
      "balanced_logloss:0.3678\n",
      "[10]\ttrain's balanced_logloss: 0.337247\tvalid's balanced_logloss: 0.551669\n",
      "[20]\ttrain's balanced_logloss: 0.195299\tvalid's balanced_logloss: 0.533657\n",
      "[30]\ttrain's balanced_logloss: 0.105868\tvalid's balanced_logloss: 0.548195\n",
      "balanced_logloss:0.5237\n",
      "[10]\ttrain's balanced_logloss: 0.350797\tvalid's balanced_logloss: 0.428541\n",
      "[20]\ttrain's balanced_logloss: 0.200023\tvalid's balanced_logloss: 0.352083\n",
      "[30]\ttrain's balanced_logloss: 0.112266\tvalid's balanced_logloss: 0.328612\n",
      "[40]\ttrain's balanced_logloss: 0.0601307\tvalid's balanced_logloss: 0.317991\n",
      "[50]\ttrain's balanced_logloss: 0.0327793\tvalid's balanced_logloss: 0.323404\n",
      "[60]\ttrain's balanced_logloss: 0.0176278\tvalid's balanced_logloss: 0.31364\n",
      "[70]\ttrain's balanced_logloss: 0.00919501\tvalid's balanced_logloss: 0.308848\n",
      "[80]\ttrain's balanced_logloss: 0.00466279\tvalid's balanced_logloss: 0.305796\n",
      "[90]\ttrain's balanced_logloss: 0.0024313\tvalid's balanced_logloss: 0.322829\n",
      "balanced_logloss:0.3053\n",
      "0.3859677412601033\n"
     ]
    }
   ],
   "source": [
    "fs = X_df.columns\n",
    "scores= []\n",
    "evals_results = []\n",
    "models = []\n",
    "skf = StratifiedKFold(n_splits = 4, shuffle = True, random_state = 42)\n",
    "\n",
    "for tr_idx, va_idx in skf.split(X_df, y_df):\n",
    "    X_train, X_valid = X_df.iloc[tr_idx], X_df.iloc[va_idx]\n",
    "    y_train, y_valid = y_df.iloc[tr_idx], y_df.iloc[va_idx]\n",
    "    \n",
    "    dtrain = lgb.Dataset(X_train, label = y_train)\n",
    "    dvalid = lgb.Dataset(X_valid, label = y_valid)\n",
    "\n",
    "    evals_result = {}\n",
    "    params = {'metric':'custom',\n",
    "              'objective':'custom',\n",
    "              'verbosity':-1,\n",
    "              'random_state' : 42, \n",
    "              'learning_rate': 0.1,\n",
    "              'early_stopping_round':20\n",
    "             }\n",
    "\n",
    "    callbacks = [lgb.early_stopping(20, verbose=0), lgb.log_evaluation(period=10),lgb.record_evaluation(evals_result)]\n",
    "    model = lgb.train(params,\n",
    "                      dtrain, \n",
    "                      num_boost_round = 500,\n",
    "                      valid_sets = [dtrain,dvalid],\n",
    "                      valid_names = ['train','valid'],\n",
    "                      feval = original_balanced_logloss_metric,\n",
    "                      fobj = original_binary_logloss_objective,\n",
    "                      callbacks = callbacks\n",
    "                     )\n",
    "    models.append(model)\n",
    "    evals_results.append(evals_result)\n",
    "    score = model.best_score['valid']['balanced_logloss']\n",
    "    scores.append(score)\n",
    "    print(f'balanced_logloss:{score:.4f}')\n",
    "score_cv = np.mean(scores)\n",
    "print(score_cv)"
   ]
  },
  {
   "cell_type": "markdown",
   "id": "28fd9018",
   "metadata": {},
   "source": [
    "# 0.3859677412601033"
   ]
  },
  {
   "cell_type": "code",
   "execution_count": 20,
   "id": "17536fe0",
   "metadata": {},
   "outputs": [
    {
     "data": {
      "application/vnd.plotly.v1+json": {
       "config": {
        "plotlyServerURL": "https://plot.ly"
       },
       "data": [
        {
         "mode": "lines",
         "name": "train",
         "type": "scatter",
         "x": [
          1,
          2,
          3,
          4,
          5,
          6,
          7,
          8,
          9,
          10,
          11,
          12,
          13,
          14,
          15,
          16,
          17,
          18,
          19,
          20,
          21,
          22,
          23,
          24,
          25,
          26,
          27,
          28,
          29,
          30,
          31,
          32,
          33,
          34,
          35,
          36,
          37,
          38,
          39,
          40,
          41,
          42,
          43,
          44,
          45,
          46,
          47,
          48,
          49,
          50,
          51,
          52,
          53,
          54,
          55
         ],
         "xaxis": "x",
         "y": [
          0.6299149442997429,
          0.5829444308837282,
          0.5379171596136704,
          0.5033518294592576,
          0.4733046340294833,
          0.44718505443782175,
          0.42142556837689704,
          0.3971333136245193,
          0.3775676251919055,
          0.3539295646194342,
          0.3289256032384801,
          0.30656088637003714,
          0.2905199700331724,
          0.2732226127875532,
          0.25669254204345543,
          0.24187340846515692,
          0.22864929720696328,
          0.21590764701150433,
          0.2024169042353001,
          0.19214493154945406,
          0.1794015893556779,
          0.16971807523680438,
          0.16011543728902256,
          0.15147810578714482,
          0.14214476292104958,
          0.13552789991410014,
          0.1271685360933401,
          0.11970947152698524,
          0.11257670828336178,
          0.10615475578174247,
          0.09899763105401546,
          0.09265981555275472,
          0.08663066589922942,
          0.08180904351303776,
          0.07754927956806994,
          0.07219132821616575,
          0.06739080329944741,
          0.06326352132427818,
          0.05955848156283937,
          0.05580390431442433,
          0.05223198908724781,
          0.04919397781152138,
          0.04604240100565534,
          0.043706308186617415,
          0.04115995553287784,
          0.03828462253333144,
          0.03594731497004838,
          0.033975272359362436,
          0.03193682985229143,
          0.02978021590743862,
          0.028154959396226337,
          0.026487548114100517,
          0.025082388555904837,
          0.023452737054473025,
          0.02201414096503588
         ],
         "yaxis": "y"
        },
        {
         "mode": "lines",
         "name": "eval",
         "type": "scatter",
         "x": [
          1,
          2,
          3,
          4,
          5,
          6,
          7,
          8,
          9,
          10,
          11,
          12,
          13,
          14,
          15,
          16,
          17,
          18,
          19,
          20,
          21,
          22,
          23,
          24,
          25,
          26,
          27,
          28,
          29,
          30,
          31,
          32,
          33,
          34,
          35,
          36,
          37,
          38,
          39,
          40,
          41,
          42,
          43,
          44,
          45,
          46,
          47,
          48,
          49,
          50,
          51,
          52,
          53,
          54,
          55
         ],
         "xaxis": "x",
         "y": [
          0.6544146736932714,
          0.6203657015708054,
          0.5976319961353067,
          0.5758855289492548,
          0.5495357931754626,
          0.5341452227544574,
          0.5215613583925545,
          0.5115869000112546,
          0.5058049846809243,
          0.4949079229171864,
          0.48510276756489107,
          0.4624256076167601,
          0.4520107137287462,
          0.44146050798993547,
          0.4366451275843811,
          0.4200999471213425,
          0.40417721180200006,
          0.3949160914085943,
          0.38577297158244006,
          0.38337266048897123,
          0.3820069444407046,
          0.3771492086813586,
          0.36953941823042136,
          0.36664167958916705,
          0.3639440607271184,
          0.3582743423870126,
          0.3550456123671677,
          0.35470387419069227,
          0.34953628466660147,
          0.34912716644474906,
          0.3564068409553579,
          0.35467093199391353,
          0.35450333765558883,
          0.3505256502038011,
          0.3470747539779488,
          0.34911838431044084,
          0.3528340502980415,
          0.35559504915125717,
          0.35999171768368987,
          0.3606363126462141,
          0.35952138233768466,
          0.36789589681453516,
          0.36905802784146263,
          0.36817424794744064,
          0.3662853863792823,
          0.3689428122125362,
          0.3687032204121336,
          0.36219241957712356,
          0.35878725655371646,
          0.35915973000953266,
          0.35390830901793224,
          0.35409689168206787,
          0.3537544460047293,
          0.35410889640665477,
          0.3528949298874506
         ],
         "yaxis": "y"
        },
        {
         "mode": "lines",
         "name": "train",
         "type": "scatter",
         "x": [
          1,
          2,
          3,
          4,
          5,
          6,
          7,
          8,
          9,
          10,
          11,
          12,
          13,
          14,
          15,
          16,
          17,
          18,
          19,
          20,
          21,
          22,
          23,
          24,
          25,
          26,
          27,
          28,
          29,
          30,
          31,
          32,
          33,
          34,
          35,
          36,
          37,
          38,
          39,
          40,
          41,
          42,
          43,
          44,
          45,
          46,
          47,
          48,
          49,
          50,
          51,
          52,
          53,
          54,
          55,
          56,
          57,
          58,
          59,
          60,
          61,
          62,
          63,
          64,
          65,
          66,
          67,
          68,
          69,
          70
         ],
         "xaxis": "x2",
         "y": [
          0.6386638056510876,
          0.5861193326691376,
          0.5417910665230619,
          0.5001710954202647,
          0.470523757064968,
          0.4349463259481364,
          0.412749758901336,
          0.3890735361266478,
          0.36283323878645957,
          0.34081858991595637,
          0.319342853128516,
          0.3021174197983656,
          0.2879956428843423,
          0.2686318663343785,
          0.25333524017541215,
          0.24204280339272383,
          0.22664108120510798,
          0.21245723779569922,
          0.20025622906262985,
          0.18903276114914733,
          0.18052040842767414,
          0.16979984286671254,
          0.1600240902949485,
          0.15152849346366168,
          0.1433865436781557,
          0.1353641898398635,
          0.12755848388837002,
          0.12044626463987512,
          0.11343865060043991,
          0.10625372729751373,
          0.10057401291764037,
          0.09514067538093549,
          0.08884603212096262,
          0.0838998000988928,
          0.0784834979253733,
          0.07441283123774842,
          0.07085899909237392,
          0.06675139397249986,
          0.06266156746212767,
          0.05863894230452733,
          0.0548785912007797,
          0.05083147945025539,
          0.04781093649978181,
          0.04483806779045612,
          0.042012964999716546,
          0.0396662244516935,
          0.03712366719391158,
          0.03508707155050421,
          0.03322119240606546,
          0.03126459493199132,
          0.02927473110537899,
          0.027210426320314392,
          0.025426320164478856,
          0.024110239156504162,
          0.02258112110518401,
          0.02108171729190937,
          0.019843330980101867,
          0.018771237178842673,
          0.0177193264306178,
          0.016552625596631555,
          0.015547071893662114,
          0.014565167156621027,
          0.013621681961225734,
          0.012648954366327968,
          0.01200237310348571,
          0.011339762753039894,
          0.010587383693663712,
          0.010053961333983907,
          0.00941585639743695,
          0.008751186049560327
         ],
         "yaxis": "y2"
        },
        {
         "mode": "lines",
         "name": "eval",
         "type": "scatter",
         "x": [
          1,
          2,
          3,
          4,
          5,
          6,
          7,
          8,
          9,
          10,
          11,
          12,
          13,
          14,
          15,
          16,
          17,
          18,
          19,
          20,
          21,
          22,
          23,
          24,
          25,
          26,
          27,
          28,
          29,
          30,
          31,
          32,
          33,
          34,
          35,
          36,
          37,
          38,
          39,
          40,
          41,
          42,
          43,
          44,
          45,
          46,
          47,
          48,
          49,
          50,
          51,
          52,
          53,
          54,
          55,
          56,
          57,
          58,
          59,
          60,
          61,
          62,
          63,
          64,
          65,
          66,
          67,
          68,
          69,
          70
         ],
         "xaxis": "x2",
         "y": [
          0.6417982649634344,
          0.5947634577099878,
          0.5631475963293007,
          0.5408699020076367,
          0.5183382863038626,
          0.4992994785834287,
          0.4784357914798427,
          0.46480494099110453,
          0.44783876153027574,
          0.43808132395062227,
          0.4284703228777892,
          0.41943425744406065,
          0.41708050409959013,
          0.4078927534702036,
          0.3944520691175398,
          0.3978158426663732,
          0.395620272143992,
          0.3924649564205972,
          0.38679513543019584,
          0.38335131564228475,
          0.3797612983589099,
          0.3841931371597689,
          0.38407760136583824,
          0.37626692444181564,
          0.3761636158664953,
          0.377786390163832,
          0.3832510945441828,
          0.38239600311821864,
          0.3827382963902032,
          0.3896128874160292,
          0.38972302561308947,
          0.38888278311129076,
          0.38713358232710904,
          0.3898311786104345,
          0.37970802713106044,
          0.3844945453457611,
          0.3822723734505581,
          0.38148407588489663,
          0.3832951109437297,
          0.382896718463243,
          0.3763846859098203,
          0.3745932053379766,
          0.37303142109891463,
          0.37631345212617934,
          0.38009103369902636,
          0.3744049326217296,
          0.37179429701732625,
          0.3733846417269193,
          0.37074115096401167,
          0.36783477324427305,
          0.3680229498568248,
          0.375275313211767,
          0.3795542384061966,
          0.38122355225627,
          0.37848477020411686,
          0.37517142413870525,
          0.378176042257914,
          0.3787683637292898,
          0.38151221575837274,
          0.3880076363002974,
          0.3944882497782237,
          0.39609430667360634,
          0.40131731484458033,
          0.40759053549612656,
          0.4095360066041339,
          0.40789990824088107,
          0.41244165611981076,
          0.41133036780428445,
          0.4113104879429669,
          0.4133686264189638
         ],
         "yaxis": "y2"
        },
        {
         "mode": "lines",
         "name": "train",
         "type": "scatter",
         "x": [
          1,
          2,
          3,
          4,
          5,
          6,
          7,
          8,
          9,
          10,
          11,
          12,
          13,
          14,
          15,
          16,
          17,
          18,
          19,
          20,
          21,
          22,
          23,
          24,
          25,
          26,
          27,
          28,
          29,
          30,
          31,
          32,
          33,
          34,
          35,
          36
         ],
         "xaxis": "x3",
         "y": [
          0.6310146892900852,
          0.5800678444287697,
          0.5361603146758629,
          0.4953212230388706,
          0.4625363025968535,
          0.4334355799965481,
          0.4064231166819937,
          0.38229769167855127,
          0.35671887596271157,
          0.33724711760809456,
          0.32047942368497423,
          0.3052058235836509,
          0.2906683758804083,
          0.27243284465600826,
          0.25834311407881205,
          0.24357699056019436,
          0.23004030692352484,
          0.21852929179385447,
          0.20639536586629093,
          0.1952985489270449,
          0.18336641950727117,
          0.1739067022930459,
          0.1626127210246396,
          0.15267905984016109,
          0.14421054016046145,
          0.13520761572442458,
          0.127713074154633,
          0.11993671812787829,
          0.11240483421554717,
          0.10586796646161842,
          0.09901721314937295,
          0.09328994691193421,
          0.08769595875280956,
          0.08234608868995849,
          0.07748273045340237,
          0.07271618493198867
         ],
         "yaxis": "y3"
        },
        {
         "mode": "lines",
         "name": "eval",
         "type": "scatter",
         "x": [
          1,
          2,
          3,
          4,
          5,
          6,
          7,
          8,
          9,
          10,
          11,
          12,
          13,
          14,
          15,
          16,
          17,
          18,
          19,
          20,
          21,
          22,
          23,
          24,
          25,
          26,
          27,
          28,
          29,
          30,
          31,
          32,
          33,
          34,
          35,
          36
         ],
         "xaxis": "x3",
         "y": [
          0.6642259453080475,
          0.6372087845513315,
          0.6182494146299067,
          0.597852045823027,
          0.5836943262129722,
          0.5744522553652316,
          0.5666550647504913,
          0.5614176780362018,
          0.5575044568590801,
          0.55166899659242,
          0.5488367616318041,
          0.543383607565662,
          0.538513226097497,
          0.5364399860217166,
          0.530956348631092,
          0.5236724069493266,
          0.5282118066927054,
          0.5321023388541376,
          0.530179933109762,
          0.533656621928003,
          0.5312289837728794,
          0.5303174831750762,
          0.5292342694845198,
          0.5313851851995692,
          0.5299181280518899,
          0.5340467859011446,
          0.5365007598364632,
          0.5419035854780734,
          0.5433662678472315,
          0.5481949167147915,
          0.5520593827533695,
          0.5535687660176816,
          0.5564594664437469,
          0.5602167133343976,
          0.577198767031744,
          0.5888930798525264
         ],
         "yaxis": "y3"
        },
        {
         "mode": "lines",
         "name": "train",
         "type": "scatter",
         "x": [
          1,
          2,
          3,
          4,
          5,
          6,
          7,
          8,
          9,
          10,
          11,
          12,
          13,
          14,
          15,
          16,
          17,
          18,
          19,
          20,
          21,
          22,
          23,
          24,
          25,
          26,
          27,
          28,
          29,
          30,
          31,
          32,
          33,
          34,
          35,
          36,
          37,
          38,
          39,
          40,
          41,
          42,
          43,
          44,
          45,
          46,
          47,
          48,
          49,
          50,
          51,
          52,
          53,
          54,
          55,
          56,
          57,
          58,
          59,
          60,
          61,
          62,
          63,
          64,
          65,
          66,
          67,
          68,
          69,
          70,
          71,
          72,
          73,
          74,
          75,
          76,
          77,
          78,
          79,
          80,
          81,
          82,
          83,
          84,
          85,
          86,
          87,
          88,
          89,
          90,
          91,
          92,
          93,
          94,
          95,
          96,
          97,
          98,
          99
         ],
         "xaxis": "x4",
         "y": [
          0.6344084219433285,
          0.5864814446071906,
          0.5461547036802701,
          0.5015578530389008,
          0.46921766265351705,
          0.4439750654558292,
          0.41889323458313676,
          0.3954883569101618,
          0.36805492564546816,
          0.35079662925946675,
          0.3303266934172011,
          0.3082167843592698,
          0.2953853933432158,
          0.2778356274597922,
          0.26210151543069654,
          0.2502678604717249,
          0.23804960724760155,
          0.226035387822464,
          0.21213486396670767,
          0.2000226959462299,
          0.18907091400913267,
          0.18176546462045368,
          0.17283457288550214,
          0.16200268111552799,
          0.15083399934030367,
          0.14338126501301102,
          0.1347768752247374,
          0.12611674339964662,
          0.11914642718486193,
          0.11226613644516908,
          0.10596943286115024,
          0.09928784180436842,
          0.09364059590678003,
          0.08714040212285236,
          0.08222075827887723,
          0.07719685049778949,
          0.07245627327539887,
          0.06801997648927194,
          0.06437270817513398,
          0.060130698851518075,
          0.05664056484429093,
          0.05358654416720881,
          0.05045029538275419,
          0.04751897537582797,
          0.044740294550655695,
          0.04241018492566581,
          0.039542743628028294,
          0.03728385748725087,
          0.03484596334659337,
          0.032779309784947294,
          0.030728230238993418,
          0.02901328806187353,
          0.0272276577616258,
          0.025536529247555357,
          0.024367319110299452,
          0.022876043810982516,
          0.02133055414779801,
          0.02001914920250982,
          0.018798613734541374,
          0.017627782242455536,
          0.01656779581988016,
          0.015430875747958407,
          0.014478641533532885,
          0.013533802993017702,
          0.012740864197053345,
          0.012042742466057507,
          0.011226760106871313,
          0.010454941043909729,
          0.009739523480251942,
          0.00919501406380882,
          0.008644076343860625,
          0.008169462941382646,
          0.007570573977400021,
          0.007113299866064999,
          0.006678248627317543,
          0.006139035620803956,
          0.005712855323546909,
          0.00530608573740943,
          0.004955722614106005,
          0.0046627934662325414,
          0.004378486694908241,
          0.0041415004781704505,
          0.0038663480424008106,
          0.0036120798705841263,
          0.003383539235801039,
          0.0031856543738778874,
          0.0030044778341488635,
          0.0028041939570612705,
          0.0026169762828165155,
          0.0024312968536548607,
          0.0022867381777496817,
          0.0021468295961759227,
          0.002005839082595642,
          0.0018849289586188823,
          0.0017561560576700396,
          0.0016361672517184488,
          0.0015403069054326986,
          0.0014277549077384185,
          0.0013377838500412218
         ],
         "yaxis": "y4"
        },
        {
         "mode": "lines",
         "name": "eval",
         "type": "scatter",
         "x": [
          1,
          2,
          3,
          4,
          5,
          6,
          7,
          8,
          9,
          10,
          11,
          12,
          13,
          14,
          15,
          16,
          17,
          18,
          19,
          20,
          21,
          22,
          23,
          24,
          25,
          26,
          27,
          28,
          29,
          30,
          31,
          32,
          33,
          34,
          35,
          36,
          37,
          38,
          39,
          40,
          41,
          42,
          43,
          44,
          45,
          46,
          47,
          48,
          49,
          50,
          51,
          52,
          53,
          54,
          55,
          56,
          57,
          58,
          59,
          60,
          61,
          62,
          63,
          64,
          65,
          66,
          67,
          68,
          69,
          70,
          71,
          72,
          73,
          74,
          75,
          76,
          77,
          78,
          79,
          80,
          81,
          82,
          83,
          84,
          85,
          86,
          87,
          88,
          89,
          90,
          91,
          92,
          93,
          94,
          95,
          96,
          97,
          98,
          99
         ],
         "xaxis": "x4",
         "y": [
          0.6476108337217301,
          0.6087864345646428,
          0.5794913748940809,
          0.537562894710476,
          0.5132220618645441,
          0.48994542063106306,
          0.47079637288549125,
          0.457084511220776,
          0.439790724847406,
          0.42854107313617873,
          0.4207589844402442,
          0.4051924968135129,
          0.40088271917933305,
          0.39532076705862407,
          0.3901918194827495,
          0.38331039007511264,
          0.37791709709775945,
          0.37043244728400904,
          0.35700341777145245,
          0.35208327812233475,
          0.34695804734457947,
          0.3430138529529382,
          0.3378388691883075,
          0.3366174116835694,
          0.33859199934362555,
          0.33783086266711027,
          0.3317803830512758,
          0.33046578326748444,
          0.330243259788742,
          0.32861204482204176,
          0.33009948920617815,
          0.32468755056511195,
          0.32375586059507167,
          0.32332104820942187,
          0.3198609436897337,
          0.32285623098700206,
          0.3179506236015843,
          0.32177886024092694,
          0.31832652557957697,
          0.31799116775221403,
          0.31564336144899574,
          0.3186663327313356,
          0.31857660873271587,
          0.32260714540516355,
          0.31932435926080377,
          0.32356713107494384,
          0.3199842790566556,
          0.31982719243097857,
          0.3268582453023927,
          0.32340375224137136,
          0.3197105485957388,
          0.3220404944824309,
          0.3222024058429547,
          0.3239560909663298,
          0.32048773499887284,
          0.3210632805648085,
          0.3200471958531742,
          0.3162669280924293,
          0.311547606298291,
          0.31364045852271033,
          0.3182778464245339,
          0.31134211239123155,
          0.3165623241864917,
          0.3155585605337933,
          0.31471343905415017,
          0.3117083753626173,
          0.31353893544791456,
          0.30875905575414964,
          0.3060066375906298,
          0.30884779278704766,
          0.3100449126115219,
          0.3149406176240878,
          0.3102453966323052,
          0.3127097265858835,
          0.3102487096008132,
          0.30955013562281947,
          0.30966140416142157,
          0.3077971191964208,
          0.3052890308688648,
          0.30579612678640977,
          0.3112645725704356,
          0.3089377360000903,
          0.3121613147316405,
          0.3132228825802248,
          0.3104654664681865,
          0.3154334901242602,
          0.32007125776204515,
          0.3178511053716205,
          0.32446683973623663,
          0.32282906546409224,
          0.32380268764137443,
          0.32640291451499936,
          0.32951570618234227,
          0.3298942699689166,
          0.3252812122287414,
          0.3279122628799726,
          0.33128568975507083,
          0.33322042314151373,
          0.33390120970675014
         ],
         "yaxis": "y4"
        }
       ],
       "layout": {
        "annotations": [
         {
          "font": {
           "size": 16
          },
          "showarrow": false,
          "text": "fold1",
          "x": 0.225,
          "xanchor": "center",
          "xref": "paper",
          "y": 1,
          "yanchor": "bottom",
          "yref": "paper"
         },
         {
          "font": {
           "size": 16
          },
          "showarrow": false,
          "text": "fold2",
          "x": 0.775,
          "xanchor": "center",
          "xref": "paper",
          "y": 1,
          "yanchor": "bottom",
          "yref": "paper"
         },
         {
          "font": {
           "size": 16
          },
          "showarrow": false,
          "text": "fold3",
          "x": 0.225,
          "xanchor": "center",
          "xref": "paper",
          "y": 0.375,
          "yanchor": "bottom",
          "yref": "paper"
         },
         {
          "font": {
           "size": 16
          },
          "showarrow": false,
          "text": "fold4",
          "x": 0.775,
          "xanchor": "center",
          "xref": "paper",
          "y": 0.375,
          "yanchor": "bottom",
          "yref": "paper"
         }
        ],
        "template": {
         "data": {
          "bar": [
           {
            "error_x": {
             "color": "#2a3f5f"
            },
            "error_y": {
             "color": "#2a3f5f"
            },
            "marker": {
             "line": {
              "color": "#E5ECF6",
              "width": 0.5
             },
             "pattern": {
              "fillmode": "overlay",
              "size": 10,
              "solidity": 0.2
             }
            },
            "type": "bar"
           }
          ],
          "barpolar": [
           {
            "marker": {
             "line": {
              "color": "#E5ECF6",
              "width": 0.5
             },
             "pattern": {
              "fillmode": "overlay",
              "size": 10,
              "solidity": 0.2
             }
            },
            "type": "barpolar"
           }
          ],
          "carpet": [
           {
            "aaxis": {
             "endlinecolor": "#2a3f5f",
             "gridcolor": "white",
             "linecolor": "white",
             "minorgridcolor": "white",
             "startlinecolor": "#2a3f5f"
            },
            "baxis": {
             "endlinecolor": "#2a3f5f",
             "gridcolor": "white",
             "linecolor": "white",
             "minorgridcolor": "white",
             "startlinecolor": "#2a3f5f"
            },
            "type": "carpet"
           }
          ],
          "choropleth": [
           {
            "colorbar": {
             "outlinewidth": 0,
             "ticks": ""
            },
            "type": "choropleth"
           }
          ],
          "contour": [
           {
            "colorbar": {
             "outlinewidth": 0,
             "ticks": ""
            },
            "colorscale": [
             [
              0,
              "#0d0887"
             ],
             [
              0.1111111111111111,
              "#46039f"
             ],
             [
              0.2222222222222222,
              "#7201a8"
             ],
             [
              0.3333333333333333,
              "#9c179e"
             ],
             [
              0.4444444444444444,
              "#bd3786"
             ],
             [
              0.5555555555555556,
              "#d8576b"
             ],
             [
              0.6666666666666666,
              "#ed7953"
             ],
             [
              0.7777777777777778,
              "#fb9f3a"
             ],
             [
              0.8888888888888888,
              "#fdca26"
             ],
             [
              1,
              "#f0f921"
             ]
            ],
            "type": "contour"
           }
          ],
          "contourcarpet": [
           {
            "colorbar": {
             "outlinewidth": 0,
             "ticks": ""
            },
            "type": "contourcarpet"
           }
          ],
          "heatmap": [
           {
            "colorbar": {
             "outlinewidth": 0,
             "ticks": ""
            },
            "colorscale": [
             [
              0,
              "#0d0887"
             ],
             [
              0.1111111111111111,
              "#46039f"
             ],
             [
              0.2222222222222222,
              "#7201a8"
             ],
             [
              0.3333333333333333,
              "#9c179e"
             ],
             [
              0.4444444444444444,
              "#bd3786"
             ],
             [
              0.5555555555555556,
              "#d8576b"
             ],
             [
              0.6666666666666666,
              "#ed7953"
             ],
             [
              0.7777777777777778,
              "#fb9f3a"
             ],
             [
              0.8888888888888888,
              "#fdca26"
             ],
             [
              1,
              "#f0f921"
             ]
            ],
            "type": "heatmap"
           }
          ],
          "heatmapgl": [
           {
            "colorbar": {
             "outlinewidth": 0,
             "ticks": ""
            },
            "colorscale": [
             [
              0,
              "#0d0887"
             ],
             [
              0.1111111111111111,
              "#46039f"
             ],
             [
              0.2222222222222222,
              "#7201a8"
             ],
             [
              0.3333333333333333,
              "#9c179e"
             ],
             [
              0.4444444444444444,
              "#bd3786"
             ],
             [
              0.5555555555555556,
              "#d8576b"
             ],
             [
              0.6666666666666666,
              "#ed7953"
             ],
             [
              0.7777777777777778,
              "#fb9f3a"
             ],
             [
              0.8888888888888888,
              "#fdca26"
             ],
             [
              1,
              "#f0f921"
             ]
            ],
            "type": "heatmapgl"
           }
          ],
          "histogram": [
           {
            "marker": {
             "pattern": {
              "fillmode": "overlay",
              "size": 10,
              "solidity": 0.2
             }
            },
            "type": "histogram"
           }
          ],
          "histogram2d": [
           {
            "colorbar": {
             "outlinewidth": 0,
             "ticks": ""
            },
            "colorscale": [
             [
              0,
              "#0d0887"
             ],
             [
              0.1111111111111111,
              "#46039f"
             ],
             [
              0.2222222222222222,
              "#7201a8"
             ],
             [
              0.3333333333333333,
              "#9c179e"
             ],
             [
              0.4444444444444444,
              "#bd3786"
             ],
             [
              0.5555555555555556,
              "#d8576b"
             ],
             [
              0.6666666666666666,
              "#ed7953"
             ],
             [
              0.7777777777777778,
              "#fb9f3a"
             ],
             [
              0.8888888888888888,
              "#fdca26"
             ],
             [
              1,
              "#f0f921"
             ]
            ],
            "type": "histogram2d"
           }
          ],
          "histogram2dcontour": [
           {
            "colorbar": {
             "outlinewidth": 0,
             "ticks": ""
            },
            "colorscale": [
             [
              0,
              "#0d0887"
             ],
             [
              0.1111111111111111,
              "#46039f"
             ],
             [
              0.2222222222222222,
              "#7201a8"
             ],
             [
              0.3333333333333333,
              "#9c179e"
             ],
             [
              0.4444444444444444,
              "#bd3786"
             ],
             [
              0.5555555555555556,
              "#d8576b"
             ],
             [
              0.6666666666666666,
              "#ed7953"
             ],
             [
              0.7777777777777778,
              "#fb9f3a"
             ],
             [
              0.8888888888888888,
              "#fdca26"
             ],
             [
              1,
              "#f0f921"
             ]
            ],
            "type": "histogram2dcontour"
           }
          ],
          "mesh3d": [
           {
            "colorbar": {
             "outlinewidth": 0,
             "ticks": ""
            },
            "type": "mesh3d"
           }
          ],
          "parcoords": [
           {
            "line": {
             "colorbar": {
              "outlinewidth": 0,
              "ticks": ""
             }
            },
            "type": "parcoords"
           }
          ],
          "pie": [
           {
            "automargin": true,
            "type": "pie"
           }
          ],
          "scatter": [
           {
            "fillpattern": {
             "fillmode": "overlay",
             "size": 10,
             "solidity": 0.2
            },
            "type": "scatter"
           }
          ],
          "scatter3d": [
           {
            "line": {
             "colorbar": {
              "outlinewidth": 0,
              "ticks": ""
             }
            },
            "marker": {
             "colorbar": {
              "outlinewidth": 0,
              "ticks": ""
             }
            },
            "type": "scatter3d"
           }
          ],
          "scattercarpet": [
           {
            "marker": {
             "colorbar": {
              "outlinewidth": 0,
              "ticks": ""
             }
            },
            "type": "scattercarpet"
           }
          ],
          "scattergeo": [
           {
            "marker": {
             "colorbar": {
              "outlinewidth": 0,
              "ticks": ""
             }
            },
            "type": "scattergeo"
           }
          ],
          "scattergl": [
           {
            "marker": {
             "colorbar": {
              "outlinewidth": 0,
              "ticks": ""
             }
            },
            "type": "scattergl"
           }
          ],
          "scattermapbox": [
           {
            "marker": {
             "colorbar": {
              "outlinewidth": 0,
              "ticks": ""
             }
            },
            "type": "scattermapbox"
           }
          ],
          "scatterpolar": [
           {
            "marker": {
             "colorbar": {
              "outlinewidth": 0,
              "ticks": ""
             }
            },
            "type": "scatterpolar"
           }
          ],
          "scatterpolargl": [
           {
            "marker": {
             "colorbar": {
              "outlinewidth": 0,
              "ticks": ""
             }
            },
            "type": "scatterpolargl"
           }
          ],
          "scatterternary": [
           {
            "marker": {
             "colorbar": {
              "outlinewidth": 0,
              "ticks": ""
             }
            },
            "type": "scatterternary"
           }
          ],
          "surface": [
           {
            "colorbar": {
             "outlinewidth": 0,
             "ticks": ""
            },
            "colorscale": [
             [
              0,
              "#0d0887"
             ],
             [
              0.1111111111111111,
              "#46039f"
             ],
             [
              0.2222222222222222,
              "#7201a8"
             ],
             [
              0.3333333333333333,
              "#9c179e"
             ],
             [
              0.4444444444444444,
              "#bd3786"
             ],
             [
              0.5555555555555556,
              "#d8576b"
             ],
             [
              0.6666666666666666,
              "#ed7953"
             ],
             [
              0.7777777777777778,
              "#fb9f3a"
             ],
             [
              0.8888888888888888,
              "#fdca26"
             ],
             [
              1,
              "#f0f921"
             ]
            ],
            "type": "surface"
           }
          ],
          "table": [
           {
            "cells": {
             "fill": {
              "color": "#EBF0F8"
             },
             "line": {
              "color": "white"
             }
            },
            "header": {
             "fill": {
              "color": "#C8D4E3"
             },
             "line": {
              "color": "white"
             }
            },
            "type": "table"
           }
          ]
         },
         "layout": {
          "annotationdefaults": {
           "arrowcolor": "#2a3f5f",
           "arrowhead": 0,
           "arrowwidth": 1
          },
          "autotypenumbers": "strict",
          "coloraxis": {
           "colorbar": {
            "outlinewidth": 0,
            "ticks": ""
           }
          },
          "colorscale": {
           "diverging": [
            [
             0,
             "#8e0152"
            ],
            [
             0.1,
             "#c51b7d"
            ],
            [
             0.2,
             "#de77ae"
            ],
            [
             0.3,
             "#f1b6da"
            ],
            [
             0.4,
             "#fde0ef"
            ],
            [
             0.5,
             "#f7f7f7"
            ],
            [
             0.6,
             "#e6f5d0"
            ],
            [
             0.7,
             "#b8e186"
            ],
            [
             0.8,
             "#7fbc41"
            ],
            [
             0.9,
             "#4d9221"
            ],
            [
             1,
             "#276419"
            ]
           ],
           "sequential": [
            [
             0,
             "#0d0887"
            ],
            [
             0.1111111111111111,
             "#46039f"
            ],
            [
             0.2222222222222222,
             "#7201a8"
            ],
            [
             0.3333333333333333,
             "#9c179e"
            ],
            [
             0.4444444444444444,
             "#bd3786"
            ],
            [
             0.5555555555555556,
             "#d8576b"
            ],
            [
             0.6666666666666666,
             "#ed7953"
            ],
            [
             0.7777777777777778,
             "#fb9f3a"
            ],
            [
             0.8888888888888888,
             "#fdca26"
            ],
            [
             1,
             "#f0f921"
            ]
           ],
           "sequentialminus": [
            [
             0,
             "#0d0887"
            ],
            [
             0.1111111111111111,
             "#46039f"
            ],
            [
             0.2222222222222222,
             "#7201a8"
            ],
            [
             0.3333333333333333,
             "#9c179e"
            ],
            [
             0.4444444444444444,
             "#bd3786"
            ],
            [
             0.5555555555555556,
             "#d8576b"
            ],
            [
             0.6666666666666666,
             "#ed7953"
            ],
            [
             0.7777777777777778,
             "#fb9f3a"
            ],
            [
             0.8888888888888888,
             "#fdca26"
            ],
            [
             1,
             "#f0f921"
            ]
           ]
          },
          "colorway": [
           "#636efa",
           "#EF553B",
           "#00cc96",
           "#ab63fa",
           "#FFA15A",
           "#19d3f3",
           "#FF6692",
           "#B6E880",
           "#FF97FF",
           "#FECB52"
          ],
          "font": {
           "color": "#2a3f5f"
          },
          "geo": {
           "bgcolor": "white",
           "lakecolor": "white",
           "landcolor": "#E5ECF6",
           "showlakes": true,
           "showland": true,
           "subunitcolor": "white"
          },
          "hoverlabel": {
           "align": "left"
          },
          "hovermode": "closest",
          "mapbox": {
           "style": "light"
          },
          "paper_bgcolor": "white",
          "plot_bgcolor": "#E5ECF6",
          "polar": {
           "angularaxis": {
            "gridcolor": "white",
            "linecolor": "white",
            "ticks": ""
           },
           "bgcolor": "#E5ECF6",
           "radialaxis": {
            "gridcolor": "white",
            "linecolor": "white",
            "ticks": ""
           }
          },
          "scene": {
           "xaxis": {
            "backgroundcolor": "#E5ECF6",
            "gridcolor": "white",
            "gridwidth": 2,
            "linecolor": "white",
            "showbackground": true,
            "ticks": "",
            "zerolinecolor": "white"
           },
           "yaxis": {
            "backgroundcolor": "#E5ECF6",
            "gridcolor": "white",
            "gridwidth": 2,
            "linecolor": "white",
            "showbackground": true,
            "ticks": "",
            "zerolinecolor": "white"
           },
           "zaxis": {
            "backgroundcolor": "#E5ECF6",
            "gridcolor": "white",
            "gridwidth": 2,
            "linecolor": "white",
            "showbackground": true,
            "ticks": "",
            "zerolinecolor": "white"
           }
          },
          "shapedefaults": {
           "line": {
            "color": "#2a3f5f"
           }
          },
          "ternary": {
           "aaxis": {
            "gridcolor": "white",
            "linecolor": "white",
            "ticks": ""
           },
           "baxis": {
            "gridcolor": "white",
            "linecolor": "white",
            "ticks": ""
           },
           "bgcolor": "#E5ECF6",
           "caxis": {
            "gridcolor": "white",
            "linecolor": "white",
            "ticks": ""
           }
          },
          "title": {
           "x": 0.05
          },
          "xaxis": {
           "automargin": true,
           "gridcolor": "white",
           "linecolor": "white",
           "ticks": "",
           "title": {
            "standoff": 15
           },
           "zerolinecolor": "white",
           "zerolinewidth": 2
          },
          "yaxis": {
           "automargin": true,
           "gridcolor": "white",
           "linecolor": "white",
           "ticks": "",
           "title": {
            "standoff": 15
           },
           "zerolinecolor": "white",
           "zerolinewidth": 2
          }
         }
        },
        "title": {
         "text": "fold1, fold2, fold3, fold4"
        },
        "xaxis": {
         "anchor": "y",
         "domain": [
          0,
          0.45
         ]
        },
        "xaxis2": {
         "anchor": "y2",
         "domain": [
          0.55,
          1
         ]
        },
        "xaxis3": {
         "anchor": "y3",
         "domain": [
          0,
          0.45
         ]
        },
        "xaxis4": {
         "anchor": "y4",
         "domain": [
          0.55,
          1
         ]
        },
        "yaxis": {
         "anchor": "x",
         "domain": [
          0.625,
          1
         ]
        },
        "yaxis2": {
         "anchor": "x2",
         "domain": [
          0.625,
          1
         ]
        },
        "yaxis3": {
         "anchor": "x3",
         "domain": [
          0,
          0.375
         ]
        },
        "yaxis4": {
         "anchor": "x4",
         "domain": [
          0,
          0.375
         ]
        }
       }
      },
      "text/html": [
       "<div>                            <div id=\"61acf7a6-4bd5-48be-bf5a-22648b33c786\" class=\"plotly-graph-div\" style=\"height:525px; width:100%;\"></div>            <script type=\"text/javascript\">                require([\"plotly\"], function(Plotly) {                    window.PLOTLYENV=window.PLOTLYENV || {};                                    if (document.getElementById(\"61acf7a6-4bd5-48be-bf5a-22648b33c786\")) {                    Plotly.newPlot(                        \"61acf7a6-4bd5-48be-bf5a-22648b33c786\",                        [{\"mode\":\"lines\",\"name\":\"train\",\"x\":[1,2,3,4,5,6,7,8,9,10,11,12,13,14,15,16,17,18,19,20,21,22,23,24,25,26,27,28,29,30,31,32,33,34,35,36,37,38,39,40,41,42,43,44,45,46,47,48,49,50,51,52,53,54,55],\"y\":[0.6299149442997429,0.5829444308837282,0.5379171596136704,0.5033518294592576,0.4733046340294833,0.44718505443782175,0.42142556837689704,0.3971333136245193,0.3775676251919055,0.3539295646194342,0.3289256032384801,0.30656088637003714,0.2905199700331724,0.2732226127875532,0.25669254204345543,0.24187340846515692,0.22864929720696328,0.21590764701150433,0.2024169042353001,0.19214493154945406,0.1794015893556779,0.16971807523680438,0.16011543728902256,0.15147810578714482,0.14214476292104958,0.13552789991410014,0.1271685360933401,0.11970947152698524,0.11257670828336178,0.10615475578174247,0.09899763105401546,0.09265981555275472,0.08663066589922942,0.08180904351303776,0.07754927956806994,0.07219132821616575,0.06739080329944741,0.06326352132427818,0.05955848156283937,0.05580390431442433,0.05223198908724781,0.04919397781152138,0.04604240100565534,0.043706308186617415,0.04115995553287784,0.03828462253333144,0.03594731497004838,0.033975272359362436,0.03193682985229143,0.02978021590743862,0.028154959396226337,0.026487548114100517,0.025082388555904837,0.023452737054473025,0.02201414096503588],\"type\":\"scatter\",\"xaxis\":\"x\",\"yaxis\":\"y\"},{\"mode\":\"lines\",\"name\":\"eval\",\"x\":[1,2,3,4,5,6,7,8,9,10,11,12,13,14,15,16,17,18,19,20,21,22,23,24,25,26,27,28,29,30,31,32,33,34,35,36,37,38,39,40,41,42,43,44,45,46,47,48,49,50,51,52,53,54,55],\"y\":[0.6544146736932714,0.6203657015708054,0.5976319961353067,0.5758855289492548,0.5495357931754626,0.5341452227544574,0.5215613583925545,0.5115869000112546,0.5058049846809243,0.4949079229171864,0.48510276756489107,0.4624256076167601,0.4520107137287462,0.44146050798993547,0.4366451275843811,0.4200999471213425,0.40417721180200006,0.3949160914085943,0.38577297158244006,0.38337266048897123,0.3820069444407046,0.3771492086813586,0.36953941823042136,0.36664167958916705,0.3639440607271184,0.3582743423870126,0.3550456123671677,0.35470387419069227,0.34953628466660147,0.34912716644474906,0.3564068409553579,0.35467093199391353,0.35450333765558883,0.3505256502038011,0.3470747539779488,0.34911838431044084,0.3528340502980415,0.35559504915125717,0.35999171768368987,0.3606363126462141,0.35952138233768466,0.36789589681453516,0.36905802784146263,0.36817424794744064,0.3662853863792823,0.3689428122125362,0.3687032204121336,0.36219241957712356,0.35878725655371646,0.35915973000953266,0.35390830901793224,0.35409689168206787,0.3537544460047293,0.35410889640665477,0.3528949298874506],\"type\":\"scatter\",\"xaxis\":\"x\",\"yaxis\":\"y\"},{\"mode\":\"lines\",\"name\":\"train\",\"x\":[1,2,3,4,5,6,7,8,9,10,11,12,13,14,15,16,17,18,19,20,21,22,23,24,25,26,27,28,29,30,31,32,33,34,35,36,37,38,39,40,41,42,43,44,45,46,47,48,49,50,51,52,53,54,55,56,57,58,59,60,61,62,63,64,65,66,67,68,69,70],\"y\":[0.6386638056510876,0.5861193326691376,0.5417910665230619,0.5001710954202647,0.470523757064968,0.4349463259481364,0.412749758901336,0.3890735361266478,0.36283323878645957,0.34081858991595637,0.319342853128516,0.3021174197983656,0.2879956428843423,0.2686318663343785,0.25333524017541215,0.24204280339272383,0.22664108120510798,0.21245723779569922,0.20025622906262985,0.18903276114914733,0.18052040842767414,0.16979984286671254,0.1600240902949485,0.15152849346366168,0.1433865436781557,0.1353641898398635,0.12755848388837002,0.12044626463987512,0.11343865060043991,0.10625372729751373,0.10057401291764037,0.09514067538093549,0.08884603212096262,0.0838998000988928,0.0784834979253733,0.07441283123774842,0.07085899909237392,0.06675139397249986,0.06266156746212767,0.05863894230452733,0.0548785912007797,0.05083147945025539,0.04781093649978181,0.04483806779045612,0.042012964999716546,0.0396662244516935,0.03712366719391158,0.03508707155050421,0.03322119240606546,0.03126459493199132,0.02927473110537899,0.027210426320314392,0.025426320164478856,0.024110239156504162,0.02258112110518401,0.02108171729190937,0.019843330980101867,0.018771237178842673,0.0177193264306178,0.016552625596631555,0.015547071893662114,0.014565167156621027,0.013621681961225734,0.012648954366327968,0.01200237310348571,0.011339762753039894,0.010587383693663712,0.010053961333983907,0.00941585639743695,0.008751186049560327],\"type\":\"scatter\",\"xaxis\":\"x2\",\"yaxis\":\"y2\"},{\"mode\":\"lines\",\"name\":\"eval\",\"x\":[1,2,3,4,5,6,7,8,9,10,11,12,13,14,15,16,17,18,19,20,21,22,23,24,25,26,27,28,29,30,31,32,33,34,35,36,37,38,39,40,41,42,43,44,45,46,47,48,49,50,51,52,53,54,55,56,57,58,59,60,61,62,63,64,65,66,67,68,69,70],\"y\":[0.6417982649634344,0.5947634577099878,0.5631475963293007,0.5408699020076367,0.5183382863038626,0.4992994785834287,0.4784357914798427,0.46480494099110453,0.44783876153027574,0.43808132395062227,0.4284703228777892,0.41943425744406065,0.41708050409959013,0.4078927534702036,0.3944520691175398,0.3978158426663732,0.395620272143992,0.3924649564205972,0.38679513543019584,0.38335131564228475,0.3797612983589099,0.3841931371597689,0.38407760136583824,0.37626692444181564,0.3761636158664953,0.377786390163832,0.3832510945441828,0.38239600311821864,0.3827382963902032,0.3896128874160292,0.38972302561308947,0.38888278311129076,0.38713358232710904,0.3898311786104345,0.37970802713106044,0.3844945453457611,0.3822723734505581,0.38148407588489663,0.3832951109437297,0.382896718463243,0.3763846859098203,0.3745932053379766,0.37303142109891463,0.37631345212617934,0.38009103369902636,0.3744049326217296,0.37179429701732625,0.3733846417269193,0.37074115096401167,0.36783477324427305,0.3680229498568248,0.375275313211767,0.3795542384061966,0.38122355225627,0.37848477020411686,0.37517142413870525,0.378176042257914,0.3787683637292898,0.38151221575837274,0.3880076363002974,0.3944882497782237,0.39609430667360634,0.40131731484458033,0.40759053549612656,0.4095360066041339,0.40789990824088107,0.41244165611981076,0.41133036780428445,0.4113104879429669,0.4133686264189638],\"type\":\"scatter\",\"xaxis\":\"x2\",\"yaxis\":\"y2\"},{\"mode\":\"lines\",\"name\":\"train\",\"x\":[1,2,3,4,5,6,7,8,9,10,11,12,13,14,15,16,17,18,19,20,21,22,23,24,25,26,27,28,29,30,31,32,33,34,35,36],\"y\":[0.6310146892900852,0.5800678444287697,0.5361603146758629,0.4953212230388706,0.4625363025968535,0.4334355799965481,0.4064231166819937,0.38229769167855127,0.35671887596271157,0.33724711760809456,0.32047942368497423,0.3052058235836509,0.2906683758804083,0.27243284465600826,0.25834311407881205,0.24357699056019436,0.23004030692352484,0.21852929179385447,0.20639536586629093,0.1952985489270449,0.18336641950727117,0.1739067022930459,0.1626127210246396,0.15267905984016109,0.14421054016046145,0.13520761572442458,0.127713074154633,0.11993671812787829,0.11240483421554717,0.10586796646161842,0.09901721314937295,0.09328994691193421,0.08769595875280956,0.08234608868995849,0.07748273045340237,0.07271618493198867],\"type\":\"scatter\",\"xaxis\":\"x3\",\"yaxis\":\"y3\"},{\"mode\":\"lines\",\"name\":\"eval\",\"x\":[1,2,3,4,5,6,7,8,9,10,11,12,13,14,15,16,17,18,19,20,21,22,23,24,25,26,27,28,29,30,31,32,33,34,35,36],\"y\":[0.6642259453080475,0.6372087845513315,0.6182494146299067,0.597852045823027,0.5836943262129722,0.5744522553652316,0.5666550647504913,0.5614176780362018,0.5575044568590801,0.55166899659242,0.5488367616318041,0.543383607565662,0.538513226097497,0.5364399860217166,0.530956348631092,0.5236724069493266,0.5282118066927054,0.5321023388541376,0.530179933109762,0.533656621928003,0.5312289837728794,0.5303174831750762,0.5292342694845198,0.5313851851995692,0.5299181280518899,0.5340467859011446,0.5365007598364632,0.5419035854780734,0.5433662678472315,0.5481949167147915,0.5520593827533695,0.5535687660176816,0.5564594664437469,0.5602167133343976,0.577198767031744,0.5888930798525264],\"type\":\"scatter\",\"xaxis\":\"x3\",\"yaxis\":\"y3\"},{\"mode\":\"lines\",\"name\":\"train\",\"x\":[1,2,3,4,5,6,7,8,9,10,11,12,13,14,15,16,17,18,19,20,21,22,23,24,25,26,27,28,29,30,31,32,33,34,35,36,37,38,39,40,41,42,43,44,45,46,47,48,49,50,51,52,53,54,55,56,57,58,59,60,61,62,63,64,65,66,67,68,69,70,71,72,73,74,75,76,77,78,79,80,81,82,83,84,85,86,87,88,89,90,91,92,93,94,95,96,97,98,99],\"y\":[0.6344084219433285,0.5864814446071906,0.5461547036802701,0.5015578530389008,0.46921766265351705,0.4439750654558292,0.41889323458313676,0.3954883569101618,0.36805492564546816,0.35079662925946675,0.3303266934172011,0.3082167843592698,0.2953853933432158,0.2778356274597922,0.26210151543069654,0.2502678604717249,0.23804960724760155,0.226035387822464,0.21213486396670767,0.2000226959462299,0.18907091400913267,0.18176546462045368,0.17283457288550214,0.16200268111552799,0.15083399934030367,0.14338126501301102,0.1347768752247374,0.12611674339964662,0.11914642718486193,0.11226613644516908,0.10596943286115024,0.09928784180436842,0.09364059590678003,0.08714040212285236,0.08222075827887723,0.07719685049778949,0.07245627327539887,0.06801997648927194,0.06437270817513398,0.060130698851518075,0.05664056484429093,0.05358654416720881,0.05045029538275419,0.04751897537582797,0.044740294550655695,0.04241018492566581,0.039542743628028294,0.03728385748725087,0.03484596334659337,0.032779309784947294,0.030728230238993418,0.02901328806187353,0.0272276577616258,0.025536529247555357,0.024367319110299452,0.022876043810982516,0.02133055414779801,0.02001914920250982,0.018798613734541374,0.017627782242455536,0.01656779581988016,0.015430875747958407,0.014478641533532885,0.013533802993017702,0.012740864197053345,0.012042742466057507,0.011226760106871313,0.010454941043909729,0.009739523480251942,0.00919501406380882,0.008644076343860625,0.008169462941382646,0.007570573977400021,0.007113299866064999,0.006678248627317543,0.006139035620803956,0.005712855323546909,0.00530608573740943,0.004955722614106005,0.0046627934662325414,0.004378486694908241,0.0041415004781704505,0.0038663480424008106,0.0036120798705841263,0.003383539235801039,0.0031856543738778874,0.0030044778341488635,0.0028041939570612705,0.0026169762828165155,0.0024312968536548607,0.0022867381777496817,0.0021468295961759227,0.002005839082595642,0.0018849289586188823,0.0017561560576700396,0.0016361672517184488,0.0015403069054326986,0.0014277549077384185,0.0013377838500412218],\"type\":\"scatter\",\"xaxis\":\"x4\",\"yaxis\":\"y4\"},{\"mode\":\"lines\",\"name\":\"eval\",\"x\":[1,2,3,4,5,6,7,8,9,10,11,12,13,14,15,16,17,18,19,20,21,22,23,24,25,26,27,28,29,30,31,32,33,34,35,36,37,38,39,40,41,42,43,44,45,46,47,48,49,50,51,52,53,54,55,56,57,58,59,60,61,62,63,64,65,66,67,68,69,70,71,72,73,74,75,76,77,78,79,80,81,82,83,84,85,86,87,88,89,90,91,92,93,94,95,96,97,98,99],\"y\":[0.6476108337217301,0.6087864345646428,0.5794913748940809,0.537562894710476,0.5132220618645441,0.48994542063106306,0.47079637288549125,0.457084511220776,0.439790724847406,0.42854107313617873,0.4207589844402442,0.4051924968135129,0.40088271917933305,0.39532076705862407,0.3901918194827495,0.38331039007511264,0.37791709709775945,0.37043244728400904,0.35700341777145245,0.35208327812233475,0.34695804734457947,0.3430138529529382,0.3378388691883075,0.3366174116835694,0.33859199934362555,0.33783086266711027,0.3317803830512758,0.33046578326748444,0.330243259788742,0.32861204482204176,0.33009948920617815,0.32468755056511195,0.32375586059507167,0.32332104820942187,0.3198609436897337,0.32285623098700206,0.3179506236015843,0.32177886024092694,0.31832652557957697,0.31799116775221403,0.31564336144899574,0.3186663327313356,0.31857660873271587,0.32260714540516355,0.31932435926080377,0.32356713107494384,0.3199842790566556,0.31982719243097857,0.3268582453023927,0.32340375224137136,0.3197105485957388,0.3220404944824309,0.3222024058429547,0.3239560909663298,0.32048773499887284,0.3210632805648085,0.3200471958531742,0.3162669280924293,0.311547606298291,0.31364045852271033,0.3182778464245339,0.31134211239123155,0.3165623241864917,0.3155585605337933,0.31471343905415017,0.3117083753626173,0.31353893544791456,0.30875905575414964,0.3060066375906298,0.30884779278704766,0.3100449126115219,0.3149406176240878,0.3102453966323052,0.3127097265858835,0.3102487096008132,0.30955013562281947,0.30966140416142157,0.3077971191964208,0.3052890308688648,0.30579612678640977,0.3112645725704356,0.3089377360000903,0.3121613147316405,0.3132228825802248,0.3104654664681865,0.3154334901242602,0.32007125776204515,0.3178511053716205,0.32446683973623663,0.32282906546409224,0.32380268764137443,0.32640291451499936,0.32951570618234227,0.3298942699689166,0.3252812122287414,0.3279122628799726,0.33128568975507083,0.33322042314151373,0.33390120970675014],\"type\":\"scatter\",\"xaxis\":\"x4\",\"yaxis\":\"y4\"}],                        {\"template\":{\"data\":{\"histogram2dcontour\":[{\"type\":\"histogram2dcontour\",\"colorbar\":{\"outlinewidth\":0,\"ticks\":\"\"},\"colorscale\":[[0.0,\"#0d0887\"],[0.1111111111111111,\"#46039f\"],[0.2222222222222222,\"#7201a8\"],[0.3333333333333333,\"#9c179e\"],[0.4444444444444444,\"#bd3786\"],[0.5555555555555556,\"#d8576b\"],[0.6666666666666666,\"#ed7953\"],[0.7777777777777778,\"#fb9f3a\"],[0.8888888888888888,\"#fdca26\"],[1.0,\"#f0f921\"]]}],\"choropleth\":[{\"type\":\"choropleth\",\"colorbar\":{\"outlinewidth\":0,\"ticks\":\"\"}}],\"histogram2d\":[{\"type\":\"histogram2d\",\"colorbar\":{\"outlinewidth\":0,\"ticks\":\"\"},\"colorscale\":[[0.0,\"#0d0887\"],[0.1111111111111111,\"#46039f\"],[0.2222222222222222,\"#7201a8\"],[0.3333333333333333,\"#9c179e\"],[0.4444444444444444,\"#bd3786\"],[0.5555555555555556,\"#d8576b\"],[0.6666666666666666,\"#ed7953\"],[0.7777777777777778,\"#fb9f3a\"],[0.8888888888888888,\"#fdca26\"],[1.0,\"#f0f921\"]]}],\"heatmap\":[{\"type\":\"heatmap\",\"colorbar\":{\"outlinewidth\":0,\"ticks\":\"\"},\"colorscale\":[[0.0,\"#0d0887\"],[0.1111111111111111,\"#46039f\"],[0.2222222222222222,\"#7201a8\"],[0.3333333333333333,\"#9c179e\"],[0.4444444444444444,\"#bd3786\"],[0.5555555555555556,\"#d8576b\"],[0.6666666666666666,\"#ed7953\"],[0.7777777777777778,\"#fb9f3a\"],[0.8888888888888888,\"#fdca26\"],[1.0,\"#f0f921\"]]}],\"heatmapgl\":[{\"type\":\"heatmapgl\",\"colorbar\":{\"outlinewidth\":0,\"ticks\":\"\"},\"colorscale\":[[0.0,\"#0d0887\"],[0.1111111111111111,\"#46039f\"],[0.2222222222222222,\"#7201a8\"],[0.3333333333333333,\"#9c179e\"],[0.4444444444444444,\"#bd3786\"],[0.5555555555555556,\"#d8576b\"],[0.6666666666666666,\"#ed7953\"],[0.7777777777777778,\"#fb9f3a\"],[0.8888888888888888,\"#fdca26\"],[1.0,\"#f0f921\"]]}],\"contourcarpet\":[{\"type\":\"contourcarpet\",\"colorbar\":{\"outlinewidth\":0,\"ticks\":\"\"}}],\"contour\":[{\"type\":\"contour\",\"colorbar\":{\"outlinewidth\":0,\"ticks\":\"\"},\"colorscale\":[[0.0,\"#0d0887\"],[0.1111111111111111,\"#46039f\"],[0.2222222222222222,\"#7201a8\"],[0.3333333333333333,\"#9c179e\"],[0.4444444444444444,\"#bd3786\"],[0.5555555555555556,\"#d8576b\"],[0.6666666666666666,\"#ed7953\"],[0.7777777777777778,\"#fb9f3a\"],[0.8888888888888888,\"#fdca26\"],[1.0,\"#f0f921\"]]}],\"surface\":[{\"type\":\"surface\",\"colorbar\":{\"outlinewidth\":0,\"ticks\":\"\"},\"colorscale\":[[0.0,\"#0d0887\"],[0.1111111111111111,\"#46039f\"],[0.2222222222222222,\"#7201a8\"],[0.3333333333333333,\"#9c179e\"],[0.4444444444444444,\"#bd3786\"],[0.5555555555555556,\"#d8576b\"],[0.6666666666666666,\"#ed7953\"],[0.7777777777777778,\"#fb9f3a\"],[0.8888888888888888,\"#fdca26\"],[1.0,\"#f0f921\"]]}],\"mesh3d\":[{\"type\":\"mesh3d\",\"colorbar\":{\"outlinewidth\":0,\"ticks\":\"\"}}],\"scatter\":[{\"fillpattern\":{\"fillmode\":\"overlay\",\"size\":10,\"solidity\":0.2},\"type\":\"scatter\"}],\"parcoords\":[{\"type\":\"parcoords\",\"line\":{\"colorbar\":{\"outlinewidth\":0,\"ticks\":\"\"}}}],\"scatterpolargl\":[{\"type\":\"scatterpolargl\",\"marker\":{\"colorbar\":{\"outlinewidth\":0,\"ticks\":\"\"}}}],\"bar\":[{\"error_x\":{\"color\":\"#2a3f5f\"},\"error_y\":{\"color\":\"#2a3f5f\"},\"marker\":{\"line\":{\"color\":\"#E5ECF6\",\"width\":0.5},\"pattern\":{\"fillmode\":\"overlay\",\"size\":10,\"solidity\":0.2}},\"type\":\"bar\"}],\"scattergeo\":[{\"type\":\"scattergeo\",\"marker\":{\"colorbar\":{\"outlinewidth\":0,\"ticks\":\"\"}}}],\"scatterpolar\":[{\"type\":\"scatterpolar\",\"marker\":{\"colorbar\":{\"outlinewidth\":0,\"ticks\":\"\"}}}],\"histogram\":[{\"marker\":{\"pattern\":{\"fillmode\":\"overlay\",\"size\":10,\"solidity\":0.2}},\"type\":\"histogram\"}],\"scattergl\":[{\"type\":\"scattergl\",\"marker\":{\"colorbar\":{\"outlinewidth\":0,\"ticks\":\"\"}}}],\"scatter3d\":[{\"type\":\"scatter3d\",\"line\":{\"colorbar\":{\"outlinewidth\":0,\"ticks\":\"\"}},\"marker\":{\"colorbar\":{\"outlinewidth\":0,\"ticks\":\"\"}}}],\"scattermapbox\":[{\"type\":\"scattermapbox\",\"marker\":{\"colorbar\":{\"outlinewidth\":0,\"ticks\":\"\"}}}],\"scatterternary\":[{\"type\":\"scatterternary\",\"marker\":{\"colorbar\":{\"outlinewidth\":0,\"ticks\":\"\"}}}],\"scattercarpet\":[{\"type\":\"scattercarpet\",\"marker\":{\"colorbar\":{\"outlinewidth\":0,\"ticks\":\"\"}}}],\"carpet\":[{\"aaxis\":{\"endlinecolor\":\"#2a3f5f\",\"gridcolor\":\"white\",\"linecolor\":\"white\",\"minorgridcolor\":\"white\",\"startlinecolor\":\"#2a3f5f\"},\"baxis\":{\"endlinecolor\":\"#2a3f5f\",\"gridcolor\":\"white\",\"linecolor\":\"white\",\"minorgridcolor\":\"white\",\"startlinecolor\":\"#2a3f5f\"},\"type\":\"carpet\"}],\"table\":[{\"cells\":{\"fill\":{\"color\":\"#EBF0F8\"},\"line\":{\"color\":\"white\"}},\"header\":{\"fill\":{\"color\":\"#C8D4E3\"},\"line\":{\"color\":\"white\"}},\"type\":\"table\"}],\"barpolar\":[{\"marker\":{\"line\":{\"color\":\"#E5ECF6\",\"width\":0.5},\"pattern\":{\"fillmode\":\"overlay\",\"size\":10,\"solidity\":0.2}},\"type\":\"barpolar\"}],\"pie\":[{\"automargin\":true,\"type\":\"pie\"}]},\"layout\":{\"autotypenumbers\":\"strict\",\"colorway\":[\"#636efa\",\"#EF553B\",\"#00cc96\",\"#ab63fa\",\"#FFA15A\",\"#19d3f3\",\"#FF6692\",\"#B6E880\",\"#FF97FF\",\"#FECB52\"],\"font\":{\"color\":\"#2a3f5f\"},\"hovermode\":\"closest\",\"hoverlabel\":{\"align\":\"left\"},\"paper_bgcolor\":\"white\",\"plot_bgcolor\":\"#E5ECF6\",\"polar\":{\"bgcolor\":\"#E5ECF6\",\"angularaxis\":{\"gridcolor\":\"white\",\"linecolor\":\"white\",\"ticks\":\"\"},\"radialaxis\":{\"gridcolor\":\"white\",\"linecolor\":\"white\",\"ticks\":\"\"}},\"ternary\":{\"bgcolor\":\"#E5ECF6\",\"aaxis\":{\"gridcolor\":\"white\",\"linecolor\":\"white\",\"ticks\":\"\"},\"baxis\":{\"gridcolor\":\"white\",\"linecolor\":\"white\",\"ticks\":\"\"},\"caxis\":{\"gridcolor\":\"white\",\"linecolor\":\"white\",\"ticks\":\"\"}},\"coloraxis\":{\"colorbar\":{\"outlinewidth\":0,\"ticks\":\"\"}},\"colorscale\":{\"sequential\":[[0.0,\"#0d0887\"],[0.1111111111111111,\"#46039f\"],[0.2222222222222222,\"#7201a8\"],[0.3333333333333333,\"#9c179e\"],[0.4444444444444444,\"#bd3786\"],[0.5555555555555556,\"#d8576b\"],[0.6666666666666666,\"#ed7953\"],[0.7777777777777778,\"#fb9f3a\"],[0.8888888888888888,\"#fdca26\"],[1.0,\"#f0f921\"]],\"sequentialminus\":[[0.0,\"#0d0887\"],[0.1111111111111111,\"#46039f\"],[0.2222222222222222,\"#7201a8\"],[0.3333333333333333,\"#9c179e\"],[0.4444444444444444,\"#bd3786\"],[0.5555555555555556,\"#d8576b\"],[0.6666666666666666,\"#ed7953\"],[0.7777777777777778,\"#fb9f3a\"],[0.8888888888888888,\"#fdca26\"],[1.0,\"#f0f921\"]],\"diverging\":[[0,\"#8e0152\"],[0.1,\"#c51b7d\"],[0.2,\"#de77ae\"],[0.3,\"#f1b6da\"],[0.4,\"#fde0ef\"],[0.5,\"#f7f7f7\"],[0.6,\"#e6f5d0\"],[0.7,\"#b8e186\"],[0.8,\"#7fbc41\"],[0.9,\"#4d9221\"],[1,\"#276419\"]]},\"xaxis\":{\"gridcolor\":\"white\",\"linecolor\":\"white\",\"ticks\":\"\",\"title\":{\"standoff\":15},\"zerolinecolor\":\"white\",\"automargin\":true,\"zerolinewidth\":2},\"yaxis\":{\"gridcolor\":\"white\",\"linecolor\":\"white\",\"ticks\":\"\",\"title\":{\"standoff\":15},\"zerolinecolor\":\"white\",\"automargin\":true,\"zerolinewidth\":2},\"scene\":{\"xaxis\":{\"backgroundcolor\":\"#E5ECF6\",\"gridcolor\":\"white\",\"linecolor\":\"white\",\"showbackground\":true,\"ticks\":\"\",\"zerolinecolor\":\"white\",\"gridwidth\":2},\"yaxis\":{\"backgroundcolor\":\"#E5ECF6\",\"gridcolor\":\"white\",\"linecolor\":\"white\",\"showbackground\":true,\"ticks\":\"\",\"zerolinecolor\":\"white\",\"gridwidth\":2},\"zaxis\":{\"backgroundcolor\":\"#E5ECF6\",\"gridcolor\":\"white\",\"linecolor\":\"white\",\"showbackground\":true,\"ticks\":\"\",\"zerolinecolor\":\"white\",\"gridwidth\":2}},\"shapedefaults\":{\"line\":{\"color\":\"#2a3f5f\"}},\"annotationdefaults\":{\"arrowcolor\":\"#2a3f5f\",\"arrowhead\":0,\"arrowwidth\":1},\"geo\":{\"bgcolor\":\"white\",\"landcolor\":\"#E5ECF6\",\"subunitcolor\":\"white\",\"showland\":true,\"showlakes\":true,\"lakecolor\":\"white\"},\"title\":{\"x\":0.05},\"mapbox\":{\"style\":\"light\"}}},\"xaxis\":{\"anchor\":\"y\",\"domain\":[0.0,0.45]},\"yaxis\":{\"anchor\":\"x\",\"domain\":[0.625,1.0]},\"xaxis2\":{\"anchor\":\"y2\",\"domain\":[0.55,1.0]},\"yaxis2\":{\"anchor\":\"x2\",\"domain\":[0.625,1.0]},\"xaxis3\":{\"anchor\":\"y3\",\"domain\":[0.0,0.45]},\"yaxis3\":{\"anchor\":\"x3\",\"domain\":[0.0,0.375]},\"xaxis4\":{\"anchor\":\"y4\",\"domain\":[0.55,1.0]},\"yaxis4\":{\"anchor\":\"x4\",\"domain\":[0.0,0.375]},\"annotations\":[{\"font\":{\"size\":16},\"showarrow\":false,\"text\":\"fold1\",\"x\":0.225,\"xanchor\":\"center\",\"xref\":\"paper\",\"y\":1.0,\"yanchor\":\"bottom\",\"yref\":\"paper\"},{\"font\":{\"size\":16},\"showarrow\":false,\"text\":\"fold2\",\"x\":0.775,\"xanchor\":\"center\",\"xref\":\"paper\",\"y\":1.0,\"yanchor\":\"bottom\",\"yref\":\"paper\"},{\"font\":{\"size\":16},\"showarrow\":false,\"text\":\"fold3\",\"x\":0.225,\"xanchor\":\"center\",\"xref\":\"paper\",\"y\":0.375,\"yanchor\":\"bottom\",\"yref\":\"paper\"},{\"font\":{\"size\":16},\"showarrow\":false,\"text\":\"fold4\",\"x\":0.775,\"xanchor\":\"center\",\"xref\":\"paper\",\"y\":0.375,\"yanchor\":\"bottom\",\"yref\":\"paper\"}],\"title\":{\"text\":\"fold1, fold2, fold3, fold4\"}},                        {\"responsive\": true}                    ).then(function(){\n",
       "                            \n",
       "var gd = document.getElementById('61acf7a6-4bd5-48be-bf5a-22648b33c786');\n",
       "var x = new MutationObserver(function (mutations, observer) {{\n",
       "        var display = window.getComputedStyle(gd).display;\n",
       "        if (!display || display === 'none') {{\n",
       "            console.log([gd, 'removed!']);\n",
       "            Plotly.purge(gd);\n",
       "            observer.disconnect();\n",
       "        }}\n",
       "}});\n",
       "\n",
       "// Listen for the removal of the full notebook cells\n",
       "var notebookContainer = gd.closest('#notebook-container');\n",
       "if (notebookContainer) {{\n",
       "    x.observe(notebookContainer, {childList: true});\n",
       "}}\n",
       "\n",
       "// Listen for the clearing of the current output cell\n",
       "var outputEl = gd.closest('.output');\n",
       "if (outputEl) {{\n",
       "    x.observe(outputEl, {childList: true});\n",
       "}}\n",
       "\n",
       "                        })                };                });            </script>        </div>"
      ]
     },
     "metadata": {},
     "output_type": "display_data"
    }
   ],
   "source": [
    "fig = make_subplots(rows = 2,cols = 2,\n",
    "                    subplot_titles=(\"fold1\", \"fold2\", \"fold3\", \"fold4\"))\n",
    "tuples = [(1,1),(1,2),(2,1),(2,2)]\n",
    "for i in range(len(evals_results)):\n",
    "    train_log = evals_results[i]['train']['balanced_logloss'] \n",
    "    eval_log = evals_results[i]['valid']['balanced_logloss'] \n",
    "    x = np.arange(1,1+len(train_log))\n",
    "    fig.add_trace(go.Scatter(x = x, y = train_log,mode = 'lines',name = 'train'),\n",
    "                 row = tuples[i][0],col = tuples[i][1])\n",
    "    fig.add_trace(go.Scatter(x = x, y = eval_log,mode = 'lines',name = 'eval'),\n",
    "                 row = tuples[i][0],col = tuples[i][1])\n",
    "fig.update_layout(\n",
    "    title = \"fold1, fold2, fold3, fold4\"\n",
    ")"
   ]
  },
  {
   "cell_type": "code",
   "execution_count": 21,
   "id": "012c653e",
   "metadata": {},
   "outputs": [
    {
     "data": {
      "image/png": "[encoded data removed]",
      "text/plain": [
       "<Figure size 1200x800 with 4 Axes>"
      ]
     },
     "metadata": {},
     "output_type": "display_data"
    }
   ],
   "source": [
    "fig, axes = plt.subplots(nrows=2, ncols=2, figsize=(12, 8))\n",
    "\n",
    "\n",
    "# 各モデルに対して特徴量の重要度をプロット\n",
    "for i, model in enumerate(models):\n",
    "    # 重要度の取得\n",
    "    importance = model.feature_importance(importance_type='gain')\n",
    "    # 特徴量の名前の取得\n",
    "    feature_names = model.feature_name()\n",
    "\n",
    "    # 重要度を降順にソートして上位20個を選択\n",
    "    top_features = sorted(zip(feature_names, importance), key=lambda x: x[1], reverse=True)[:20]\n",
    "    # 上位20個の特徴量とその重要度を取得\n",
    "    top_feature_names = [feat[0] for feat in top_features]\n",
    "    top_feature_importance = [feat[1] for feat in top_features]\n",
    "\n",
    "    # サブプロットにプロット\n",
    "    ax = axes[i // 2, i % 2]  # サブプロットの位置を指定\n",
    "    ax.barh(range(len(top_feature_names)), top_feature_importance, align='center')\n",
    "    ax.set_yticks(range(len(top_feature_names)))\n",
    "    ax.set_yticklabels(top_feature_names)\n",
    "    ax.set_xlabel('Feature Importance')\n",
    "    ax.set_ylabel('Feature')\n",
    "    ax.set_title(f'Model {i+1} - Top 20 Important Features')\n",
    "\n",
    "# サブプロット間のスペースを調整\n",
    "plt.tight_layout()\n",
    "\n",
    "# プロットの表示\n",
    "plt.show()"
   ]
  },
  {
   "cell_type": "code",
   "execution_count": 22,
   "id": "31980885",
   "metadata": {},
   "outputs": [
    {
     "data": {
      "text/plain": [
       "0.3859677412601033"
      ]
     },
     "execution_count": 22,
     "metadata": {},
     "output_type": "execute_result"
    }
   ],
   "source": [
    "evaluate(X_df.columns,X_df,y_df)"
   ]
  },
  {
   "cell_type": "code",
   "execution_count": 23,
   "id": "f4266dd2",
   "metadata": {},
   "outputs": [
    {
     "data": {
      "text/plain": [
       "3151"
      ]
     },
     "execution_count": 23,
     "metadata": {},
     "output_type": "execute_result"
    }
   ],
   "source": [
    "len(model.feature_importance())"
   ]
  },
  {
   "cell_type": "code",
   "execution_count": 24,
   "id": "85b1325a",
   "metadata": {},
   "outputs": [
    {
     "name": "stderr",
     "output_type": "stream",
     "text": [
      "C:\\Users\\ghibl\\AppData\\Local\\Temp\\ipykernel_7056\\3122687559.py:12: RuntimeWarning:\n",
      "\n",
      "invalid value encountered in divide\n",
      "\n",
      "C:\\Users\\ghibl\\AppData\\Local\\Temp\\ipykernel_7056\\3122687559.py:17: FutureWarning:\n",
      "\n",
      "DataFrame.set_axis 'inplace' keyword is deprecated and will be removed in a future version. Use `obj = obj.set_axis(..., copy=False)` instead\n",
      "\n"
     ]
    }
   ],
   "source": [
    "feature_importances = []\n",
    "feature_names = []\n",
    "features_df = pd.DataFrame()\n",
    "for i,model in enumerate(models):\n",
    "    feature_importance = model.feature_importance(importance_type='gain')\n",
    "    feature_importances.append(feature_importance)\n",
    "    features_df[f\"Fold{i+1}\"] = feature_importance\n",
    "feature_name = model.feature_name()\n",
    "feature_importances_array = np.array(feature_importances)\n",
    "mean_importances = np.mean(feature_importances,axis = 0)\n",
    "std_importances = np.std(feature_importances,axis = 0)\n",
    "coefficient_of_variation = std_importances / mean_importances\n",
    "\n",
    "features_df[\"Mean\"] = mean_importances\n",
    "features_df[\"Std\"] = std_importances\n",
    "features_df[\"CV\"] = coefficient_of_variation\n",
    "features_df.set_axis(feature_name,axis = 0, inplace = True)\n"
   ]
  },
  {
   "cell_type": "code",
   "execution_count": 25,
   "id": "11273409",
   "metadata": {},
   "outputs": [
    {
     "data": {
      "text/plain": [
       "1342"
      ]
     },
     "execution_count": 25,
     "metadata": {},
     "output_type": "execute_result"
    }
   ],
   "source": [
    "features_df[\"CV\"].notnull().sum()"
   ]
  },
  {
   "cell_type": "code",
   "execution_count": 26,
   "id": "83f34784",
   "metadata": {},
   "outputs": [],
   "source": [
    "features_df_nonull = features_df.dropna(how = \"any\")"
   ]
  },
  {
   "cell_type": "code",
   "execution_count": 27,
   "id": "95989033",
   "metadata": {
    "scrolled": false
   },
   "outputs": [
    {
     "data": {
      "text/html": [
       "<div>\n",
       "<style scoped>\n",
       "    .dataframe tbody tr th:only-of-type {\n",
       "        vertical-align: middle;\n",
       "    }\n",
       "\n",
       "    .dataframe tbody tr th {\n",
       "        vertical-align: top;\n",
       "    }\n",
       "\n",
       "    .dataframe thead th {\n",
       "        text-align: right;\n",
       "    }\n",
       "</style>\n",
       "<table border=\"1\" class=\"dataframe\">\n",
       "  <thead>\n",
       "    <tr style=\"text-align: right;\">\n",
       "      <th></th>\n",
       "      <th>Fold1</th>\n",
       "      <th>Fold2</th>\n",
       "      <th>Fold3</th>\n",
       "      <th>Fold4</th>\n",
       "      <th>Mean</th>\n",
       "      <th>Std</th>\n",
       "      <th>CV</th>\n",
       "    </tr>\n",
       "  </thead>\n",
       "  <tbody>\n",
       "    <tr>\n",
       "      <th>DU_FR_sum</th>\n",
       "      <td>319.412841</td>\n",
       "      <td>424.188562</td>\n",
       "      <td>475.663838</td>\n",
       "      <td>375.287673</td>\n",
       "      <td>398.638229</td>\n",
       "      <td>57.895756</td>\n",
       "      <td>0.145234</td>\n",
       "    </tr>\n",
       "    <tr>\n",
       "      <th>BQ_DY_mul</th>\n",
       "      <td>32.499933</td>\n",
       "      <td>26.327416</td>\n",
       "      <td>27.277645</td>\n",
       "      <td>10.038857</td>\n",
       "      <td>24.035963</td>\n",
       "      <td>8.416012</td>\n",
       "      <td>0.350142</td>\n",
       "    </tr>\n",
       "    <tr>\n",
       "      <th>AB_AF_mul</th>\n",
       "      <td>18.800375</td>\n",
       "      <td>5.737046</td>\n",
       "      <td>22.489401</td>\n",
       "      <td>14.769663</td>\n",
       "      <td>15.449121</td>\n",
       "      <td>6.236636</td>\n",
       "      <td>0.403689</td>\n",
       "    </tr>\n",
       "    <tr>\n",
       "      <th>CR_DL_mul</th>\n",
       "      <td>27.487558</td>\n",
       "      <td>70.449392</td>\n",
       "      <td>36.422439</td>\n",
       "      <td>20.247628</td>\n",
       "      <td>38.651754</td>\n",
       "      <td>19.231554</td>\n",
       "      <td>0.497560</td>\n",
       "    </tr>\n",
       "    <tr>\n",
       "      <th>BC_FL_sum</th>\n",
       "      <td>17.887690</td>\n",
       "      <td>79.782726</td>\n",
       "      <td>108.735059</td>\n",
       "      <td>164.338527</td>\n",
       "      <td>92.686000</td>\n",
       "      <td>52.803737</td>\n",
       "      <td>0.569706</td>\n",
       "    </tr>\n",
       "    <tr>\n",
       "      <th>BQ_GH_mul</th>\n",
       "      <td>23.119096</td>\n",
       "      <td>17.166317</td>\n",
       "      <td>0.037055</td>\n",
       "      <td>18.172643</td>\n",
       "      <td>14.623778</td>\n",
       "      <td>8.717825</td>\n",
       "      <td>0.596140</td>\n",
       "    </tr>\n",
       "    <tr>\n",
       "      <th>AB_EH_sum</th>\n",
       "      <td>20.614034</td>\n",
       "      <td>32.100254</td>\n",
       "      <td>0.000000</td>\n",
       "      <td>31.592051</td>\n",
       "      <td>21.076585</td>\n",
       "      <td>13.005121</td>\n",
       "      <td>0.617041</td>\n",
       "    </tr>\n",
       "    <tr>\n",
       "      <th>CR_DA_mul</th>\n",
       "      <td>65.499368</td>\n",
       "      <td>39.821721</td>\n",
       "      <td>0.000000</td>\n",
       "      <td>63.617571</td>\n",
       "      <td>42.234665</td>\n",
       "      <td>26.401062</td>\n",
       "      <td>0.625104</td>\n",
       "    </tr>\n",
       "    <tr>\n",
       "      <th>CD_GL_mul</th>\n",
       "      <td>10.165900</td>\n",
       "      <td>17.339835</td>\n",
       "      <td>0.000000</td>\n",
       "      <td>15.319409</td>\n",
       "      <td>10.706286</td>\n",
       "      <td>6.711957</td>\n",
       "      <td>0.626917</td>\n",
       "    </tr>\n",
       "    <tr>\n",
       "      <th>AY_DL_mul</th>\n",
       "      <td>7.505700</td>\n",
       "      <td>10.794710</td>\n",
       "      <td>5.913060</td>\n",
       "      <td>26.304021</td>\n",
       "      <td>12.629373</td>\n",
       "      <td>8.088925</td>\n",
       "      <td>0.640485</td>\n",
       "    </tr>\n",
       "    <tr>\n",
       "      <th>CC_CR_mul</th>\n",
       "      <td>6.593468</td>\n",
       "      <td>3.391514</td>\n",
       "      <td>7.327980</td>\n",
       "      <td>0.000043</td>\n",
       "      <td>4.328251</td>\n",
       "      <td>2.904326</td>\n",
       "      <td>0.671016</td>\n",
       "    </tr>\n",
       "    <tr>\n",
       "      <th>EG_EP_mul</th>\n",
       "      <td>11.649700</td>\n",
       "      <td>17.642940</td>\n",
       "      <td>38.287750</td>\n",
       "      <td>5.488603</td>\n",
       "      <td>18.267248</td>\n",
       "      <td>12.331828</td>\n",
       "      <td>0.675079</td>\n",
       "    </tr>\n",
       "    <tr>\n",
       "      <th>DA_DE_mul</th>\n",
       "      <td>89.292000</td>\n",
       "      <td>0.646086</td>\n",
       "      <td>53.466046</td>\n",
       "      <td>127.794695</td>\n",
       "      <td>67.799707</td>\n",
       "      <td>46.841167</td>\n",
       "      <td>0.690876</td>\n",
       "    </tr>\n",
       "    <tr>\n",
       "      <th>DE_EE_mul</th>\n",
       "      <td>55.758251</td>\n",
       "      <td>2.016140</td>\n",
       "      <td>26.685512</td>\n",
       "      <td>24.489649</td>\n",
       "      <td>27.237388</td>\n",
       "      <td>19.087991</td>\n",
       "      <td>0.700801</td>\n",
       "    </tr>\n",
       "    <tr>\n",
       "      <th>EE_FE_mul</th>\n",
       "      <td>0.000094</td>\n",
       "      <td>0.000000</td>\n",
       "      <td>0.000235</td>\n",
       "      <td>0.000222</td>\n",
       "      <td>0.000138</td>\n",
       "      <td>0.000097</td>\n",
       "      <td>0.701995</td>\n",
       "    </tr>\n",
       "    <tr>\n",
       "      <th>CC_DU_sum</th>\n",
       "      <td>3.331760</td>\n",
       "      <td>8.683531</td>\n",
       "      <td>0.000000</td>\n",
       "      <td>6.843339</td>\n",
       "      <td>4.714657</td>\n",
       "      <td>3.332553</td>\n",
       "      <td>0.706849</td>\n",
       "    </tr>\n",
       "    <tr>\n",
       "      <th>AX_EG_mul</th>\n",
       "      <td>14.381430</td>\n",
       "      <td>25.787900</td>\n",
       "      <td>44.025219</td>\n",
       "      <td>0.276699</td>\n",
       "      <td>21.117812</td>\n",
       "      <td>16.017880</td>\n",
       "      <td>0.758501</td>\n",
       "    </tr>\n",
       "    <tr>\n",
       "      <th>AB_FI_mul</th>\n",
       "      <td>4.566940</td>\n",
       "      <td>1.203760</td>\n",
       "      <td>0.000000</td>\n",
       "      <td>5.298330</td>\n",
       "      <td>2.767257</td>\n",
       "      <td>2.221904</td>\n",
       "      <td>0.802926</td>\n",
       "    </tr>\n",
       "    <tr>\n",
       "      <th>AB_FE_mul</th>\n",
       "      <td>21.897467</td>\n",
       "      <td>20.063209</td>\n",
       "      <td>88.320927</td>\n",
       "      <td>15.348078</td>\n",
       "      <td>36.407421</td>\n",
       "      <td>30.067341</td>\n",
       "      <td>0.825857</td>\n",
       "    </tr>\n",
       "    <tr>\n",
       "      <th>BQ_EL_mul</th>\n",
       "      <td>8.898190</td>\n",
       "      <td>20.717217</td>\n",
       "      <td>1.931080</td>\n",
       "      <td>3.389135</td>\n",
       "      <td>8.733906</td>\n",
       "      <td>7.390395</td>\n",
       "      <td>0.846173</td>\n",
       "    </tr>\n",
       "    <tr>\n",
       "      <th>BQ_DI_sum</th>\n",
       "      <td>5.673667</td>\n",
       "      <td>21.839600</td>\n",
       "      <td>0.000000</td>\n",
       "      <td>9.706271</td>\n",
       "      <td>9.304885</td>\n",
       "      <td>8.016340</td>\n",
       "      <td>0.861520</td>\n",
       "    </tr>\n",
       "    <tr>\n",
       "      <th>AB_GL_mul</th>\n",
       "      <td>15.024259</td>\n",
       "      <td>52.789639</td>\n",
       "      <td>0.000000</td>\n",
       "      <td>19.242926</td>\n",
       "      <td>21.764206</td>\n",
       "      <td>19.287573</td>\n",
       "      <td>0.886206</td>\n",
       "    </tr>\n",
       "    <tr>\n",
       "      <th>DL_EE_mul</th>\n",
       "      <td>0.009408</td>\n",
       "      <td>0.000000</td>\n",
       "      <td>0.001232</td>\n",
       "      <td>0.011004</td>\n",
       "      <td>0.005411</td>\n",
       "      <td>0.004848</td>\n",
       "      <td>0.895929</td>\n",
       "    </tr>\n",
       "    <tr>\n",
       "      <th>AF_DY_mul</th>\n",
       "      <td>2.184200</td>\n",
       "      <td>1.098118</td>\n",
       "      <td>0.000000</td>\n",
       "      <td>0.397744</td>\n",
       "      <td>0.920016</td>\n",
       "      <td>0.829017</td>\n",
       "      <td>0.901091</td>\n",
       "    </tr>\n",
       "    <tr>\n",
       "      <th>AB_EL_mul</th>\n",
       "      <td>62.954986</td>\n",
       "      <td>6.015553</td>\n",
       "      <td>12.357000</td>\n",
       "      <td>122.977599</td>\n",
       "      <td>51.076284</td>\n",
       "      <td>47.012113</td>\n",
       "      <td>0.920429</td>\n",
       "    </tr>\n",
       "    <tr>\n",
       "      <th>AB_DL_mul</th>\n",
       "      <td>0.000087</td>\n",
       "      <td>0.000027</td>\n",
       "      <td>0.000000</td>\n",
       "      <td>0.000023</td>\n",
       "      <td>0.000034</td>\n",
       "      <td>0.000032</td>\n",
       "      <td>0.932173</td>\n",
       "    </tr>\n",
       "    <tr>\n",
       "      <th>AX_GL_mul</th>\n",
       "      <td>0.000000</td>\n",
       "      <td>6.001816</td>\n",
       "      <td>5.634474</td>\n",
       "      <td>0.374353</td>\n",
       "      <td>3.002661</td>\n",
       "      <td>2.821584</td>\n",
       "      <td>0.939695</td>\n",
       "    </tr>\n",
       "    <tr>\n",
       "      <th>BQ_CB_sum</th>\n",
       "      <td>0.000000</td>\n",
       "      <td>0.329644</td>\n",
       "      <td>0.000000</td>\n",
       "      <td>0.333698</td>\n",
       "      <td>0.165836</td>\n",
       "      <td>0.165842</td>\n",
       "      <td>1.000037</td>\n",
       "    </tr>\n",
       "    <tr>\n",
       "      <th>CS_DL_mul</th>\n",
       "      <td>0.000000</td>\n",
       "      <td>4.160404</td>\n",
       "      <td>0.000000</td>\n",
       "      <td>4.055371</td>\n",
       "      <td>2.053944</td>\n",
       "      <td>2.054279</td>\n",
       "      <td>1.000163</td>\n",
       "    </tr>\n",
       "    <tr>\n",
       "      <th>CC_FR_mul</th>\n",
       "      <td>0.000000</td>\n",
       "      <td>1.536410</td>\n",
       "      <td>0.000000</td>\n",
       "      <td>1.602158</td>\n",
       "      <td>0.784642</td>\n",
       "      <td>0.784986</td>\n",
       "      <td>1.000439</td>\n",
       "    </tr>\n",
       "  </tbody>\n",
       "</table>\n",
       "</div>"
      ],
      "text/plain": [
       "                Fold1       Fold2       Fold3       Fold4        Mean  \\\n",
       "DU_FR_sum  319.412841  424.188562  475.663838  375.287673  398.638229   \n",
       "BQ_DY_mul   32.499933   26.327416   27.277645   10.038857   24.035963   \n",
       "AB_AF_mul   18.800375    5.737046   22.489401   14.769663   15.449121   \n",
       "CR_DL_mul   27.487558   70.449392   36.422439   20.247628   38.651754   \n",
       "BC_FL_sum   17.887690   79.782726  108.735059  164.338527   92.686000   \n",
       "BQ_GH_mul   23.119096   17.166317    0.037055   18.172643   14.623778   \n",
       "AB_EH_sum   20.614034   32.100254    0.000000   31.592051   21.076585   \n",
       "CR_DA_mul   65.499368   39.821721    0.000000   63.617571   42.234665   \n",
       "CD_GL_mul   10.165900   17.339835    0.000000   15.319409   10.706286   \n",
       "AY_DL_mul    7.505700   10.794710    5.913060   26.304021   12.629373   \n",
       "CC_CR_mul    6.593468    3.391514    7.327980    0.000043    4.328251   \n",
       "EG_EP_mul   11.649700   17.642940   38.287750    5.488603   18.267248   \n",
       "DA_DE_mul   89.292000    0.646086   53.466046  127.794695   67.799707   \n",
       "DE_EE_mul   55.758251    2.016140   26.685512   24.489649   27.237388   \n",
       "EE_FE_mul    0.000094    0.000000    0.000235    0.000222    0.000138   \n",
       "CC_DU_sum    3.331760    8.683531    0.000000    6.843339    4.714657   \n",
       "AX_EG_mul   14.381430   25.787900   44.025219    0.276699   21.117812   \n",
       "AB_FI_mul    4.566940    1.203760    0.000000    5.298330    2.767257   \n",
       "AB_FE_mul   21.897467   20.063209   88.320927   15.348078   36.407421   \n",
       "BQ_EL_mul    8.898190   20.717217    1.931080    3.389135    8.733906   \n",
       "BQ_DI_sum    5.673667   21.839600    0.000000    9.706271    9.304885   \n",
       "AB_GL_mul   15.024259   52.789639    0.000000   19.242926   21.764206   \n",
       "DL_EE_mul    0.009408    0.000000    0.001232    0.011004    0.005411   \n",
       "AF_DY_mul    2.184200    1.098118    0.000000    0.397744    0.920016   \n",
       "AB_EL_mul   62.954986    6.015553   12.357000  122.977599   51.076284   \n",
       "AB_DL_mul    0.000087    0.000027    0.000000    0.000023    0.000034   \n",
       "AX_GL_mul    0.000000    6.001816    5.634474    0.374353    3.002661   \n",
       "BQ_CB_sum    0.000000    0.329644    0.000000    0.333698    0.165836   \n",
       "CS_DL_mul    0.000000    4.160404    0.000000    4.055371    2.053944   \n",
       "CC_FR_mul    0.000000    1.536410    0.000000    1.602158    0.784642   \n",
       "\n",
       "                 Std        CV  \n",
       "DU_FR_sum  57.895756  0.145234  \n",
       "BQ_DY_mul   8.416012  0.350142  \n",
       "AB_AF_mul   6.236636  0.403689  \n",
       "CR_DL_mul  19.231554  0.497560  \n",
       "BC_FL_sum  52.803737  0.569706  \n",
       "BQ_GH_mul   8.717825  0.596140  \n",
       "AB_EH_sum  13.005121  0.617041  \n",
       "CR_DA_mul  26.401062  0.625104  \n",
       "CD_GL_mul   6.711957  0.626917  \n",
       "AY_DL_mul   8.088925  0.640485  \n",
       "CC_CR_mul   2.904326  0.671016  \n",
       "EG_EP_mul  12.331828  0.675079  \n",
       "DA_DE_mul  46.841167  0.690876  \n",
       "DE_EE_mul  19.087991  0.700801  \n",
       "EE_FE_mul   0.000097  0.701995  \n",
       "CC_DU_sum   3.332553  0.706849  \n",
       "AX_EG_mul  16.017880  0.758501  \n",
       "AB_FI_mul   2.221904  0.802926  \n",
       "AB_FE_mul  30.067341  0.825857  \n",
       "BQ_EL_mul   7.390395  0.846173  \n",
       "BQ_DI_sum   8.016340  0.861520  \n",
       "AB_GL_mul  19.287573  0.886206  \n",
       "DL_EE_mul   0.004848  0.895929  \n",
       "AF_DY_mul   0.829017  0.901091  \n",
       "AB_EL_mul  47.012113  0.920429  \n",
       "AB_DL_mul   0.000032  0.932173  \n",
       "AX_GL_mul   2.821584  0.939695  \n",
       "BQ_CB_sum   0.165842  1.000037  \n",
       "CS_DL_mul   2.054279  1.000163  \n",
       "CC_FR_mul   0.784986  1.000439  "
      ]
     },
     "execution_count": 27,
     "metadata": {},
     "output_type": "execute_result"
    }
   ],
   "source": [
    "features_df_nonull.sort_values(by =\"CV\", ascending = True).head(30)"
   ]
  },
  {
   "cell_type": "code",
   "execution_count": 28,
   "id": "3de0f22f",
   "metadata": {
    "scrolled": true
   },
   "outputs": [
    {
     "data": {
      "text/plain": [
       "1342"
      ]
     },
     "execution_count": 28,
     "metadata": {},
     "output_type": "execute_result"
    }
   ],
   "source": [
    "selected = list(features_df_nonull.index)\n",
    "len(selected)"
   ]
  },
  {
   "cell_type": "code",
   "execution_count": 29,
   "id": "ab8c29c1",
   "metadata": {},
   "outputs": [
    {
     "data": {
      "text/plain": [
       "0.3837436191854227"
      ]
     },
     "execution_count": 29,
     "metadata": {},
     "output_type": "execute_result"
    }
   ],
   "source": [
    "evaluate(selected,X_df,y_df)"
   ]
  },
  {
   "cell_type": "code",
   "execution_count": 41,
   "id": "70dacf70",
   "metadata": {},
   "outputs": [
    {
     "name": "stdout",
     "output_type": "stream",
     "text": [
      "[10]\ttrain's balanced_logloss: 0.35393\tvalid's balanced_logloss: 0.494908\n",
      "[20]\ttrain's balanced_logloss: 0.192145\tvalid's balanced_logloss: 0.383373\n",
      "[30]\ttrain's balanced_logloss: 0.106155\tvalid's balanced_logloss: 0.349127\n",
      "[40]\ttrain's balanced_logloss: 0.0549225\tvalid's balanced_logloss: 0.357168\n",
      "[50]\ttrain's balanced_logloss: 0.029817\tvalid's balanced_logloss: 0.344133\n",
      "[60]\ttrain's balanced_logloss: 0.0156777\tvalid's balanced_logloss: 0.347932\n",
      "[70]\ttrain's balanced_logloss: 0.00837697\tvalid's balanced_logloss: 0.359577\n",
      "balanced_logloss:0.3428\n",
      "[10]\ttrain's balanced_logloss: 0.340819\tvalid's balanced_logloss: 0.438081\n",
      "[20]\ttrain's balanced_logloss: 0.189033\tvalid's balanced_logloss: 0.383351\n",
      "[30]\ttrain's balanced_logloss: 0.106254\tvalid's balanced_logloss: 0.389613\n",
      "[40]\ttrain's balanced_logloss: 0.0586389\tvalid's balanced_logloss: 0.382897\n",
      "[50]\ttrain's balanced_logloss: 0.0312646\tvalid's balanced_logloss: 0.367835\n",
      "[60]\ttrain's balanced_logloss: 0.0167553\tvalid's balanced_logloss: 0.374934\n",
      "[70]\ttrain's balanced_logloss: 0.0089017\tvalid's balanced_logloss: 0.40247\n",
      "balanced_logloss:0.3674\n",
      "[10]\ttrain's balanced_logloss: 0.337247\tvalid's balanced_logloss: 0.551669\n",
      "[20]\ttrain's balanced_logloss: 0.187201\tvalid's balanced_logloss: 0.528564\n",
      "[30]\ttrain's balanced_logloss: 0.102411\tvalid's balanced_logloss: 0.545487\n",
      "balanced_logloss:0.5195\n",
      "[10]\ttrain's balanced_logloss: 0.350797\tvalid's balanced_logloss: 0.428541\n",
      "[20]\ttrain's balanced_logloss: 0.200023\tvalid's balanced_logloss: 0.352083\n",
      "[30]\ttrain's balanced_logloss: 0.112266\tvalid's balanced_logloss: 0.328612\n",
      "[40]\ttrain's balanced_logloss: 0.0601307\tvalid's balanced_logloss: 0.317991\n",
      "[50]\ttrain's balanced_logloss: 0.0327793\tvalid's balanced_logloss: 0.323404\n",
      "[60]\ttrain's balanced_logloss: 0.0176278\tvalid's balanced_logloss: 0.31364\n",
      "[70]\ttrain's balanced_logloss: 0.00919501\tvalid's balanced_logloss: 0.308848\n",
      "[80]\ttrain's balanced_logloss: 0.00466575\tvalid's balanced_logloss: 0.305837\n",
      "[90]\ttrain's balanced_logloss: 0.00255384\tvalid's balanced_logloss: 0.306558\n",
      "balanced_logloss:0.3053\n",
      "0.3837436191854227\n"
     ]
    }
   ],
   "source": [
    "X_df_selected = X_df[selected]\n",
    "scores= []\n",
    "evals_results = []\n",
    "models = []\n",
    "skf = StratifiedKFold(n_splits = 4, shuffle = True, random_state = 42)\n",
    "\n",
    "for tr_idx, va_idx in skf.split(X_df_selected, y_df):\n",
    "    X_train, X_valid = X_df_selected.iloc[tr_idx], X_df_selected.iloc[va_idx]\n",
    "    y_train, y_valid = y_df.iloc[tr_idx], y_df.iloc[va_idx]\n",
    "    \n",
    "    dtrain = lgb.Dataset(X_train, label = y_train)\n",
    "    dvalid = lgb.Dataset(X_valid, label = y_valid)\n",
    "\n",
    "    evals_result = {}\n",
    "    params = {'metric':'custom',\n",
    "              'objective':'custom',\n",
    "              'verbosity':-1,\n",
    "              'random_state' : 42, \n",
    "              'learning_rate': 0.1,\n",
    "              'early_stopping_round':20\n",
    "             }\n",
    "\n",
    "    callbacks = [lgb.early_stopping(20, verbose=0), lgb.log_evaluation(period=10),lgb.record_evaluation(evals_result)]\n",
    "    model = lgb.train(params,\n",
    "                      dtrain, \n",
    "                      num_boost_round = 500,\n",
    "                      valid_sets = [dtrain,dvalid],\n",
    "                      valid_names = ['train','valid'],\n",
    "                      feval = original_balanced_logloss_metric,\n",
    "                      fobj = original_binary_logloss_objective,\n",
    "                      callbacks = callbacks\n",
    "                     )\n",
    "    models.append(model)\n",
    "    evals_results.append(evals_result)\n",
    "    score = model.best_score['valid']['balanced_logloss']\n",
    "    scores.append(score)\n",
    "    print(f'balanced_logloss:{score:.4f}')\n",
    "score_cv = np.mean(scores)\n",
    "print(score_cv)"
   ]
  },
  {
   "cell_type": "code",
   "execution_count": 33,
   "id": "7af3e998",
   "metadata": {},
   "outputs": [
    {
     "data": {
      "application/vnd.plotly.v1+json": {
       "config": {
        "plotlyServerURL": "https://plot.ly"
       },
       "data": [
        {
         "mode": "lines",
         "name": "train",
         "type": "scatter",
         "x": [
          1,
          2,
          3,
          4,
          5,
          6,
          7,
          8,
          9,
          10,
          11,
          12,
          13,
          14,
          15,
          16,
          17,
          18,
          19,
          20,
          21,
          22,
          23,
          24,
          25,
          26,
          27,
          28,
          29,
          30,
          31,
          32,
          33,
          34,
          35,
          36,
          37,
          38,
          39,
          40,
          41,
          42,
          43,
          44,
          45,
          46,
          47,
          48,
          49,
          50,
          51,
          52,
          53,
          54,
          55,
          56,
          57,
          58,
          59,
          60,
          61,
          62,
          63,
          64,
          65,
          66,
          67,
          68,
          69,
          70,
          71,
          72,
          73
         ],
         "xaxis": "x",
         "y": [
          0.6299149442997429,
          0.5829444308837282,
          0.5379171596136704,
          0.5033518294592576,
          0.4733046340294833,
          0.44718505443782175,
          0.42142556837689704,
          0.3971333136245193,
          0.3775676251919055,
          0.3539295646194342,
          0.3289256032384801,
          0.30656088637003714,
          0.2905199700331724,
          0.2732226127875532,
          0.25669254204345543,
          0.24187340846515692,
          0.22864929720696328,
          0.21590764701150433,
          0.2024169042353001,
          0.19214493154945406,
          0.1794015893556779,
          0.16971807523680438,
          0.16011543728902256,
          0.15147810578714482,
          0.14214476292104958,
          0.13552789991410014,
          0.1271685360933401,
          0.11970947152698524,
          0.11257670828336178,
          0.10615475578174247,
          0.09899763105401546,
          0.09265981555275472,
          0.08663066589922942,
          0.08180904351303776,
          0.07754927956806994,
          0.07204467095807639,
          0.06681648503668484,
          0.06269753914920581,
          0.059040967318782396,
          0.05492245352697908,
          0.05157179650032785,
          0.04847254119759073,
          0.04555203634486447,
          0.04279096396166123,
          0.04022739267986972,
          0.03788962770220207,
          0.035994314713328326,
          0.03402907961155588,
          0.032018034469820066,
          0.029816978495348534,
          0.027698086752444985,
          0.026170165672750552,
          0.024645079080944227,
          0.023047441887051923,
          0.02144585478210909,
          0.02044179142349475,
          0.01902341836075478,
          0.017786881051082663,
          0.0167567384712407,
          0.015677726072506074,
          0.014682028020205285,
          0.013752501562619123,
          0.01294786348858373,
          0.012175595772893521,
          0.01136884340544747,
          0.01078193545783247,
          0.010084903740770968,
          0.009486593875622732,
          0.008886542615187046,
          0.008376967599528572,
          0.007818078146451298,
          0.007337063943464261,
          0.006915488706687235
         ],
         "yaxis": "y"
        },
        {
         "mode": "lines",
         "name": "eval",
         "type": "scatter",
         "x": [
          1,
          2,
          3,
          4,
          5,
          6,
          7,
          8,
          9,
          10,
          11,
          12,
          13,
          14,
          15,
          16,
          17,
          18,
          19,
          20,
          21,
          22,
          23,
          24,
          25,
          26,
          27,
          28,
          29,
          30,
          31,
          32,
          33,
          34,
          35,
          36,
          37,
          38,
          39,
          40,
          41,
          42,
          43,
          44,
          45,
          46,
          47,
          48,
          49,
          50,
          51,
          52,
          53,
          54,
          55,
          56,
          57,
          58,
          59,
          60,
          61,
          62,
          63,
          64,
          65,
          66,
          67,
          68,
          69,
          70,
          71,
          72,
          73
         ],
         "xaxis": "x",
         "y": [
          0.6544146736932714,
          0.6203657015708054,
          0.5976319961353067,
          0.5758855289492548,
          0.5495357931754626,
          0.5341452227544574,
          0.5215613583925545,
          0.5115869000112546,
          0.5058049846809243,
          0.4949079229171864,
          0.48510276756489107,
          0.4624256076167601,
          0.4520107137287462,
          0.44146050798993547,
          0.4366451275843811,
          0.4200999471213425,
          0.40417721180200006,
          0.3949160914085943,
          0.38577297158244006,
          0.38337266048897123,
          0.3820069444407046,
          0.3771492086813586,
          0.36953941823042136,
          0.36664167958916705,
          0.3639440607271184,
          0.3582743423870126,
          0.3550456123671677,
          0.35470387419069227,
          0.34953628466660147,
          0.34912716644474906,
          0.3564068409553579,
          0.35467093199391353,
          0.35450333765558883,
          0.3505256502038011,
          0.3470747539779488,
          0.3503402921258557,
          0.3486503885013522,
          0.35125869318849795,
          0.35565301351548984,
          0.3571679835417114,
          0.35347309522141035,
          0.35673061571459774,
          0.3567453214447096,
          0.34755036471802564,
          0.3528660701911613,
          0.3515352778613522,
          0.3489887372839664,
          0.34503116475432616,
          0.3449460181412522,
          0.3441331234506966,
          0.34390090505843,
          0.3429871256761614,
          0.34278918466039887,
          0.34997159702476216,
          0.3509152020399591,
          0.34429626724017093,
          0.3435345857301307,
          0.3444838838604346,
          0.34814008021663584,
          0.3479323230476308,
          0.3477991657522659,
          0.347763496629392,
          0.3451825789513503,
          0.34551909299250005,
          0.34782645425220593,
          0.34804258467269816,
          0.3477680111949957,
          0.35329242323998045,
          0.35812960860561033,
          0.3595767335594117,
          0.36259427801301447,
          0.3667733341608003,
          0.36663630132004643
         ],
         "yaxis": "y"
        },
        {
         "mode": "lines",
         "name": "train",
         "type": "scatter",
         "x": [
          1,
          2,
          3,
          4,
          5,
          6,
          7,
          8,
          9,
          10,
          11,
          12,
          13,
          14,
          15,
          16,
          17,
          18,
          19,
          20,
          21,
          22,
          23,
          24,
          25,
          26,
          27,
          28,
          29,
          30,
          31,
          32,
          33,
          34,
          35,
          36,
          37,
          38,
          39,
          40,
          41,
          42,
          43,
          44,
          45,
          46,
          47,
          48,
          49,
          50,
          51,
          52,
          53,
          54,
          55,
          56,
          57,
          58,
          59,
          60,
          61,
          62,
          63,
          64,
          65,
          66,
          67,
          68,
          69,
          70,
          71
         ],
         "xaxis": "x2",
         "y": [
          0.6386638056510876,
          0.5861193326691376,
          0.5417910665230619,
          0.5001710954202647,
          0.470523757064968,
          0.4349463259481364,
          0.412749758901336,
          0.3890735361266478,
          0.36283323878645957,
          0.34081858991595637,
          0.319342853128516,
          0.3021174197983656,
          0.2879956428843423,
          0.2686318663343785,
          0.25333524017541215,
          0.24204280339272383,
          0.22664108120510798,
          0.21245723779569922,
          0.20025622906262985,
          0.18903276114914733,
          0.18052040842767414,
          0.16979984286671254,
          0.1600240902949485,
          0.15152849346366168,
          0.1433865436781557,
          0.1353641898398635,
          0.12755848388837002,
          0.12044626463987512,
          0.11343865060043991,
          0.10625372729751373,
          0.10057401291764037,
          0.09514067538093549,
          0.08884603212096262,
          0.0838998000988928,
          0.0784834979253733,
          0.07441283123774842,
          0.07085899909237392,
          0.06675139397249986,
          0.06266156746212767,
          0.05863894230452733,
          0.0548785912007797,
          0.05083147945025539,
          0.04781093649978181,
          0.04483806779045612,
          0.042012964999716546,
          0.0396662244516935,
          0.03712366719391158,
          0.03508707155050421,
          0.03322119240606546,
          0.03126459493199132,
          0.02951491266034274,
          0.027674810561688926,
          0.025986543349660423,
          0.024319556951764215,
          0.02313748181810777,
          0.02159762842684478,
          0.020372940017762884,
          0.01885959995509506,
          0.017825119158662014,
          0.016755335402498392,
          0.015520344074236513,
          0.014630088476092309,
          0.013607547738954399,
          0.012834045006615422,
          0.012220611995282897,
          0.011376792334722115,
          0.010737946545924904,
          0.01020737146051729,
          0.009539662131900035,
          0.008901702469887585,
          0.008285973985142704
         ],
         "yaxis": "y2"
        },
        {
         "mode": "lines",
         "name": "eval",
         "type": "scatter",
         "x": [
          1,
          2,
          3,
          4,
          5,
          6,
          7,
          8,
          9,
          10,
          11,
          12,
          13,
          14,
          15,
          16,
          17,
          18,
          19,
          20,
          21,
          22,
          23,
          24,
          25,
          26,
          27,
          28,
          29,
          30,
          31,
          32,
          33,
          34,
          35,
          36,
          37,
          38,
          39,
          40,
          41,
          42,
          43,
          44,
          45,
          46,
          47,
          48,
          49,
          50,
          51,
          52,
          53,
          54,
          55,
          56,
          57,
          58,
          59,
          60,
          61,
          62,
          63,
          64,
          65,
          66,
          67,
          68,
          69,
          70,
          71
         ],
         "xaxis": "x2",
         "y": [
          0.6417982649634344,
          0.5947634577099878,
          0.5631475963293007,
          0.5408699020076367,
          0.5183382863038626,
          0.4992994785834287,
          0.4784357914798427,
          0.46480494099110453,
          0.44783876153027574,
          0.43808132395062227,
          0.4284703228777892,
          0.41943425744406065,
          0.41708050409959013,
          0.4078927534702036,
          0.3944520691175398,
          0.3978158426663732,
          0.395620272143992,
          0.3924649564205972,
          0.38679513543019584,
          0.38335131564228475,
          0.3797612983589099,
          0.3841931371597689,
          0.38407760136583824,
          0.37626692444181564,
          0.3761636158664953,
          0.377786390163832,
          0.3832510945441828,
          0.38239600311821864,
          0.3827382963902032,
          0.3896128874160292,
          0.38972302561308947,
          0.38888278311129076,
          0.38713358232710904,
          0.3898311786104345,
          0.37970802713106044,
          0.3844945453457611,
          0.3822723734505581,
          0.38148407588489663,
          0.3832951109437297,
          0.382896718463243,
          0.3763846859098203,
          0.3745932053379766,
          0.37303142109891463,
          0.37631345212617934,
          0.38009103369902636,
          0.3744049326217296,
          0.37179429701732625,
          0.3733846417269193,
          0.37074115096401167,
          0.36783477324427305,
          0.3674165115828756,
          0.36977007078877117,
          0.3732472794217405,
          0.37506717304166204,
          0.3751873186280362,
          0.3758908480630546,
          0.374454922189551,
          0.3767643150327121,
          0.3741367864671598,
          0.3749340376847886,
          0.37559556596773225,
          0.3777185155653928,
          0.3812175299138254,
          0.3846940533327402,
          0.3864957002276768,
          0.3842382284959519,
          0.39144467065351307,
          0.39672976526677073,
          0.3964323472241149,
          0.4024696835307253,
          0.39463203934602614
         ],
         "yaxis": "y2"
        },
        {
         "mode": "lines",
         "name": "train",
         "type": "scatter",
         "x": [
          1,
          2,
          3,
          4,
          5,
          6,
          7,
          8,
          9,
          10,
          11,
          12,
          13,
          14,
          15,
          16,
          17,
          18,
          19,
          20,
          21,
          22,
          23,
          24,
          25,
          26,
          27,
          28,
          29,
          30,
          31,
          32,
          33,
          34,
          35,
          36,
          37
         ],
         "xaxis": "x3",
         "y": [
          0.6310146892900852,
          0.5800678444287697,
          0.5361603146758629,
          0.4953212230388706,
          0.4625363025968535,
          0.4334355799965481,
          0.4064231166819937,
          0.38229769167855127,
          0.35671887596271157,
          0.33724711760809456,
          0.32047942368497423,
          0.3052058235836509,
          0.2906683758804083,
          0.27243284465600826,
          0.25834311407881205,
          0.24357699056019436,
          0.22914671753657004,
          0.21473924609284953,
          0.20104712122517876,
          0.18720073986361982,
          0.17885910335388355,
          0.16850922048780026,
          0.15709360620796986,
          0.14931445827577716,
          0.13981538374094638,
          0.13141278602424802,
          0.12433166337807157,
          0.11647719693698572,
          0.1091191522040707,
          0.10241096185784444,
          0.09662661782987578,
          0.09041732984609485,
          0.08438916010905381,
          0.07872578918746606,
          0.0752916756851224,
          0.0715732823134409,
          0.06735809361904703
         ],
         "yaxis": "y3"
        },
        {
         "mode": "lines",
         "name": "eval",
         "type": "scatter",
         "x": [
          1,
          2,
          3,
          4,
          5,
          6,
          7,
          8,
          9,
          10,
          11,
          12,
          13,
          14,
          15,
          16,
          17,
          18,
          19,
          20,
          21,
          22,
          23,
          24,
          25,
          26,
          27,
          28,
          29,
          30,
          31,
          32,
          33,
          34,
          35,
          36,
          37
         ],
         "xaxis": "x3",
         "y": [
          0.6642259453080475,
          0.6372087845513315,
          0.6182494146299067,
          0.597852045823027,
          0.5836943262129722,
          0.5744522553652316,
          0.5666550647504913,
          0.5614176780362018,
          0.5575044568590801,
          0.55166899659242,
          0.5488367616318041,
          0.543383607565662,
          0.538513226097497,
          0.5364399860217166,
          0.530956348631092,
          0.5236724069493266,
          0.5194797496295518,
          0.5206850696623362,
          0.5238536392049279,
          0.5285638246795895,
          0.5268848819456038,
          0.5271592717475907,
          0.5266259261147661,
          0.5282947341408744,
          0.5305508603937534,
          0.5337972624076224,
          0.5347151036107267,
          0.5356114230026562,
          0.5416313631855216,
          0.5454868281229464,
          0.5484505172039733,
          0.5492374149898023,
          0.5545987892526016,
          0.5558882301992395,
          0.5583628140829088,
          0.564282436888732,
          0.5620369148463362
         ],
         "yaxis": "y3"
        },
        {
         "mode": "lines",
         "name": "train",
         "type": "scatter",
         "x": [
          1,
          2,
          3,
          4,
          5,
          6,
          7,
          8,
          9,
          10,
          11,
          12,
          13,
          14,
          15,
          16,
          17,
          18,
          19,
          20,
          21,
          22,
          23,
          24,
          25,
          26,
          27,
          28,
          29,
          30,
          31,
          32,
          33,
          34,
          35,
          36,
          37,
          38,
          39,
          40,
          41,
          42,
          43,
          44,
          45,
          46,
          47,
          48,
          49,
          50,
          51,
          52,
          53,
          54,
          55,
          56,
          57,
          58,
          59,
          60,
          61,
          62,
          63,
          64,
          65,
          66,
          67,
          68,
          69,
          70,
          71,
          72,
          73,
          74,
          75,
          76,
          77,
          78,
          79,
          80,
          81,
          82,
          83,
          84,
          85,
          86,
          87,
          88,
          89,
          90,
          91,
          92,
          93,
          94,
          95,
          96,
          97,
          98,
          99
         ],
         "xaxis": "x4",
         "y": [
          0.6344084219433285,
          0.5864814446071906,
          0.5461547036802701,
          0.5015578530389008,
          0.46921766265351705,
          0.4439750654558292,
          0.41889323458313676,
          0.3954883569101618,
          0.36805492564546816,
          0.35079662925946675,
          0.3303266934172011,
          0.3082167843592698,
          0.2953853933432158,
          0.2778356274597922,
          0.26210151543069654,
          0.2502678604717249,
          0.23804960724760155,
          0.226035387822464,
          0.21213486396670767,
          0.2000226959462299,
          0.18907091400913267,
          0.18176546462045368,
          0.17283457288550214,
          0.16200268111552799,
          0.15083399934030367,
          0.14338126501301102,
          0.1347768752247374,
          0.12611674339964662,
          0.11914642718486193,
          0.11226613644516908,
          0.10596943286115024,
          0.09928784180436842,
          0.09364059590678003,
          0.08714040212285236,
          0.08222075827887723,
          0.07719685049778949,
          0.07245627327539887,
          0.06801997648927194,
          0.06437270817513398,
          0.060130698851518075,
          0.05664056484429093,
          0.05358654416720881,
          0.05045029538275419,
          0.04751897537582797,
          0.044740294550655695,
          0.04241018492566581,
          0.039542743628028294,
          0.03728385748725087,
          0.03484596334659337,
          0.032779309784947294,
          0.030728230238993418,
          0.02901328806187353,
          0.0272276577616258,
          0.025536529247555357,
          0.024367319110299452,
          0.022876043810982516,
          0.02133055414779801,
          0.02001914920250982,
          0.018798613734541374,
          0.017627782242455536,
          0.01656779581988016,
          0.015430875747958407,
          0.014478641533532885,
          0.013533802993017702,
          0.012740864197053345,
          0.012042742466057507,
          0.011226760106871313,
          0.010454941043909729,
          0.009739523480251942,
          0.00919501406380882,
          0.008644076343860625,
          0.008169462941382646,
          0.007570573977400021,
          0.007113299866064999,
          0.006678248627317543,
          0.006139035620803956,
          0.005712855323546909,
          0.00530608573740943,
          0.004955722614106005,
          0.004665750249671925,
          0.00439151443594402,
          0.004137009581063053,
          0.0038927477893378444,
          0.003655960147806457,
          0.0034662955780508714,
          0.003245804752055579,
          0.0030485379479495184,
          0.002844119666752281,
          0.002708567182113612,
          0.002553838704103706,
          0.0024083130743553683,
          0.002252126044327483,
          0.002108269639253135,
          0.0019841842681043846,
          0.0018523287400304001,
          0.0017512341958597255,
          0.0016248428285946756,
          0.0015396472774418387,
          0.0014394786138858158
         ],
         "yaxis": "y4"
        },
        {
         "mode": "lines",
         "name": "eval",
         "type": "scatter",
         "x": [
          1,
          2,
          3,
          4,
          5,
          6,
          7,
          8,
          9,
          10,
          11,
          12,
          13,
          14,
          15,
          16,
          17,
          18,
          19,
          20,
          21,
          22,
          23,
          24,
          25,
          26,
          27,
          28,
          29,
          30,
          31,
          32,
          33,
          34,
          35,
          36,
          37,
          38,
          39,
          40,
          41,
          42,
          43,
          44,
          45,
          46,
          47,
          48,
          49,
          50,
          51,
          52,
          53,
          54,
          55,
          56,
          57,
          58,
          59,
          60,
          61,
          62,
          63,
          64,
          65,
          66,
          67,
          68,
          69,
          70,
          71,
          72,
          73,
          74,
          75,
          76,
          77,
          78,
          79,
          80,
          81,
          82,
          83,
          84,
          85,
          86,
          87,
          88,
          89,
          90,
          91,
          92,
          93,
          94,
          95,
          96,
          97,
          98,
          99
         ],
         "xaxis": "x4",
         "y": [
          0.6476108337217301,
          0.6087864345646428,
          0.5794913748940809,
          0.537562894710476,
          0.5132220618645441,
          0.48994542063106306,
          0.47079637288549125,
          0.457084511220776,
          0.439790724847406,
          0.42854107313617873,
          0.4207589844402442,
          0.4051924968135129,
          0.40088271917933305,
          0.39532076705862407,
          0.3901918194827495,
          0.38331039007511264,
          0.37791709709775945,
          0.37043244728400904,
          0.35700341777145245,
          0.35208327812233475,
          0.34695804734457947,
          0.3430138529529382,
          0.3378388691883075,
          0.3366174116835694,
          0.33859199934362555,
          0.33783086266711027,
          0.3317803830512758,
          0.33046578326748444,
          0.330243259788742,
          0.32861204482204176,
          0.33009948920617815,
          0.32468755056511195,
          0.32375586059507167,
          0.32332104820942187,
          0.3198609436897337,
          0.32285623098700206,
          0.3179506236015843,
          0.32177886024092694,
          0.31832652557957697,
          0.31799116775221403,
          0.31564336144899574,
          0.3186663327313356,
          0.31857660873271587,
          0.32260714540516355,
          0.31932435926080377,
          0.32356713107494384,
          0.3199842790566556,
          0.31982719243097857,
          0.3268582453023927,
          0.32340375224137136,
          0.3197105485957388,
          0.3220404944824309,
          0.3222024058429547,
          0.3239560909663298,
          0.32048773499887284,
          0.3210632805648085,
          0.3200471958531742,
          0.3162669280924293,
          0.311547606298291,
          0.31364045852271033,
          0.3182778464245339,
          0.31134211239123155,
          0.3165623241864917,
          0.3155585605337933,
          0.31471343905415017,
          0.3117083753626173,
          0.31353893544791456,
          0.30875905575414964,
          0.3060066375906298,
          0.30884779278704766,
          0.3100449126115219,
          0.3149406176240878,
          0.3102453966323052,
          0.3127097265858835,
          0.3102487096008132,
          0.30955013562281947,
          0.30966140416142157,
          0.3077971191964208,
          0.3052890308688648,
          0.305836668210097,
          0.3121033645639601,
          0.30935145607797543,
          0.3129586413600662,
          0.3136776032482591,
          0.3195657937013191,
          0.3167618276185606,
          0.3144729503140903,
          0.30924984777978737,
          0.30739851841662513,
          0.3065576811144191,
          0.3120751049732906,
          0.3112255047263643,
          0.30905522321993306,
          0.31188066275389587,
          0.30964330907385323,
          0.3114624979531966,
          0.30983856915921915,
          0.30833293997130407,
          0.3056101627259463
         ],
         "yaxis": "y4"
        }
       ],
       "layout": {
        "annotations": [
         {
          "font": {
           "size": 16
          },
          "showarrow": false,
          "text": "fold1",
          "x": 0.225,
          "xanchor": "center",
          "xref": "paper",
          "y": 1,
          "yanchor": "bottom",
          "yref": "paper"
         },
         {
          "font": {
           "size": 16
          },
          "showarrow": false,
          "text": "fold2",
          "x": 0.775,
          "xanchor": "center",
          "xref": "paper",
          "y": 1,
          "yanchor": "bottom",
          "yref": "paper"
         },
         {
          "font": {
           "size": 16
          },
          "showarrow": false,
          "text": "fold3",
          "x": 0.225,
          "xanchor": "center",
          "xref": "paper",
          "y": 0.375,
          "yanchor": "bottom",
          "yref": "paper"
         },
         {
          "font": {
           "size": 16
          },
          "showarrow": false,
          "text": "fold4",
          "x": 0.775,
          "xanchor": "center",
          "xref": "paper",
          "y": 0.375,
          "yanchor": "bottom",
          "yref": "paper"
         }
        ],
        "template": {
         "data": {
          "bar": [
           {
            "error_x": {
             "color": "#2a3f5f"
            },
            "error_y": {
             "color": "#2a3f5f"
            },
            "marker": {
             "line": {
              "color": "#E5ECF6",
              "width": 0.5
             },
             "pattern": {
              "fillmode": "overlay",
              "size": 10,
              "solidity": 0.2
             }
            },
            "type": "bar"
           }
          ],
          "barpolar": [
           {
            "marker": {
             "line": {
              "color": "#E5ECF6",
              "width": 0.5
             },
             "pattern": {
              "fillmode": "overlay",
              "size": 10,
              "solidity": 0.2
             }
            },
            "type": "barpolar"
           }
          ],
          "carpet": [
           {
            "aaxis": {
             "endlinecolor": "#2a3f5f",
             "gridcolor": "white",
             "linecolor": "white",
             "minorgridcolor": "white",
             "startlinecolor": "#2a3f5f"
            },
            "baxis": {
             "endlinecolor": "#2a3f5f",
             "gridcolor": "white",
             "linecolor": "white",
             "minorgridcolor": "white",
             "startlinecolor": "#2a3f5f"
            },
            "type": "carpet"
           }
          ],
          "choropleth": [
           {
            "colorbar": {
             "outlinewidth": 0,
             "ticks": ""
            },
            "type": "choropleth"
           }
          ],
          "contour": [
           {
            "colorbar": {
             "outlinewidth": 0,
             "ticks": ""
            },
            "colorscale": [
             [
              0,
              "#0d0887"
             ],
             [
              0.1111111111111111,
              "#46039f"
             ],
             [
              0.2222222222222222,
              "#7201a8"
             ],
             [
              0.3333333333333333,
              "#9c179e"
             ],
             [
              0.4444444444444444,
              "#bd3786"
             ],
             [
              0.5555555555555556,
              "#d8576b"
             ],
             [
              0.6666666666666666,
              "#ed7953"
             ],
             [
              0.7777777777777778,
              "#fb9f3a"
             ],
             [
              0.8888888888888888,
              "#fdca26"
             ],
             [
              1,
              "#f0f921"
             ]
            ],
            "type": "contour"
           }
          ],
          "contourcarpet": [
           {
            "colorbar": {
             "outlinewidth": 0,
             "ticks": ""
            },
            "type": "contourcarpet"
           }
          ],
          "heatmap": [
           {
            "colorbar": {
             "outlinewidth": 0,
             "ticks": ""
            },
            "colorscale": [
             [
              0,
              "#0d0887"
             ],
             [
              0.1111111111111111,
              "#46039f"
             ],
             [
              0.2222222222222222,
              "#7201a8"
             ],
             [
              0.3333333333333333,
              "#9c179e"
             ],
             [
              0.4444444444444444,
              "#bd3786"
             ],
             [
              0.5555555555555556,
              "#d8576b"
             ],
             [
              0.6666666666666666,
              "#ed7953"
             ],
             [
              0.7777777777777778,
              "#fb9f3a"
             ],
             [
              0.8888888888888888,
              "#fdca26"
             ],
             [
              1,
              "#f0f921"
             ]
            ],
            "type": "heatmap"
           }
          ],
          "heatmapgl": [
           {
            "colorbar": {
             "outlinewidth": 0,
             "ticks": ""
            },
            "colorscale": [
             [
              0,
              "#0d0887"
             ],
             [
              0.1111111111111111,
              "#46039f"
             ],
             [
              0.2222222222222222,
              "#7201a8"
             ],
             [
              0.3333333333333333,
              "#9c179e"
             ],
             [
              0.4444444444444444,
              "#bd3786"
             ],
             [
              0.5555555555555556,
              "#d8576b"
             ],
             [
              0.6666666666666666,
              "#ed7953"
             ],
             [
              0.7777777777777778,
              "#fb9f3a"
             ],
             [
              0.8888888888888888,
              "#fdca26"
             ],
             [
              1,
              "#f0f921"
             ]
            ],
            "type": "heatmapgl"
           }
          ],
          "histogram": [
           {
            "marker": {
             "pattern": {
              "fillmode": "overlay",
              "size": 10,
              "solidity": 0.2
             }
            },
            "type": "histogram"
           }
          ],
          "histogram2d": [
           {
            "colorbar": {
             "outlinewidth": 0,
             "ticks": ""
            },
            "colorscale": [
             [
              0,
              "#0d0887"
             ],
             [
              0.1111111111111111,
              "#46039f"
             ],
             [
              0.2222222222222222,
              "#7201a8"
             ],
             [
              0.3333333333333333,
              "#9c179e"
             ],
             [
              0.4444444444444444,
              "#bd3786"
             ],
             [
              0.5555555555555556,
              "#d8576b"
             ],
             [
              0.6666666666666666,
              "#ed7953"
             ],
             [
              0.7777777777777778,
              "#fb9f3a"
             ],
             [
              0.8888888888888888,
              "#fdca26"
             ],
             [
              1,
              "#f0f921"
             ]
            ],
            "type": "histogram2d"
           }
          ],
          "histogram2dcontour": [
           {
            "colorbar": {
             "outlinewidth": 0,
             "ticks": ""
            },
            "colorscale": [
             [
              0,
              "#0d0887"
             ],
             [
              0.1111111111111111,
              "#46039f"
             ],
             [
              0.2222222222222222,
              "#7201a8"
             ],
             [
              0.3333333333333333,
              "#9c179e"
             ],
             [
              0.4444444444444444,
              "#bd3786"
             ],
             [
              0.5555555555555556,
              "#d8576b"
             ],
             [
              0.6666666666666666,
              "#ed7953"
             ],
             [
              0.7777777777777778,
              "#fb9f3a"
             ],
             [
              0.8888888888888888,
              "#fdca26"
             ],
             [
              1,
              "#f0f921"
             ]
            ],
            "type": "histogram2dcontour"
           }
          ],
          "mesh3d": [
           {
            "colorbar": {
             "outlinewidth": 0,
             "ticks": ""
            },
            "type": "mesh3d"
           }
          ],
          "parcoords": [
           {
            "line": {
             "colorbar": {
              "outlinewidth": 0,
              "ticks": ""
             }
            },
            "type": "parcoords"
           }
          ],
          "pie": [
           {
            "automargin": true,
            "type": "pie"
           }
          ],
          "scatter": [
           {
            "fillpattern": {
             "fillmode": "overlay",
             "size": 10,
             "solidity": 0.2
            },
            "type": "scatter"
           }
          ],
          "scatter3d": [
           {
            "line": {
             "colorbar": {
              "outlinewidth": 0,
              "ticks": ""
             }
            },
            "marker": {
             "colorbar": {
              "outlinewidth": 0,
              "ticks": ""
             }
            },
            "type": "scatter3d"
           }
          ],
          "scattercarpet": [
           {
            "marker": {
             "colorbar": {
              "outlinewidth": 0,
              "ticks": ""
             }
            },
            "type": "scattercarpet"
           }
          ],
          "scattergeo": [
           {
            "marker": {
             "colorbar": {
              "outlinewidth": 0,
              "ticks": ""
             }
            },
            "type": "scattergeo"
           }
          ],
          "scattergl": [
           {
            "marker": {
             "colorbar": {
              "outlinewidth": 0,
              "ticks": ""
             }
            },
            "type": "scattergl"
           }
          ],
          "scattermapbox": [
           {
            "marker": {
             "colorbar": {
              "outlinewidth": 0,
              "ticks": ""
             }
            },
            "type": "scattermapbox"
           }
          ],
          "scatterpolar": [
           {
            "marker": {
             "colorbar": {
              "outlinewidth": 0,
              "ticks": ""
             }
            },
            "type": "scatterpolar"
           }
          ],
          "scatterpolargl": [
           {
            "marker": {
             "colorbar": {
              "outlinewidth": 0,
              "ticks": ""
             }
            },
            "type": "scatterpolargl"
           }
          ],
          "scatterternary": [
           {
            "marker": {
             "colorbar": {
              "outlinewidth": 0,
              "ticks": ""
             }
            },
            "type": "scatterternary"
           }
          ],
          "surface": [
           {
            "colorbar": {
             "outlinewidth": 0,
             "ticks": ""
            },
            "colorscale": [
             [
              0,
              "#0d0887"
             ],
             [
              0.1111111111111111,
              "#46039f"
             ],
             [
              0.2222222222222222,
              "#7201a8"
             ],
             [
              0.3333333333333333,
              "#9c179e"
             ],
             [
              0.4444444444444444,
              "#bd3786"
             ],
             [
              0.5555555555555556,
              "#d8576b"
             ],
             [
              0.6666666666666666,
              "#ed7953"
             ],
             [
              0.7777777777777778,
              "#fb9f3a"
             ],
             [
              0.8888888888888888,
              "#fdca26"
             ],
             [
              1,
              "#f0f921"
             ]
            ],
            "type": "surface"
           }
          ],
          "table": [
           {
            "cells": {
             "fill": {
              "color": "#EBF0F8"
             },
             "line": {
              "color": "white"
             }
            },
            "header": {
             "fill": {
              "color": "#C8D4E3"
             },
             "line": {
              "color": "white"
             }
            },
            "type": "table"
           }
          ]
         },
         "layout": {
          "annotationdefaults": {
           "arrowcolor": "#2a3f5f",
           "arrowhead": 0,
           "arrowwidth": 1
          },
          "autotypenumbers": "strict",
          "coloraxis": {
           "colorbar": {
            "outlinewidth": 0,
            "ticks": ""
           }
          },
          "colorscale": {
           "diverging": [
            [
             0,
             "#8e0152"
            ],
            [
             0.1,
             "#c51b7d"
            ],
            [
             0.2,
             "#de77ae"
            ],
            [
             0.3,
             "#f1b6da"
            ],
            [
             0.4,
             "#fde0ef"
            ],
            [
             0.5,
             "#f7f7f7"
            ],
            [
             0.6,
             "#e6f5d0"
            ],
            [
             0.7,
             "#b8e186"
            ],
            [
             0.8,
             "#7fbc41"
            ],
            [
             0.9,
             "#4d9221"
            ],
            [
             1,
             "#276419"
            ]
           ],
           "sequential": [
            [
             0,
             "#0d0887"
            ],
            [
             0.1111111111111111,
             "#46039f"
            ],
            [
             0.2222222222222222,
             "#7201a8"
            ],
            [
             0.3333333333333333,
             "#9c179e"
            ],
            [
             0.4444444444444444,
             "#bd3786"
            ],
            [
             0.5555555555555556,
             "#d8576b"
            ],
            [
             0.6666666666666666,
             "#ed7953"
            ],
            [
             0.7777777777777778,
             "#fb9f3a"
            ],
            [
             0.8888888888888888,
             "#fdca26"
            ],
            [
             1,
             "#f0f921"
            ]
           ],
           "sequentialminus": [
            [
             0,
             "#0d0887"
            ],
            [
             0.1111111111111111,
             "#46039f"
            ],
            [
             0.2222222222222222,
             "#7201a8"
            ],
            [
             0.3333333333333333,
             "#9c179e"
            ],
            [
             0.4444444444444444,
             "#bd3786"
            ],
            [
             0.5555555555555556,
             "#d8576b"
            ],
            [
             0.6666666666666666,
             "#ed7953"
            ],
            [
             0.7777777777777778,
             "#fb9f3a"
            ],
            [
             0.8888888888888888,
             "#fdca26"
            ],
            [
             1,
             "#f0f921"
            ]
           ]
          },
          "colorway": [
           "#636efa",
           "#EF553B",
           "#00cc96",
           "#ab63fa",
           "#FFA15A",
           "#19d3f3",
           "#FF6692",
           "#B6E880",
           "#FF97FF",
           "#FECB52"
          ],
          "font": {
           "color": "#2a3f5f"
          },
          "geo": {
           "bgcolor": "white",
           "lakecolor": "white",
           "landcolor": "#E5ECF6",
           "showlakes": true,
           "showland": true,
           "subunitcolor": "white"
          },
          "hoverlabel": {
           "align": "left"
          },
          "hovermode": "closest",
          "mapbox": {
           "style": "light"
          },
          "paper_bgcolor": "white",
          "plot_bgcolor": "#E5ECF6",
          "polar": {
           "angularaxis": {
            "gridcolor": "white",
            "linecolor": "white",
            "ticks": ""
           },
           "bgcolor": "#E5ECF6",
           "radialaxis": {
            "gridcolor": "white",
            "linecolor": "white",
            "ticks": ""
           }
          },
          "scene": {
           "xaxis": {
            "backgroundcolor": "#E5ECF6",
            "gridcolor": "white",
            "gridwidth": 2,
            "linecolor": "white",
            "showbackground": true,
            "ticks": "",
            "zerolinecolor": "white"
           },
           "yaxis": {
            "backgroundcolor": "#E5ECF6",
            "gridcolor": "white",
            "gridwidth": 2,
            "linecolor": "white",
            "showbackground": true,
            "ticks": "",
            "zerolinecolor": "white"
           },
           "zaxis": {
            "backgroundcolor": "#E5ECF6",
            "gridcolor": "white",
            "gridwidth": 2,
            "linecolor": "white",
            "showbackground": true,
            "ticks": "",
            "zerolinecolor": "white"
           }
          },
          "shapedefaults": {
           "line": {
            "color": "#2a3f5f"
           }
          },
          "ternary": {
           "aaxis": {
            "gridcolor": "white",
            "linecolor": "white",
            "ticks": ""
           },
           "baxis": {
            "gridcolor": "white",
            "linecolor": "white",
            "ticks": ""
           },
           "bgcolor": "#E5ECF6",
           "caxis": {
            "gridcolor": "white",
            "linecolor": "white",
            "ticks": ""
           }
          },
          "title": {
           "x": 0.05
          },
          "xaxis": {
           "automargin": true,
           "gridcolor": "white",
           "linecolor": "white",
           "ticks": "",
           "title": {
            "standoff": 15
           },
           "zerolinecolor": "white",
           "zerolinewidth": 2
          },
          "yaxis": {
           "automargin": true,
           "gridcolor": "white",
           "linecolor": "white",
           "ticks": "",
           "title": {
            "standoff": 15
           },
           "zerolinecolor": "white",
           "zerolinewidth": 2
          }
         }
        },
        "title": {
         "text": "fold1, fold2, fold3, fold4"
        },
        "xaxis": {
         "anchor": "y",
         "domain": [
          0,
          0.45
         ]
        },
        "xaxis2": {
         "anchor": "y2",
         "domain": [
          0.55,
          1
         ]
        },
        "xaxis3": {
         "anchor": "y3",
         "domain": [
          0,
          0.45
         ]
        },
        "xaxis4": {
         "anchor": "y4",
         "domain": [
          0.55,
          1
         ]
        },
        "yaxis": {
         "anchor": "x",
         "domain": [
          0.625,
          1
         ]
        },
        "yaxis2": {
         "anchor": "x2",
         "domain": [
          0.625,
          1
         ]
        },
        "yaxis3": {
         "anchor": "x3",
         "domain": [
          0,
          0.375
         ]
        },
        "yaxis4": {
         "anchor": "x4",
         "domain": [
          0,
          0.375
         ]
        }
       }
      },
      "text/html": [
       "<div>                            <div id=\"cf64d1f9-92e0-4c38-8d1f-6558b541f68e\" class=\"plotly-graph-div\" style=\"height:525px; width:100%;\"></div>            <script type=\"text/javascript\">                require([\"plotly\"], function(Plotly) {                    window.PLOTLYENV=window.PLOTLYENV || {};                                    if (document.getElementById(\"cf64d1f9-92e0-4c38-8d1f-6558b541f68e\")) {                    Plotly.newPlot(                        \"cf64d1f9-92e0-4c38-8d1f-6558b541f68e\",                        [{\"mode\":\"lines\",\"name\":\"train\",\"x\":[1,2,3,4,5,6,7,8,9,10,11,12,13,14,15,16,17,18,19,20,21,22,23,24,25,26,27,28,29,30,31,32,33,34,35,36,37,38,39,40,41,42,43,44,45,46,47,48,49,50,51,52,53,54,55,56,57,58,59,60,61,62,63,64,65,66,67,68,69,70,71,72,73],\"y\":[0.6299149442997429,0.5829444308837282,0.5379171596136704,0.5033518294592576,0.4733046340294833,0.44718505443782175,0.42142556837689704,0.3971333136245193,0.3775676251919055,0.3539295646194342,0.3289256032384801,0.30656088637003714,0.2905199700331724,0.2732226127875532,0.25669254204345543,0.24187340846515692,0.22864929720696328,0.21590764701150433,0.2024169042353001,0.19214493154945406,0.1794015893556779,0.16971807523680438,0.16011543728902256,0.15147810578714482,0.14214476292104958,0.13552789991410014,0.1271685360933401,0.11970947152698524,0.11257670828336178,0.10615475578174247,0.09899763105401546,0.09265981555275472,0.08663066589922942,0.08180904351303776,0.07754927956806994,0.07204467095807639,0.06681648503668484,0.06269753914920581,0.059040967318782396,0.05492245352697908,0.05157179650032785,0.04847254119759073,0.04555203634486447,0.04279096396166123,0.04022739267986972,0.03788962770220207,0.035994314713328326,0.03402907961155588,0.032018034469820066,0.029816978495348534,0.027698086752444985,0.026170165672750552,0.024645079080944227,0.023047441887051923,0.02144585478210909,0.02044179142349475,0.01902341836075478,0.017786881051082663,0.0167567384712407,0.015677726072506074,0.014682028020205285,0.013752501562619123,0.01294786348858373,0.012175595772893521,0.01136884340544747,0.01078193545783247,0.010084903740770968,0.009486593875622732,0.008886542615187046,0.008376967599528572,0.007818078146451298,0.007337063943464261,0.006915488706687235],\"type\":\"scatter\",\"xaxis\":\"x\",\"yaxis\":\"y\"},{\"mode\":\"lines\",\"name\":\"eval\",\"x\":[1,2,3,4,5,6,7,8,9,10,11,12,13,14,15,16,17,18,19,20,21,22,23,24,25,26,27,28,29,30,31,32,33,34,35,36,37,38,39,40,41,42,43,44,45,46,47,48,49,50,51,52,53,54,55,56,57,58,59,60,61,62,63,64,65,66,67,68,69,70,71,72,73],\"y\":[0.6544146736932714,0.6203657015708054,0.5976319961353067,0.5758855289492548,0.5495357931754626,0.5341452227544574,0.5215613583925545,0.5115869000112546,0.5058049846809243,0.4949079229171864,0.48510276756489107,0.4624256076167601,0.4520107137287462,0.44146050798993547,0.4366451275843811,0.4200999471213425,0.40417721180200006,0.3949160914085943,0.38577297158244006,0.38337266048897123,0.3820069444407046,0.3771492086813586,0.36953941823042136,0.36664167958916705,0.3639440607271184,0.3582743423870126,0.3550456123671677,0.35470387419069227,0.34953628466660147,0.34912716644474906,0.3564068409553579,0.35467093199391353,0.35450333765558883,0.3505256502038011,0.3470747539779488,0.3503402921258557,0.3486503885013522,0.35125869318849795,0.35565301351548984,0.3571679835417114,0.35347309522141035,0.35673061571459774,0.3567453214447096,0.34755036471802564,0.3528660701911613,0.3515352778613522,0.3489887372839664,0.34503116475432616,0.3449460181412522,0.3441331234506966,0.34390090505843,0.3429871256761614,0.34278918466039887,0.34997159702476216,0.3509152020399591,0.34429626724017093,0.3435345857301307,0.3444838838604346,0.34814008021663584,0.3479323230476308,0.3477991657522659,0.347763496629392,0.3451825789513503,0.34551909299250005,0.34782645425220593,0.34804258467269816,0.3477680111949957,0.35329242323998045,0.35812960860561033,0.3595767335594117,0.36259427801301447,0.3667733341608003,0.36663630132004643],\"type\":\"scatter\",\"xaxis\":\"x\",\"yaxis\":\"y\"},{\"mode\":\"lines\",\"name\":\"train\",\"x\":[1,2,3,4,5,6,7,8,9,10,11,12,13,14,15,16,17,18,19,20,21,22,23,24,25,26,27,28,29,30,31,32,33,34,35,36,37,38,39,40,41,42,43,44,45,46,47,48,49,50,51,52,53,54,55,56,57,58,59,60,61,62,63,64,65,66,67,68,69,70,71],\"y\":[0.6386638056510876,0.5861193326691376,0.5417910665230619,0.5001710954202647,0.470523757064968,0.4349463259481364,0.412749758901336,0.3890735361266478,0.36283323878645957,0.34081858991595637,0.319342853128516,0.3021174197983656,0.2879956428843423,0.2686318663343785,0.25333524017541215,0.24204280339272383,0.22664108120510798,0.21245723779569922,0.20025622906262985,0.18903276114914733,0.18052040842767414,0.16979984286671254,0.1600240902949485,0.15152849346366168,0.1433865436781557,0.1353641898398635,0.12755848388837002,0.12044626463987512,0.11343865060043991,0.10625372729751373,0.10057401291764037,0.09514067538093549,0.08884603212096262,0.0838998000988928,0.0784834979253733,0.07441283123774842,0.07085899909237392,0.06675139397249986,0.06266156746212767,0.05863894230452733,0.0548785912007797,0.05083147945025539,0.04781093649978181,0.04483806779045612,0.042012964999716546,0.0396662244516935,0.03712366719391158,0.03508707155050421,0.03322119240606546,0.03126459493199132,0.02951491266034274,0.027674810561688926,0.025986543349660423,0.024319556951764215,0.02313748181810777,0.02159762842684478,0.020372940017762884,0.01885959995509506,0.017825119158662014,0.016755335402498392,0.015520344074236513,0.014630088476092309,0.013607547738954399,0.012834045006615422,0.012220611995282897,0.011376792334722115,0.010737946545924904,0.01020737146051729,0.009539662131900035,0.008901702469887585,0.008285973985142704],\"type\":\"scatter\",\"xaxis\":\"x2\",\"yaxis\":\"y2\"},{\"mode\":\"lines\",\"name\":\"eval\",\"x\":[1,2,3,4,5,6,7,8,9,10,11,12,13,14,15,16,17,18,19,20,21,22,23,24,25,26,27,28,29,30,31,32,33,34,35,36,37,38,39,40,41,42,43,44,45,46,47,48,49,50,51,52,53,54,55,56,57,58,59,60,61,62,63,64,65,66,67,68,69,70,71],\"y\":[0.6417982649634344,0.5947634577099878,0.5631475963293007,0.5408699020076367,0.5183382863038626,0.4992994785834287,0.4784357914798427,0.46480494099110453,0.44783876153027574,0.43808132395062227,0.4284703228777892,0.41943425744406065,0.41708050409959013,0.4078927534702036,0.3944520691175398,0.3978158426663732,0.395620272143992,0.3924649564205972,0.38679513543019584,0.38335131564228475,0.3797612983589099,0.3841931371597689,0.38407760136583824,0.37626692444181564,0.3761636158664953,0.377786390163832,0.3832510945441828,0.38239600311821864,0.3827382963902032,0.3896128874160292,0.38972302561308947,0.38888278311129076,0.38713358232710904,0.3898311786104345,0.37970802713106044,0.3844945453457611,0.3822723734505581,0.38148407588489663,0.3832951109437297,0.382896718463243,0.3763846859098203,0.3745932053379766,0.37303142109891463,0.37631345212617934,0.38009103369902636,0.3744049326217296,0.37179429701732625,0.3733846417269193,0.37074115096401167,0.36783477324427305,0.3674165115828756,0.36977007078877117,0.3732472794217405,0.37506717304166204,0.3751873186280362,0.3758908480630546,0.374454922189551,0.3767643150327121,0.3741367864671598,0.3749340376847886,0.37559556596773225,0.3777185155653928,0.3812175299138254,0.3846940533327402,0.3864957002276768,0.3842382284959519,0.39144467065351307,0.39672976526677073,0.3964323472241149,0.4024696835307253,0.39463203934602614],\"type\":\"scatter\",\"xaxis\":\"x2\",\"yaxis\":\"y2\"},{\"mode\":\"lines\",\"name\":\"train\",\"x\":[1,2,3,4,5,6,7,8,9,10,11,12,13,14,15,16,17,18,19,20,21,22,23,24,25,26,27,28,29,30,31,32,33,34,35,36,37],\"y\":[0.6310146892900852,0.5800678444287697,0.5361603146758629,0.4953212230388706,0.4625363025968535,0.4334355799965481,0.4064231166819937,0.38229769167855127,0.35671887596271157,0.33724711760809456,0.32047942368497423,0.3052058235836509,0.2906683758804083,0.27243284465600826,0.25834311407881205,0.24357699056019436,0.22914671753657004,0.21473924609284953,0.20104712122517876,0.18720073986361982,0.17885910335388355,0.16850922048780026,0.15709360620796986,0.14931445827577716,0.13981538374094638,0.13141278602424802,0.12433166337807157,0.11647719693698572,0.1091191522040707,0.10241096185784444,0.09662661782987578,0.09041732984609485,0.08438916010905381,0.07872578918746606,0.0752916756851224,0.0715732823134409,0.06735809361904703],\"type\":\"scatter\",\"xaxis\":\"x3\",\"yaxis\":\"y3\"},{\"mode\":\"lines\",\"name\":\"eval\",\"x\":[1,2,3,4,5,6,7,8,9,10,11,12,13,14,15,16,17,18,19,20,21,22,23,24,25,26,27,28,29,30,31,32,33,34,35,36,37],\"y\":[0.6642259453080475,0.6372087845513315,0.6182494146299067,0.597852045823027,0.5836943262129722,0.5744522553652316,0.5666550647504913,0.5614176780362018,0.5575044568590801,0.55166899659242,0.5488367616318041,0.543383607565662,0.538513226097497,0.5364399860217166,0.530956348631092,0.5236724069493266,0.5194797496295518,0.5206850696623362,0.5238536392049279,0.5285638246795895,0.5268848819456038,0.5271592717475907,0.5266259261147661,0.5282947341408744,0.5305508603937534,0.5337972624076224,0.5347151036107267,0.5356114230026562,0.5416313631855216,0.5454868281229464,0.5484505172039733,0.5492374149898023,0.5545987892526016,0.5558882301992395,0.5583628140829088,0.564282436888732,0.5620369148463362],\"type\":\"scatter\",\"xaxis\":\"x3\",\"yaxis\":\"y3\"},{\"mode\":\"lines\",\"name\":\"train\",\"x\":[1,2,3,4,5,6,7,8,9,10,11,12,13,14,15,16,17,18,19,20,21,22,23,24,25,26,27,28,29,30,31,32,33,34,35,36,37,38,39,40,41,42,43,44,45,46,47,48,49,50,51,52,53,54,55,56,57,58,59,60,61,62,63,64,65,66,67,68,69,70,71,72,73,74,75,76,77,78,79,80,81,82,83,84,85,86,87,88,89,90,91,92,93,94,95,96,97,98,99],\"y\":[0.6344084219433285,0.5864814446071906,0.5461547036802701,0.5015578530389008,0.46921766265351705,0.4439750654558292,0.41889323458313676,0.3954883569101618,0.36805492564546816,0.35079662925946675,0.3303266934172011,0.3082167843592698,0.2953853933432158,0.2778356274597922,0.26210151543069654,0.2502678604717249,0.23804960724760155,0.226035387822464,0.21213486396670767,0.2000226959462299,0.18907091400913267,0.18176546462045368,0.17283457288550214,0.16200268111552799,0.15083399934030367,0.14338126501301102,0.1347768752247374,0.12611674339964662,0.11914642718486193,0.11226613644516908,0.10596943286115024,0.09928784180436842,0.09364059590678003,0.08714040212285236,0.08222075827887723,0.07719685049778949,0.07245627327539887,0.06801997648927194,0.06437270817513398,0.060130698851518075,0.05664056484429093,0.05358654416720881,0.05045029538275419,0.04751897537582797,0.044740294550655695,0.04241018492566581,0.039542743628028294,0.03728385748725087,0.03484596334659337,0.032779309784947294,0.030728230238993418,0.02901328806187353,0.0272276577616258,0.025536529247555357,0.024367319110299452,0.022876043810982516,0.02133055414779801,0.02001914920250982,0.018798613734541374,0.017627782242455536,0.01656779581988016,0.015430875747958407,0.014478641533532885,0.013533802993017702,0.012740864197053345,0.012042742466057507,0.011226760106871313,0.010454941043909729,0.009739523480251942,0.00919501406380882,0.008644076343860625,0.008169462941382646,0.007570573977400021,0.007113299866064999,0.006678248627317543,0.006139035620803956,0.005712855323546909,0.00530608573740943,0.004955722614106005,0.004665750249671925,0.00439151443594402,0.004137009581063053,0.0038927477893378444,0.003655960147806457,0.0034662955780508714,0.003245804752055579,0.0030485379479495184,0.002844119666752281,0.002708567182113612,0.002553838704103706,0.0024083130743553683,0.002252126044327483,0.002108269639253135,0.0019841842681043846,0.0018523287400304001,0.0017512341958597255,0.0016248428285946756,0.0015396472774418387,0.0014394786138858158],\"type\":\"scatter\",\"xaxis\":\"x4\",\"yaxis\":\"y4\"},{\"mode\":\"lines\",\"name\":\"eval\",\"x\":[1,2,3,4,5,6,7,8,9,10,11,12,13,14,15,16,17,18,19,20,21,22,23,24,25,26,27,28,29,30,31,32,33,34,35,36,37,38,39,40,41,42,43,44,45,46,47,48,49,50,51,52,53,54,55,56,57,58,59,60,61,62,63,64,65,66,67,68,69,70,71,72,73,74,75,76,77,78,79,80,81,82,83,84,85,86,87,88,89,90,91,92,93,94,95,96,97,98,99],\"y\":[0.6476108337217301,0.6087864345646428,0.5794913748940809,0.537562894710476,0.5132220618645441,0.48994542063106306,0.47079637288549125,0.457084511220776,0.439790724847406,0.42854107313617873,0.4207589844402442,0.4051924968135129,0.40088271917933305,0.39532076705862407,0.3901918194827495,0.38331039007511264,0.37791709709775945,0.37043244728400904,0.35700341777145245,0.35208327812233475,0.34695804734457947,0.3430138529529382,0.3378388691883075,0.3366174116835694,0.33859199934362555,0.33783086266711027,0.3317803830512758,0.33046578326748444,0.330243259788742,0.32861204482204176,0.33009948920617815,0.32468755056511195,0.32375586059507167,0.32332104820942187,0.3198609436897337,0.32285623098700206,0.3179506236015843,0.32177886024092694,0.31832652557957697,0.31799116775221403,0.31564336144899574,0.3186663327313356,0.31857660873271587,0.32260714540516355,0.31932435926080377,0.32356713107494384,0.3199842790566556,0.31982719243097857,0.3268582453023927,0.32340375224137136,0.3197105485957388,0.3220404944824309,0.3222024058429547,0.3239560909663298,0.32048773499887284,0.3210632805648085,0.3200471958531742,0.3162669280924293,0.311547606298291,0.31364045852271033,0.3182778464245339,0.31134211239123155,0.3165623241864917,0.3155585605337933,0.31471343905415017,0.3117083753626173,0.31353893544791456,0.30875905575414964,0.3060066375906298,0.30884779278704766,0.3100449126115219,0.3149406176240878,0.3102453966323052,0.3127097265858835,0.3102487096008132,0.30955013562281947,0.30966140416142157,0.3077971191964208,0.3052890308688648,0.305836668210097,0.3121033645639601,0.30935145607797543,0.3129586413600662,0.3136776032482591,0.3195657937013191,0.3167618276185606,0.3144729503140903,0.30924984777978737,0.30739851841662513,0.3065576811144191,0.3120751049732906,0.3112255047263643,0.30905522321993306,0.31188066275389587,0.30964330907385323,0.3114624979531966,0.30983856915921915,0.30833293997130407,0.3056101627259463],\"type\":\"scatter\",\"xaxis\":\"x4\",\"yaxis\":\"y4\"}],                        {\"template\":{\"data\":{\"histogram2dcontour\":[{\"type\":\"histogram2dcontour\",\"colorbar\":{\"outlinewidth\":0,\"ticks\":\"\"},\"colorscale\":[[0.0,\"#0d0887\"],[0.1111111111111111,\"#46039f\"],[0.2222222222222222,\"#7201a8\"],[0.3333333333333333,\"#9c179e\"],[0.4444444444444444,\"#bd3786\"],[0.5555555555555556,\"#d8576b\"],[0.6666666666666666,\"#ed7953\"],[0.7777777777777778,\"#fb9f3a\"],[0.8888888888888888,\"#fdca26\"],[1.0,\"#f0f921\"]]}],\"choropleth\":[{\"type\":\"choropleth\",\"colorbar\":{\"outlinewidth\":0,\"ticks\":\"\"}}],\"histogram2d\":[{\"type\":\"histogram2d\",\"colorbar\":{\"outlinewidth\":0,\"ticks\":\"\"},\"colorscale\":[[0.0,\"#0d0887\"],[0.1111111111111111,\"#46039f\"],[0.2222222222222222,\"#7201a8\"],[0.3333333333333333,\"#9c179e\"],[0.4444444444444444,\"#bd3786\"],[0.5555555555555556,\"#d8576b\"],[0.6666666666666666,\"#ed7953\"],[0.7777777777777778,\"#fb9f3a\"],[0.8888888888888888,\"#fdca26\"],[1.0,\"#f0f921\"]]}],\"heatmap\":[{\"type\":\"heatmap\",\"colorbar\":{\"outlinewidth\":0,\"ticks\":\"\"},\"colorscale\":[[0.0,\"#0d0887\"],[0.1111111111111111,\"#46039f\"],[0.2222222222222222,\"#7201a8\"],[0.3333333333333333,\"#9c179e\"],[0.4444444444444444,\"#bd3786\"],[0.5555555555555556,\"#d8576b\"],[0.6666666666666666,\"#ed7953\"],[0.7777777777777778,\"#fb9f3a\"],[0.8888888888888888,\"#fdca26\"],[1.0,\"#f0f921\"]]}],\"heatmapgl\":[{\"type\":\"heatmapgl\",\"colorbar\":{\"outlinewidth\":0,\"ticks\":\"\"},\"colorscale\":[[0.0,\"#0d0887\"],[0.1111111111111111,\"#46039f\"],[0.2222222222222222,\"#7201a8\"],[0.3333333333333333,\"#9c179e\"],[0.4444444444444444,\"#bd3786\"],[0.5555555555555556,\"#d8576b\"],[0.6666666666666666,\"#ed7953\"],[0.7777777777777778,\"#fb9f3a\"],[0.8888888888888888,\"#fdca26\"],[1.0,\"#f0f921\"]]}],\"contourcarpet\":[{\"type\":\"contourcarpet\",\"colorbar\":{\"outlinewidth\":0,\"ticks\":\"\"}}],\"contour\":[{\"type\":\"contour\",\"colorbar\":{\"outlinewidth\":0,\"ticks\":\"\"},\"colorscale\":[[0.0,\"#0d0887\"],[0.1111111111111111,\"#46039f\"],[0.2222222222222222,\"#7201a8\"],[0.3333333333333333,\"#9c179e\"],[0.4444444444444444,\"#bd3786\"],[0.5555555555555556,\"#d8576b\"],[0.6666666666666666,\"#ed7953\"],[0.7777777777777778,\"#fb9f3a\"],[0.8888888888888888,\"#fdca26\"],[1.0,\"#f0f921\"]]}],\"surface\":[{\"type\":\"surface\",\"colorbar\":{\"outlinewidth\":0,\"ticks\":\"\"},\"colorscale\":[[0.0,\"#0d0887\"],[0.1111111111111111,\"#46039f\"],[0.2222222222222222,\"#7201a8\"],[0.3333333333333333,\"#9c179e\"],[0.4444444444444444,\"#bd3786\"],[0.5555555555555556,\"#d8576b\"],[0.6666666666666666,\"#ed7953\"],[0.7777777777777778,\"#fb9f3a\"],[0.8888888888888888,\"#fdca26\"],[1.0,\"#f0f921\"]]}],\"mesh3d\":[{\"type\":\"mesh3d\",\"colorbar\":{\"outlinewidth\":0,\"ticks\":\"\"}}],\"scatter\":[{\"fillpattern\":{\"fillmode\":\"overlay\",\"size\":10,\"solidity\":0.2},\"type\":\"scatter\"}],\"parcoords\":[{\"type\":\"parcoords\",\"line\":{\"colorbar\":{\"outlinewidth\":0,\"ticks\":\"\"}}}],\"scatterpolargl\":[{\"type\":\"scatterpolargl\",\"marker\":{\"colorbar\":{\"outlinewidth\":0,\"ticks\":\"\"}}}],\"bar\":[{\"error_x\":{\"color\":\"#2a3f5f\"},\"error_y\":{\"color\":\"#2a3f5f\"},\"marker\":{\"line\":{\"color\":\"#E5ECF6\",\"width\":0.5},\"pattern\":{\"fillmode\":\"overlay\",\"size\":10,\"solidity\":0.2}},\"type\":\"bar\"}],\"scattergeo\":[{\"type\":\"scattergeo\",\"marker\":{\"colorbar\":{\"outlinewidth\":0,\"ticks\":\"\"}}}],\"scatterpolar\":[{\"type\":\"scatterpolar\",\"marker\":{\"colorbar\":{\"outlinewidth\":0,\"ticks\":\"\"}}}],\"histogram\":[{\"marker\":{\"pattern\":{\"fillmode\":\"overlay\",\"size\":10,\"solidity\":0.2}},\"type\":\"histogram\"}],\"scattergl\":[{\"type\":\"scattergl\",\"marker\":{\"colorbar\":{\"outlinewidth\":0,\"ticks\":\"\"}}}],\"scatter3d\":[{\"type\":\"scatter3d\",\"line\":{\"colorbar\":{\"outlinewidth\":0,\"ticks\":\"\"}},\"marker\":{\"colorbar\":{\"outlinewidth\":0,\"ticks\":\"\"}}}],\"scattermapbox\":[{\"type\":\"scattermapbox\",\"marker\":{\"colorbar\":{\"outlinewidth\":0,\"ticks\":\"\"}}}],\"scatterternary\":[{\"type\":\"scatterternary\",\"marker\":{\"colorbar\":{\"outlinewidth\":0,\"ticks\":\"\"}}}],\"scattercarpet\":[{\"type\":\"scattercarpet\",\"marker\":{\"colorbar\":{\"outlinewidth\":0,\"ticks\":\"\"}}}],\"carpet\":[{\"aaxis\":{\"endlinecolor\":\"#2a3f5f\",\"gridcolor\":\"white\",\"linecolor\":\"white\",\"minorgridcolor\":\"white\",\"startlinecolor\":\"#2a3f5f\"},\"baxis\":{\"endlinecolor\":\"#2a3f5f\",\"gridcolor\":\"white\",\"linecolor\":\"white\",\"minorgridcolor\":\"white\",\"startlinecolor\":\"#2a3f5f\"},\"type\":\"carpet\"}],\"table\":[{\"cells\":{\"fill\":{\"color\":\"#EBF0F8\"},\"line\":{\"color\":\"white\"}},\"header\":{\"fill\":{\"color\":\"#C8D4E3\"},\"line\":{\"color\":\"white\"}},\"type\":\"table\"}],\"barpolar\":[{\"marker\":{\"line\":{\"color\":\"#E5ECF6\",\"width\":0.5},\"pattern\":{\"fillmode\":\"overlay\",\"size\":10,\"solidity\":0.2}},\"type\":\"barpolar\"}],\"pie\":[{\"automargin\":true,\"type\":\"pie\"}]},\"layout\":{\"autotypenumbers\":\"strict\",\"colorway\":[\"#636efa\",\"#EF553B\",\"#00cc96\",\"#ab63fa\",\"#FFA15A\",\"#19d3f3\",\"#FF6692\",\"#B6E880\",\"#FF97FF\",\"#FECB52\"],\"font\":{\"color\":\"#2a3f5f\"},\"hovermode\":\"closest\",\"hoverlabel\":{\"align\":\"left\"},\"paper_bgcolor\":\"white\",\"plot_bgcolor\":\"#E5ECF6\",\"polar\":{\"bgcolor\":\"#E5ECF6\",\"angularaxis\":{\"gridcolor\":\"white\",\"linecolor\":\"white\",\"ticks\":\"\"},\"radialaxis\":{\"gridcolor\":\"white\",\"linecolor\":\"white\",\"ticks\":\"\"}},\"ternary\":{\"bgcolor\":\"#E5ECF6\",\"aaxis\":{\"gridcolor\":\"white\",\"linecolor\":\"white\",\"ticks\":\"\"},\"baxis\":{\"gridcolor\":\"white\",\"linecolor\":\"white\",\"ticks\":\"\"},\"caxis\":{\"gridcolor\":\"white\",\"linecolor\":\"white\",\"ticks\":\"\"}},\"coloraxis\":{\"colorbar\":{\"outlinewidth\":0,\"ticks\":\"\"}},\"colorscale\":{\"sequential\":[[0.0,\"#0d0887\"],[0.1111111111111111,\"#46039f\"],[0.2222222222222222,\"#7201a8\"],[0.3333333333333333,\"#9c179e\"],[0.4444444444444444,\"#bd3786\"],[0.5555555555555556,\"#d8576b\"],[0.6666666666666666,\"#ed7953\"],[0.7777777777777778,\"#fb9f3a\"],[0.8888888888888888,\"#fdca26\"],[1.0,\"#f0f921\"]],\"sequentialminus\":[[0.0,\"#0d0887\"],[0.1111111111111111,\"#46039f\"],[0.2222222222222222,\"#7201a8\"],[0.3333333333333333,\"#9c179e\"],[0.4444444444444444,\"#bd3786\"],[0.5555555555555556,\"#d8576b\"],[0.6666666666666666,\"#ed7953\"],[0.7777777777777778,\"#fb9f3a\"],[0.8888888888888888,\"#fdca26\"],[1.0,\"#f0f921\"]],\"diverging\":[[0,\"#8e0152\"],[0.1,\"#c51b7d\"],[0.2,\"#de77ae\"],[0.3,\"#f1b6da\"],[0.4,\"#fde0ef\"],[0.5,\"#f7f7f7\"],[0.6,\"#e6f5d0\"],[0.7,\"#b8e186\"],[0.8,\"#7fbc41\"],[0.9,\"#4d9221\"],[1,\"#276419\"]]},\"xaxis\":{\"gridcolor\":\"white\",\"linecolor\":\"white\",\"ticks\":\"\",\"title\":{\"standoff\":15},\"zerolinecolor\":\"white\",\"automargin\":true,\"zerolinewidth\":2},\"yaxis\":{\"gridcolor\":\"white\",\"linecolor\":\"white\",\"ticks\":\"\",\"title\":{\"standoff\":15},\"zerolinecolor\":\"white\",\"automargin\":true,\"zerolinewidth\":2},\"scene\":{\"xaxis\":{\"backgroundcolor\":\"#E5ECF6\",\"gridcolor\":\"white\",\"linecolor\":\"white\",\"showbackground\":true,\"ticks\":\"\",\"zerolinecolor\":\"white\",\"gridwidth\":2},\"yaxis\":{\"backgroundcolor\":\"#E5ECF6\",\"gridcolor\":\"white\",\"linecolor\":\"white\",\"showbackground\":true,\"ticks\":\"\",\"zerolinecolor\":\"white\",\"gridwidth\":2},\"zaxis\":{\"backgroundcolor\":\"#E5ECF6\",\"gridcolor\":\"white\",\"linecolor\":\"white\",\"showbackground\":true,\"ticks\":\"\",\"zerolinecolor\":\"white\",\"gridwidth\":2}},\"shapedefaults\":{\"line\":{\"color\":\"#2a3f5f\"}},\"annotationdefaults\":{\"arrowcolor\":\"#2a3f5f\",\"arrowhead\":0,\"arrowwidth\":1},\"geo\":{\"bgcolor\":\"white\",\"landcolor\":\"#E5ECF6\",\"subunitcolor\":\"white\",\"showland\":true,\"showlakes\":true,\"lakecolor\":\"white\"},\"title\":{\"x\":0.05},\"mapbox\":{\"style\":\"light\"}}},\"xaxis\":{\"anchor\":\"y\",\"domain\":[0.0,0.45]},\"yaxis\":{\"anchor\":\"x\",\"domain\":[0.625,1.0]},\"xaxis2\":{\"anchor\":\"y2\",\"domain\":[0.55,1.0]},\"yaxis2\":{\"anchor\":\"x2\",\"domain\":[0.625,1.0]},\"xaxis3\":{\"anchor\":\"y3\",\"domain\":[0.0,0.45]},\"yaxis3\":{\"anchor\":\"x3\",\"domain\":[0.0,0.375]},\"xaxis4\":{\"anchor\":\"y4\",\"domain\":[0.55,1.0]},\"yaxis4\":{\"anchor\":\"x4\",\"domain\":[0.0,0.375]},\"annotations\":[{\"font\":{\"size\":16},\"showarrow\":false,\"text\":\"fold1\",\"x\":0.225,\"xanchor\":\"center\",\"xref\":\"paper\",\"y\":1.0,\"yanchor\":\"bottom\",\"yref\":\"paper\"},{\"font\":{\"size\":16},\"showarrow\":false,\"text\":\"fold2\",\"x\":0.775,\"xanchor\":\"center\",\"xref\":\"paper\",\"y\":1.0,\"yanchor\":\"bottom\",\"yref\":\"paper\"},{\"font\":{\"size\":16},\"showarrow\":false,\"text\":\"fold3\",\"x\":0.225,\"xanchor\":\"center\",\"xref\":\"paper\",\"y\":0.375,\"yanchor\":\"bottom\",\"yref\":\"paper\"},{\"font\":{\"size\":16},\"showarrow\":false,\"text\":\"fold4\",\"x\":0.775,\"xanchor\":\"center\",\"xref\":\"paper\",\"y\":0.375,\"yanchor\":\"bottom\",\"yref\":\"paper\"}],\"title\":{\"text\":\"fold1, fold2, fold3, fold4\"}},                        {\"responsive\": true}                    ).then(function(){\n",
       "                            \n",
       "var gd = document.getElementById('cf64d1f9-92e0-4c38-8d1f-6558b541f68e');\n",
       "var x = new MutationObserver(function (mutations, observer) {{\n",
       "        var display = window.getComputedStyle(gd).display;\n",
       "        if (!display || display === 'none') {{\n",
       "            console.log([gd, 'removed!']);\n",
       "            Plotly.purge(gd);\n",
       "            observer.disconnect();\n",
       "        }}\n",
       "}});\n",
       "\n",
       "// Listen for the removal of the full notebook cells\n",
       "var notebookContainer = gd.closest('#notebook-container');\n",
       "if (notebookContainer) {{\n",
       "    x.observe(notebookContainer, {childList: true});\n",
       "}}\n",
       "\n",
       "// Listen for the clearing of the current output cell\n",
       "var outputEl = gd.closest('.output');\n",
       "if (outputEl) {{\n",
       "    x.observe(outputEl, {childList: true});\n",
       "}}\n",
       "\n",
       "                        })                };                });            </script>        </div>"
      ]
     },
     "metadata": {},
     "output_type": "display_data"
    }
   ],
   "source": [
    "fig = make_subplots(rows = 2,cols = 2,\n",
    "                    subplot_titles=(\"fold1\", \"fold2\", \"fold3\", \"fold4\"))\n",
    "tuples = [(1,1),(1,2),(2,1),(2,2)]\n",
    "for i in range(len(evals_results)):\n",
    "    train_log = evals_results[i]['train']['balanced_logloss'] \n",
    "    eval_log = evals_results[i]['valid']['balanced_logloss'] \n",
    "    x = np.arange(1,1+len(train_log))\n",
    "    fig.add_trace(go.Scatter(x = x, y = train_log,mode = 'lines',name = 'train'),\n",
    "                 row = tuples[i][0],col = tuples[i][1])\n",
    "    fig.add_trace(go.Scatter(x = x, y = eval_log,mode = 'lines',name = 'eval'),\n",
    "                 row = tuples[i][0],col = tuples[i][1])\n",
    "fig.update_layout(\n",
    "    title = \"fold1, fold2, fold3, fold4\"\n",
    ")"
   ]
  },
  {
   "cell_type": "code",
   "execution_count": 34,
   "id": "991e384a",
   "metadata": {},
   "outputs": [
    {
     "data": {
      "image/png": "[encoded data removed]",
      "text/plain": [
       "<Figure size 1200x800 with 4 Axes>"
      ]
     },
     "metadata": {},
     "output_type": "display_data"
    }
   ],
   "source": [
    "fig, axes = plt.subplots(nrows=2, ncols=2, figsize=(12, 8))\n",
    "\n",
    "\n",
    "# 各モデルに対して特徴量の重要度をプロット\n",
    "for i, model in enumerate(models):\n",
    "    # 重要度の取得\n",
    "    importance = model.feature_importance(importance_type='gain')\n",
    "    # 特徴量の名前の取得\n",
    "    feature_names = model.feature_name()\n",
    "\n",
    "    # 重要度を降順にソートして上位20個を選択\n",
    "    top_features = sorted(zip(feature_names, importance), key=lambda x: x[1], reverse=True)[:20]\n",
    "    # 上位20個の特徴量とその重要度を取得\n",
    "    top_feature_names = [feat[0] for feat in top_features]\n",
    "    top_feature_importance = [feat[1] for feat in top_features]\n",
    "\n",
    "    # サブプロットにプロット\n",
    "    ax = axes[i // 2, i % 2]  # サブプロットの位置を指定\n",
    "    ax.barh(range(len(top_feature_names)), top_feature_importance, align='center')\n",
    "    ax.set_yticks(range(len(top_feature_names)))\n",
    "    ax.set_yticklabels(top_feature_names)\n",
    "    ax.set_xlabel('Feature Importance')\n",
    "    ax.set_ylabel('Feature')\n",
    "    ax.set_title(f'Model {i+1} - Top 20 Important Features')\n",
    "\n",
    "# サブプロット間のスペースを調整\n",
    "plt.tight_layout()\n",
    "\n",
    "# プロットの表示\n",
    "plt.show()"
   ]
  },
  {
   "cell_type": "code",
   "execution_count": 35,
   "id": "098285ec",
   "metadata": {},
   "outputs": [
    {
     "name": "stderr",
     "output_type": "stream",
     "text": [
      "C:\\Users\\ghibl\\AppData\\Local\\Temp\\ipykernel_7056\\3122687559.py:17: FutureWarning:\n",
      "\n",
      "DataFrame.set_axis 'inplace' keyword is deprecated and will be removed in a future version. Use `obj = obj.set_axis(..., copy=False)` instead\n",
      "\n"
     ]
    }
   ],
   "source": [
    "feature_importances = []\n",
    "feature_names = []\n",
    "features_df = pd.DataFrame()\n",
    "for i,model in enumerate(models):\n",
    "    feature_importance = model.feature_importance(importance_type='gain')\n",
    "    feature_importances.append(feature_importance)\n",
    "    features_df[f\"Fold{i+1}\"] = feature_importance\n",
    "feature_name = model.feature_name()\n",
    "feature_importances_array = np.array(feature_importances)\n",
    "mean_importances = np.mean(feature_importances,axis = 0)\n",
    "std_importances = np.std(feature_importances,axis = 0)\n",
    "coefficient_of_variation = std_importances / mean_importances\n",
    "\n",
    "features_df[\"Mean\"] = mean_importances\n",
    "features_df[\"Std\"] = std_importances\n",
    "features_df[\"CV\"] = coefficient_of_variation\n",
    "features_df.set_axis(feature_name,axis = 0, inplace = True)\n"
   ]
  },
  {
   "cell_type": "code",
   "execution_count": 36,
   "id": "1cf625e7",
   "metadata": {},
   "outputs": [],
   "source": [
    "features_df_nonull = features_df.dropna(how = \"any\")"
   ]
  },
  {
   "cell_type": "code",
   "execution_count": 37,
   "id": "1c00063d",
   "metadata": {},
   "outputs": [
    {
     "data": {
      "text/html": [
       "<div>\n",
       "<style scoped>\n",
       "    .dataframe tbody tr th:only-of-type {\n",
       "        vertical-align: middle;\n",
       "    }\n",
       "\n",
       "    .dataframe tbody tr th {\n",
       "        vertical-align: top;\n",
       "    }\n",
       "\n",
       "    .dataframe thead th {\n",
       "        text-align: right;\n",
       "    }\n",
       "</style>\n",
       "<table border=\"1\" class=\"dataframe\">\n",
       "  <thead>\n",
       "    <tr style=\"text-align: right;\">\n",
       "      <th></th>\n",
       "      <th>Fold1</th>\n",
       "      <th>Fold2</th>\n",
       "      <th>Fold3</th>\n",
       "      <th>Fold4</th>\n",
       "      <th>Mean</th>\n",
       "      <th>Std</th>\n",
       "      <th>CV</th>\n",
       "    </tr>\n",
       "  </thead>\n",
       "  <tbody>\n",
       "    <tr>\n",
       "      <th>DU_FR_sum</th>\n",
       "      <td>321.047023</td>\n",
       "      <td>424.189524</td>\n",
       "      <td>488.305838</td>\n",
       "      <td>375.287673</td>\n",
       "      <td>402.207515</td>\n",
       "      <td>61.660022</td>\n",
       "      <td>0.153304</td>\n",
       "    </tr>\n",
       "    <tr>\n",
       "      <th>BQ_DY_mul</th>\n",
       "      <td>32.500142</td>\n",
       "      <td>26.327416</td>\n",
       "      <td>27.282869</td>\n",
       "      <td>10.038857</td>\n",
       "      <td>24.037321</td>\n",
       "      <td>8.416568</td>\n",
       "      <td>0.350146</td>\n",
       "    </tr>\n",
       "    <tr>\n",
       "      <th>AB_AF_mul</th>\n",
       "      <td>18.800375</td>\n",
       "      <td>5.737164</td>\n",
       "      <td>22.489401</td>\n",
       "      <td>14.769663</td>\n",
       "      <td>15.449151</td>\n",
       "      <td>6.236590</td>\n",
       "      <td>0.403685</td>\n",
       "    </tr>\n",
       "    <tr>\n",
       "      <th>CR_DL_mul</th>\n",
       "      <td>27.487813</td>\n",
       "      <td>70.449392</td>\n",
       "      <td>36.422439</td>\n",
       "      <td>20.247628</td>\n",
       "      <td>38.651818</td>\n",
       "      <td>19.231517</td>\n",
       "      <td>0.497558</td>\n",
       "    </tr>\n",
       "    <tr>\n",
       "      <th>BC_FL_sum</th>\n",
       "      <td>18.944043</td>\n",
       "      <td>79.782726</td>\n",
       "      <td>108.735059</td>\n",
       "      <td>164.338527</td>\n",
       "      <td>92.950089</td>\n",
       "      <td>52.430307</td>\n",
       "      <td>0.564069</td>\n",
       "    </tr>\n",
       "    <tr>\n",
       "      <th>BQ_GH_mul</th>\n",
       "      <td>23.119096</td>\n",
       "      <td>17.166317</td>\n",
       "      <td>0.037055</td>\n",
       "      <td>18.172643</td>\n",
       "      <td>14.623778</td>\n",
       "      <td>8.717825</td>\n",
       "      <td>0.596140</td>\n",
       "    </tr>\n",
       "    <tr>\n",
       "      <th>AB_EH_sum</th>\n",
       "      <td>23.563674</td>\n",
       "      <td>32.100261</td>\n",
       "      <td>0.000000</td>\n",
       "      <td>31.592051</td>\n",
       "      <td>21.813996</td>\n",
       "      <td>13.041562</td>\n",
       "      <td>0.597853</td>\n",
       "    </tr>\n",
       "    <tr>\n",
       "      <th>CR_DA_mul</th>\n",
       "      <td>65.499376</td>\n",
       "      <td>39.821721</td>\n",
       "      <td>0.000000</td>\n",
       "      <td>63.617571</td>\n",
       "      <td>42.234667</td>\n",
       "      <td>26.401064</td>\n",
       "      <td>0.625104</td>\n",
       "    </tr>\n",
       "    <tr>\n",
       "      <th>CD_GL_mul</th>\n",
       "      <td>10.165900</td>\n",
       "      <td>17.339835</td>\n",
       "      <td>0.000000</td>\n",
       "      <td>15.319409</td>\n",
       "      <td>10.706286</td>\n",
       "      <td>6.711957</td>\n",
       "      <td>0.626917</td>\n",
       "    </tr>\n",
       "    <tr>\n",
       "      <th>AY_DL_mul</th>\n",
       "      <td>7.505702</td>\n",
       "      <td>10.794710</td>\n",
       "      <td>5.913060</td>\n",
       "      <td>26.304021</td>\n",
       "      <td>12.629373</td>\n",
       "      <td>8.088925</td>\n",
       "      <td>0.640485</td>\n",
       "    </tr>\n",
       "    <tr>\n",
       "      <th>DA_DE_mul</th>\n",
       "      <td>91.213380</td>\n",
       "      <td>0.646086</td>\n",
       "      <td>65.068246</td>\n",
       "      <td>127.794695</td>\n",
       "      <td>71.180602</td>\n",
       "      <td>46.419141</td>\n",
       "      <td>0.652132</td>\n",
       "    </tr>\n",
       "    <tr>\n",
       "      <th>CC_DU_sum</th>\n",
       "      <td>4.298822</td>\n",
       "      <td>8.683531</td>\n",
       "      <td>0.000000</td>\n",
       "      <td>6.843339</td>\n",
       "      <td>4.956423</td>\n",
       "      <td>3.257697</td>\n",
       "      <td>0.657268</td>\n",
       "    </tr>\n",
       "    <tr>\n",
       "      <th>CC_CR_mul</th>\n",
       "      <td>6.594518</td>\n",
       "      <td>3.391517</td>\n",
       "      <td>7.327980</td>\n",
       "      <td>0.000043</td>\n",
       "      <td>4.328514</td>\n",
       "      <td>2.904531</td>\n",
       "      <td>0.671023</td>\n",
       "    </tr>\n",
       "    <tr>\n",
       "      <th>EG_EP_mul</th>\n",
       "      <td>11.649700</td>\n",
       "      <td>17.642940</td>\n",
       "      <td>38.287750</td>\n",
       "      <td>5.488603</td>\n",
       "      <td>18.267248</td>\n",
       "      <td>12.331828</td>\n",
       "      <td>0.675079</td>\n",
       "    </tr>\n",
       "    <tr>\n",
       "      <th>EE_FE_mul</th>\n",
       "      <td>0.000094</td>\n",
       "      <td>0.000000</td>\n",
       "      <td>0.000235</td>\n",
       "      <td>0.000222</td>\n",
       "      <td>0.000138</td>\n",
       "      <td>0.000097</td>\n",
       "      <td>0.701995</td>\n",
       "    </tr>\n",
       "    <tr>\n",
       "      <th>DE_EE_mul</th>\n",
       "      <td>56.076357</td>\n",
       "      <td>2.016140</td>\n",
       "      <td>26.685512</td>\n",
       "      <td>24.489649</td>\n",
       "      <td>27.316915</td>\n",
       "      <td>19.206944</td>\n",
       "      <td>0.703115</td>\n",
       "    </tr>\n",
       "    <tr>\n",
       "      <th>AB_DU_sum</th>\n",
       "      <td>0.579120</td>\n",
       "      <td>0.800075</td>\n",
       "      <td>0.000000</td>\n",
       "      <td>1.513993</td>\n",
       "      <td>0.723297</td>\n",
       "      <td>0.541997</td>\n",
       "      <td>0.749342</td>\n",
       "    </tr>\n",
       "    <tr>\n",
       "      <th>CC_FR_mul</th>\n",
       "      <td>0.466455</td>\n",
       "      <td>1.536410</td>\n",
       "      <td>0.000000</td>\n",
       "      <td>1.602158</td>\n",
       "      <td>0.901256</td>\n",
       "      <td>0.688476</td>\n",
       "      <td>0.763908</td>\n",
       "    </tr>\n",
       "    <tr>\n",
       "      <th>AX_EG_mul</th>\n",
       "      <td>16.257390</td>\n",
       "      <td>25.787900</td>\n",
       "      <td>48.911679</td>\n",
       "      <td>0.276699</td>\n",
       "      <td>22.808417</td>\n",
       "      <td>17.612864</td>\n",
       "      <td>0.772209</td>\n",
       "    </tr>\n",
       "    <tr>\n",
       "      <th>AB_GH_mul</th>\n",
       "      <td>0.767672</td>\n",
       "      <td>2.350467</td>\n",
       "      <td>0.000000</td>\n",
       "      <td>2.962485</td>\n",
       "      <td>1.520156</td>\n",
       "      <td>1.188154</td>\n",
       "      <td>0.781600</td>\n",
       "    </tr>\n",
       "    <tr>\n",
       "      <th>AB_FE_mul</th>\n",
       "      <td>25.279906</td>\n",
       "      <td>20.063209</td>\n",
       "      <td>88.320927</td>\n",
       "      <td>15.348078</td>\n",
       "      <td>37.253030</td>\n",
       "      <td>29.692603</td>\n",
       "      <td>0.797052</td>\n",
       "    </tr>\n",
       "    <tr>\n",
       "      <th>AB_FI_mul</th>\n",
       "      <td>4.566940</td>\n",
       "      <td>1.203760</td>\n",
       "      <td>0.000000</td>\n",
       "      <td>5.298330</td>\n",
       "      <td>2.767257</td>\n",
       "      <td>2.221904</td>\n",
       "      <td>0.802926</td>\n",
       "    </tr>\n",
       "    <tr>\n",
       "      <th>BQ_DI_sum</th>\n",
       "      <td>6.913187</td>\n",
       "      <td>21.839600</td>\n",
       "      <td>0.000000</td>\n",
       "      <td>9.706271</td>\n",
       "      <td>9.614765</td>\n",
       "      <td>7.892990</td>\n",
       "      <td>0.820924</td>\n",
       "    </tr>\n",
       "    <tr>\n",
       "      <th>BQ_EL_mul</th>\n",
       "      <td>8.898190</td>\n",
       "      <td>20.717217</td>\n",
       "      <td>1.931080</td>\n",
       "      <td>3.389135</td>\n",
       "      <td>8.733906</td>\n",
       "      <td>7.390395</td>\n",
       "      <td>0.846173</td>\n",
       "    </tr>\n",
       "    <tr>\n",
       "      <th>tsne_Component2</th>\n",
       "      <td>1.012464</td>\n",
       "      <td>3.210820</td>\n",
       "      <td>0.000000</td>\n",
       "      <td>1.200372</td>\n",
       "      <td>1.355914</td>\n",
       "      <td>1.164187</td>\n",
       "      <td>0.858600</td>\n",
       "    </tr>\n",
       "    <tr>\n",
       "      <th>CR_DE_mul</th>\n",
       "      <td>0.811089</td>\n",
       "      <td>0.759948</td>\n",
       "      <td>0.000000</td>\n",
       "      <td>0.109063</td>\n",
       "      <td>0.420025</td>\n",
       "      <td>0.367966</td>\n",
       "      <td>0.876059</td>\n",
       "    </tr>\n",
       "    <tr>\n",
       "      <th>AB_GL_mul</th>\n",
       "      <td>15.024259</td>\n",
       "      <td>52.789639</td>\n",
       "      <td>0.000000</td>\n",
       "      <td>19.242926</td>\n",
       "      <td>21.764206</td>\n",
       "      <td>19.287573</td>\n",
       "      <td>0.886206</td>\n",
       "    </tr>\n",
       "    <tr>\n",
       "      <th>DL_EE_mul</th>\n",
       "      <td>0.009408</td>\n",
       "      <td>0.000000</td>\n",
       "      <td>0.001232</td>\n",
       "      <td>0.011004</td>\n",
       "      <td>0.005411</td>\n",
       "      <td>0.004848</td>\n",
       "      <td>0.895929</td>\n",
       "    </tr>\n",
       "    <tr>\n",
       "      <th>CR_FC_mul</th>\n",
       "      <td>3.691784</td>\n",
       "      <td>10.929250</td>\n",
       "      <td>0.000000</td>\n",
       "      <td>3.212581</td>\n",
       "      <td>4.458404</td>\n",
       "      <td>3.996530</td>\n",
       "      <td>0.896404</td>\n",
       "    </tr>\n",
       "    <tr>\n",
       "      <th>AB_BD_mul</th>\n",
       "      <td>0.016000</td>\n",
       "      <td>0.002058</td>\n",
       "      <td>0.011064</td>\n",
       "      <td>0.000000</td>\n",
       "      <td>0.007281</td>\n",
       "      <td>0.006531</td>\n",
       "      <td>0.897073</td>\n",
       "    </tr>\n",
       "  </tbody>\n",
       "</table>\n",
       "</div>"
      ],
      "text/plain": [
       "                      Fold1       Fold2       Fold3       Fold4        Mean  \\\n",
       "DU_FR_sum        321.047023  424.189524  488.305838  375.287673  402.207515   \n",
       "BQ_DY_mul         32.500142   26.327416   27.282869   10.038857   24.037321   \n",
       "AB_AF_mul         18.800375    5.737164   22.489401   14.769663   15.449151   \n",
       "CR_DL_mul         27.487813   70.449392   36.422439   20.247628   38.651818   \n",
       "BC_FL_sum         18.944043   79.782726  108.735059  164.338527   92.950089   \n",
       "BQ_GH_mul         23.119096   17.166317    0.037055   18.172643   14.623778   \n",
       "AB_EH_sum         23.563674   32.100261    0.000000   31.592051   21.813996   \n",
       "CR_DA_mul         65.499376   39.821721    0.000000   63.617571   42.234667   \n",
       "CD_GL_mul         10.165900   17.339835    0.000000   15.319409   10.706286   \n",
       "AY_DL_mul          7.505702   10.794710    5.913060   26.304021   12.629373   \n",
       "DA_DE_mul         91.213380    0.646086   65.068246  127.794695   71.180602   \n",
       "CC_DU_sum          4.298822    8.683531    0.000000    6.843339    4.956423   \n",
       "CC_CR_mul          6.594518    3.391517    7.327980    0.000043    4.328514   \n",
       "EG_EP_mul         11.649700   17.642940   38.287750    5.488603   18.267248   \n",
       "EE_FE_mul          0.000094    0.000000    0.000235    0.000222    0.000138   \n",
       "DE_EE_mul         56.076357    2.016140   26.685512   24.489649   27.316915   \n",
       "AB_DU_sum          0.579120    0.800075    0.000000    1.513993    0.723297   \n",
       "CC_FR_mul          0.466455    1.536410    0.000000    1.602158    0.901256   \n",
       "AX_EG_mul         16.257390   25.787900   48.911679    0.276699   22.808417   \n",
       "AB_GH_mul          0.767672    2.350467    0.000000    2.962485    1.520156   \n",
       "AB_FE_mul         25.279906   20.063209   88.320927   15.348078   37.253030   \n",
       "AB_FI_mul          4.566940    1.203760    0.000000    5.298330    2.767257   \n",
       "BQ_DI_sum          6.913187   21.839600    0.000000    9.706271    9.614765   \n",
       "BQ_EL_mul          8.898190   20.717217    1.931080    3.389135    8.733906   \n",
       "tsne_Component2    1.012464    3.210820    0.000000    1.200372    1.355914   \n",
       "CR_DE_mul          0.811089    0.759948    0.000000    0.109063    0.420025   \n",
       "AB_GL_mul         15.024259   52.789639    0.000000   19.242926   21.764206   \n",
       "DL_EE_mul          0.009408    0.000000    0.001232    0.011004    0.005411   \n",
       "CR_FC_mul          3.691784   10.929250    0.000000    3.212581    4.458404   \n",
       "AB_BD_mul          0.016000    0.002058    0.011064    0.000000    0.007281   \n",
       "\n",
       "                       Std        CV  \n",
       "DU_FR_sum        61.660022  0.153304  \n",
       "BQ_DY_mul         8.416568  0.350146  \n",
       "AB_AF_mul         6.236590  0.403685  \n",
       "CR_DL_mul        19.231517  0.497558  \n",
       "BC_FL_sum        52.430307  0.564069  \n",
       "BQ_GH_mul         8.717825  0.596140  \n",
       "AB_EH_sum        13.041562  0.597853  \n",
       "CR_DA_mul        26.401064  0.625104  \n",
       "CD_GL_mul         6.711957  0.626917  \n",
       "AY_DL_mul         8.088925  0.640485  \n",
       "DA_DE_mul        46.419141  0.652132  \n",
       "CC_DU_sum         3.257697  0.657268  \n",
       "CC_CR_mul         2.904531  0.671023  \n",
       "EG_EP_mul        12.331828  0.675079  \n",
       "EE_FE_mul         0.000097  0.701995  \n",
       "DE_EE_mul        19.206944  0.703115  \n",
       "AB_DU_sum         0.541997  0.749342  \n",
       "CC_FR_mul         0.688476  0.763908  \n",
       "AX_EG_mul        17.612864  0.772209  \n",
       "AB_GH_mul         1.188154  0.781600  \n",
       "AB_FE_mul        29.692603  0.797052  \n",
       "AB_FI_mul         2.221904  0.802926  \n",
       "BQ_DI_sum         7.892990  0.820924  \n",
       "BQ_EL_mul         7.390395  0.846173  \n",
       "tsne_Component2   1.164187  0.858600  \n",
       "CR_DE_mul         0.367966  0.876059  \n",
       "AB_GL_mul        19.287573  0.886206  \n",
       "DL_EE_mul         0.004848  0.895929  \n",
       "CR_FC_mul         3.996530  0.896404  \n",
       "AB_BD_mul         0.006531  0.897073  "
      ]
     },
     "execution_count": 37,
     "metadata": {},
     "output_type": "execute_result"
    }
   ],
   "source": [
    "features_df_nonull.sort_values(by =\"CV\", ascending = True).head(30)"
   ]
  },
  {
   "cell_type": "code",
   "execution_count": null,
   "id": "3e50db6f",
   "metadata": {},
   "outputs": [],
   "source": []
  }
 ],
 "metadata": {
  "kernelspec": {
   "display_name": "Python 3 (ipykernel)",
   "language": "python",
   "name": "python3"
  },
  "language_info": {
   "codemirror_mode": {
    "name": "ipython",
    "version": 3
   },
   "file_extension": ".py",
   "mimetype": "text/x-python",
   "name": "python",
   "nbconvert_exporter": "python",
   "pygments_lexer": "ipython3",
   "version": "3.11.3"
  }
 },
 "nbformat": 4,
 "nbformat_minor": 5
}
